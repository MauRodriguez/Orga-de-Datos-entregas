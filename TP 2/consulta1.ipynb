{
 "cells": [
  {
   "cell_type": "markdown",
   "id": "f1ec7548-258b-4d2a-b483-072a182f9a80",
   "metadata": {},
   "source": [
    "# 1. Considerando los logs de acciones realizadas sobre ítems, mostrar el top 10 de ids de ítems que fueron afectados por mayor cantidad usuarios distintos (*)"
   ]
  },
  {
   "cell_type": "code",
   "execution_count": 1,
   "id": "b8ec8cc6-c982-40fe-aa83-54053256debc",
   "metadata": {},
   "outputs": [],
   "source": [
    "from pyspark.sql import *\n",
    "from pyspark.sql.functions import *\n",
    "from pyspark.sql import SQLContext\n",
    "import pandas as pd\n",
    "import numpy as np\n",
    "import os"
   ]
  },
  {
   "cell_type": "code",
   "execution_count": 2,
   "id": "3eedb2c5-53cc-469b-9821-c475c066b3ea",
   "metadata": {},
   "outputs": [],
   "source": [
    "spark = SparkSession.builder.getOrCreate()\n",
    "sc = spark.sparkContext\n",
    "sqlContext = SQLContext(sc)"
   ]
  },
  {
   "cell_type": "code",
   "execution_count": 3,
   "id": "2e112f68-e39c-472c-99d1-b6f20b07de26",
   "metadata": {},
   "outputs": [
    {
     "data": {
      "text/plain": [
       "[Row(item_id=1, timestamp='2004-12-23T07:10:09Z', contributor_username='Sabbut', contributor_id=2075.0, contributor_ip=None, comment=\"el contenido era: 'Si aprendés Pensamiento Científico ... TE VA S AENTERAR'\", logtype='delete', action='delete', title='Verificacionismo'),\n",
       " Row(item_id=2, timestamp='2004-12-23T07:14:09Z', contributor_username='Sabbut', contributor_id=2075.0, contributor_ip=None, comment=\"el contenido era: '{{destruir}}en algun lugar lejano pero tan cerca como el largo del cuello de una jirafa se encontraba una torre'\", logtype='delete', action='delete', title='Rapunzel'),\n",
       " Row(item_id=3, timestamp='2004-12-23T07:26:10Z', contributor_username='Sabbut', contributor_id=2075.0, contributor_ip=None, comment=\"el contenido era: '#REDIRECT [[Flash]]'\", logtype='delete', action='delete', title='Macromedia Flash'),\n",
       " Row(item_id=4, timestamp='2004-12-23T07:55:09Z', contributor_username='Sanbec', contributor_id=7856.0, contributor_ip=None, comment='Sin información de origen ni de licencia. Hay alternativas en commons', logtype='delete', action='delete', title='Archivo:Gnu head.png'),\n",
       " Row(item_id=5, timestamp='2004-12-23T08:02:22Z', contributor_username='Sanbec', contributor_id=7856.0, contributor_ip=None, comment='Sustituida por  [[commons:Image:Heckert_GNU.png]]', logtype='delete', action='delete', title='Archivo:Gnu-head-sm.jpg')]"
      ]
     },
     "execution_count": 3,
     "metadata": {},
     "output_type": "execute_result"
    }
   ],
   "source": [
    "#df = pd.read_csv('Wikipedia dataset 2c2021/redirect_list.csv')\n",
    "#df.to_parquet('redirect_list.parquet')\n",
    "#del df\n",
    "logs_ori = sqlContext.read.parquet('Wikipedia dataset 2c2021/logs.parquet').rdd\n",
    "logs_ori.take(5)"
   ]
  },
  {
   "cell_type": "code",
   "execution_count": 4,
   "id": "0a4ba455-2eed-4310-97c7-72c935bd8857",
   "metadata": {},
   "outputs": [
    {
     "data": {
      "text/plain": [
       "[Row(title='Wikipedia:Artículos solicitados', id=5, namespace=4, revision_id=132533307, parent_revision=132516631.0, revision_timestamp='2021-01-19T18:40:34Z', revisor_username='Metrónomo', revisor_id=1708233.0, revisor_ip=None, revisor_comment='Así esta mejor'),\n",
       " Row(title='Andorra', id=7, namespace=0, revision_id=138035057, parent_revision=138027475.0, revision_timestamp='2021-08-31T18:27:01Z', revisor_username=None, revisor_id=None, revisor_ip='2800:CD0:FC1B:A900:C5A4:9E81:7175:2ED2', revisor_comment='Añadir contenido'),\n",
       " Row(title='Argentina', id=10, namespace=0, revision_id=137966826, parent_revision=137825165.0, revision_timestamp='2021-08-28T17:17:54Z', revisor_username='Traitrich', revisor_id=4642283.0, revisor_ip=None, revisor_comment='Reemplazos con [[Usuario:Benjavalero/Replacer|Replacer]]: «simbolos»'),\n",
       " Row(title='Geografía de Andorra', id=15, namespace=0, revision_id=137986788, parent_revision=133666383.0, revision_timestamp='2021-08-29T17:16:00Z', revisor_username='Lojwe', revisor_id=5338508.0, revisor_ip=None, revisor_comment='Reemplazos con [[Usuario:Benjavalero/Replacer|Replacer]]: «m.»'),\n",
       " Row(title='Demografía de Andorra', id=17, namespace=0, revision_id=130869554, parent_revision=129413188.0, revision_timestamp='2020-11-12T19:56:15Z', revisor_username='Jialxv', revisor_id=3615366.0, revisor_ip=None, revisor_comment='Correcciones ortográficas con [[Usuario:Benjavalero/Replacer|Replacer]] (herramienta en línea de revisión de errores)')]"
      ]
     },
     "execution_count": 4,
     "metadata": {},
     "output_type": "execute_result"
    }
   ],
   "source": [
    "#df2 = pd.read_csv('Wikipedia dataset 2c2021/contents.csv')\n",
    "#df2.to_parquet('contents.parquet')\n",
    "#del df2\n",
    "contents_ori = sqlContext.read.parquet('Wikipedia dataset 2c2021/contents.parquet').rdd\n",
    "contents_ori.take(5)"
   ]
  },
  {
   "cell_type": "code",
   "execution_count": 5,
   "id": "b48f9274-6999-42d2-bccc-9ea4e4e68199",
   "metadata": {},
   "outputs": [],
   "source": [
    "logs = logs_ori.map(lambda x: (x[8],(x[2] if x[2] is not None else x[4]))).filter(lambda x: (x[0] is not None) & (x[1] is not None))"
   ]
  },
  {
   "cell_type": "code",
   "execution_count": 6,
   "id": "76e52413-b185-40b0-9207-ce61ad29a820",
   "metadata": {},
   "outputs": [],
   "source": [
    "contents = contents_ori.map(lambda x: (x[0],1)).filter(lambda x: (x[0] is not None))"
   ]
  },
  {
   "cell_type": "code",
   "execution_count": 7,
   "id": "8611dac6-3a70-4653-a2ae-a3cf7365fae9",
   "metadata": {},
   "outputs": [
    {
     "data": {
      "text/plain": [
       "[('Wikipedia:Artículos solicitados', 1), ('Andorra', 1)]"
      ]
     },
     "execution_count": 7,
     "metadata": {},
     "output_type": "execute_result"
    }
   ],
   "source": [
    "contents.take(2)"
   ]
  },
  {
   "cell_type": "code",
   "execution_count": 8,
   "id": "9bda3938-dfc2-42a9-936b-735a0eebee19",
   "metadata": {},
   "outputs": [
    {
     "data": {
      "text/plain": [
       "[('Verificacionismo', 'Sabbut'), ('Rapunzel', 'Sabbut')]"
      ]
     },
     "execution_count": 8,
     "metadata": {},
     "output_type": "execute_result"
    }
   ],
   "source": [
    "logs.take(2)"
   ]
  },
  {
   "cell_type": "code",
   "execution_count": 9,
   "id": "2dcd6903-997b-45c8-b296-9c397873afba",
   "metadata": {},
   "outputs": [
    {
     "data": {
      "text/plain": [
       "12186830"
      ]
     },
     "execution_count": 9,
     "metadata": {},
     "output_type": "execute_result"
    }
   ],
   "source": [
    "logs.count()"
   ]
  },
  {
   "cell_type": "code",
   "execution_count": 10,
   "id": "529a9d9f-5eaf-404a-b9ed-e73040e786fe",
   "metadata": {},
   "outputs": [],
   "source": [
    "logs = logs.distinct()"
   ]
  },
  {
   "cell_type": "code",
   "execution_count": 11,
   "id": "d77f2e0c-f93b-4665-9884-52053db49663",
   "metadata": {},
   "outputs": [
    {
     "data": {
      "text/plain": [
       "11652041"
      ]
     },
     "execution_count": 11,
     "metadata": {},
     "output_type": "execute_result"
    }
   ],
   "source": [
    "logs.count()"
   ]
  },
  {
   "cell_type": "code",
   "execution_count": 12,
   "id": "9e02d8ec-263c-4e35-931d-c15e68c05592",
   "metadata": {},
   "outputs": [
    {
     "data": {
      "text/plain": [
       "[('Iglesia Parroquial de San Pedro y San Pablo', ('CEM-air', 1)),\n",
       " ('Categoría:Médicos por país y especialidad', ('Mercenario97', 1))]"
      ]
     },
     "execution_count": 12,
     "metadata": {},
     "output_type": "execute_result"
    }
   ],
   "source": [
    "merge = logs.join(contents)\n",
    "merge.take(2)"
   ]
  },
  {
   "cell_type": "code",
   "execution_count": 13,
   "id": "c6930c08-c5a5-47d0-9403-0cfa04d65491",
   "metadata": {},
   "outputs": [],
   "source": [
    "merge = merge.map(lambda x: (x[0],1)).reduceByKey(lambda a,b: a + b)"
   ]
  },
  {
   "cell_type": "code",
   "execution_count": 14,
   "id": "40ee59fe-b189-446a-8cc6-21e4d4226a1a",
   "metadata": {},
   "outputs": [
    {
     "data": {
      "text/plain": [
       "[('Iglesia Parroquial de San Pedro y San Pablo', 1),\n",
       " ('Categoría:Médicos por país y especialidad', 1)]"
      ]
     },
     "execution_count": 14,
     "metadata": {},
     "output_type": "execute_result"
    }
   ],
   "source": [
    "merge.take(2)"
   ]
  },
  {
   "cell_type": "code",
   "execution_count": 15,
   "id": "7558f24b-dec1-482e-b926-2cef3fbb16a6",
   "metadata": {},
   "outputs": [],
   "source": [
    "top_10 = merge.takeOrdered(10,lambda x: -x[1])"
   ]
  },
  {
   "cell_type": "markdown",
   "id": "b3a6822f-2216-440c-aebf-1085f6ddbbe8",
   "metadata": {},
   "source": [
    "## En limpio"
   ]
  },
  {
   "cell_type": "code",
   "execution_count": 16,
   "id": "5f450a7d-b227-421c-a787-d3c4b82e25ce",
   "metadata": {},
   "outputs": [],
   "source": [
    "logs = logs_ori.map(lambda x: (x[8],(x[2] if x[2] is not None else x[4]))).filter(lambda x: (x[0] is not None) & (x[1] is not None)).distinct()"
   ]
  },
  {
   "cell_type": "code",
   "execution_count": 17,
   "id": "b123135c-0dac-4f5c-b98b-3af46514a920",
   "metadata": {},
   "outputs": [],
   "source": [
    "contents = contents_ori.map(lambda x: (x[0],1)).filter(lambda x: (x[0] is not None))"
   ]
  },
  {
   "cell_type": "code",
   "execution_count": 18,
   "id": "2235cf00-db22-4c8d-ab9c-52d83c503423",
   "metadata": {},
   "outputs": [],
   "source": [
    "merge = logs.join(contents)"
   ]
  },
  {
   "cell_type": "code",
   "execution_count": 19,
   "id": "32681e75-f4b4-45d6-9754-5aa9ae2b2630",
   "metadata": {},
   "outputs": [],
   "source": [
    "merge = merge.map(lambda x: (x[0],1)).reduceByKey(lambda a,b: a + b)"
   ]
  },
  {
   "cell_type": "code",
   "execution_count": 23,
   "id": "1c133c51-b5ac-4a91-b0d4-e2e5eb033fa4",
   "metadata": {},
   "outputs": [
    {
     "data": {
      "text/plain": [
       "[('Wikipedia:Tablón de anuncios de los bibliotecarios/Portal/Archivo/Miscelánea/Actual',\n",
       "  46),\n",
       " ('Wikipedia:Vandalismo en curso', 42),\n",
       " ('Wikipedia:Tablón de anuncios de los bibliotecarios/Portal/Archivo/Violaciones de etiqueta/Actual',\n",
       "  34),\n",
       " ('Wikipedia:Informes de error', 34),\n",
       " ('Bill Kaulitz', 32),\n",
       " ('Wikipedia', 31),\n",
       " ('Los Simpson', 31),\n",
       " ('Nombre de pila chino', 31),\n",
       " ('Don Omar', 31),\n",
       " ('Agilidad', 30)]"
      ]
     },
     "execution_count": 23,
     "metadata": {},
     "output_type": "execute_result"
    }
   ],
   "source": [
    "top_10 = merge.takeOrdered(10,lambda x: -x[1])\n",
    "top_10"
   ]
  },
  {
   "cell_type": "code",
   "execution_count": null,
   "id": "7b8152fe-581e-42c2-9347-07694c1e0c5c",
   "metadata": {},
   "outputs": [],
   "source": []
  }
 ],
 "metadata": {
  "kernelspec": {
   "display_name": "Python 3",
   "language": "python",
   "name": "python3"
  },
  "language_info": {
   "codemirror_mode": {
    "name": "ipython",
    "version": 3
   },
   "file_extension": ".py",
   "mimetype": "text/x-python",
   "name": "python",
   "nbconvert_exporter": "python",
   "pygments_lexer": "ipython3",
   "version": "3.8.10"
  }
 },
 "nbformat": 4,
 "nbformat_minor": 5
}
