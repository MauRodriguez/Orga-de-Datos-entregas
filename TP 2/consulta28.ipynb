{
 "cells": [
  {
   "cell_type": "markdown",
   "id": "d593b448-fa6d-45f4-b7ad-9fe940123e50",
   "metadata": {},
   "source": [
    "# 28. El porcentaje de contenidos que están publicados cuya última edición no tiene comentario para los usuarios que realizaron 1, >10 y >100 de las últimas ediciones (**)"
   ]
  },
  {
   "cell_type": "code",
   "execution_count": 1,
   "id": "cee4109e-211e-4bb2-bc66-f351e1b27fc6",
   "metadata": {},
   "outputs": [],
   "source": [
    "from pyspark.sql import *\n",
    "from pyspark.sql.functions import *\n",
    "from pyspark.sql import SQLContext\n",
    "import pandas as pd\n",
    "import numpy as np\n",
    "import os"
   ]
  },
  {
   "cell_type": "code",
   "execution_count": 2,
   "id": "04336a83-b732-4cd3-8586-7c3e87155a8c",
   "metadata": {},
   "outputs": [],
   "source": [
    "spark = SparkSession.builder.getOrCreate()\n",
    "sc = spark.sparkContext\n",
    "sqlContext = SQLContext(sc)"
   ]
  },
  {
   "cell_type": "code",
   "execution_count": 3,
   "id": "8f4db400-ffdc-4152-a880-6c950bcb78a8",
   "metadata": {
    "tags": []
   },
   "outputs": [
    {
     "data": {
      "text/plain": [
       "[Row(title='Wikipedia:Artículos solicitados', id=5, namespace=4, revision_id=132533307, parent_revision=132516631.0, revision_timestamp='2021-01-19T18:40:34Z', revisor_username='Metrónomo', revisor_id=1708233.0, revisor_ip=None, revisor_comment='Así esta mejor'),\n",
       " Row(title='Andorra', id=7, namespace=0, revision_id=138035057, parent_revision=138027475.0, revision_timestamp='2021-08-31T18:27:01Z', revisor_username=None, revisor_id=None, revisor_ip='2800:CD0:FC1B:A900:C5A4:9E81:7175:2ED2', revisor_comment='Añadir contenido'),\n",
       " Row(title='Argentina', id=10, namespace=0, revision_id=137966826, parent_revision=137825165.0, revision_timestamp='2021-08-28T17:17:54Z', revisor_username='Traitrich', revisor_id=4642283.0, revisor_ip=None, revisor_comment='Reemplazos con [[Usuario:Benjavalero/Replacer|Replacer]]: «simbolos»'),\n",
       " Row(title='Geografía de Andorra', id=15, namespace=0, revision_id=137986788, parent_revision=133666383.0, revision_timestamp='2021-08-29T17:16:00Z', revisor_username='Lojwe', revisor_id=5338508.0, revisor_ip=None, revisor_comment='Reemplazos con [[Usuario:Benjavalero/Replacer|Replacer]]: «m.»'),\n",
       " Row(title='Demografía de Andorra', id=17, namespace=0, revision_id=130869554, parent_revision=129413188.0, revision_timestamp='2020-11-12T19:56:15Z', revisor_username='Jialxv', revisor_id=3615366.0, revisor_ip=None, revisor_comment='Correcciones ortográficas con [[Usuario:Benjavalero/Replacer|Replacer]] (herramienta en línea de revisión de errores)')]"
      ]
     },
     "execution_count": 3,
     "metadata": {},
     "output_type": "execute_result"
    }
   ],
   "source": [
    "contents_ori = sqlContext.read.parquet('Wikipedia dataset 2c2021/contents.parquet').rdd\n",
    "contents_ori.take(5)"
   ]
  },
  {
   "cell_type": "code",
   "execution_count": 8,
   "id": "469464ba-1a86-4ab0-a6a1-966794790648",
   "metadata": {},
   "outputs": [
    {
     "data": {
      "text/plain": [
       "[('Metrónomo', (1, 1)), ('2800:CD0:FC1B:A900:C5A4:9E81:7175:2ED2', (1, 1))]"
      ]
     },
     "execution_count": 8,
     "metadata": {},
     "output_type": "execute_result"
    }
   ],
   "source": [
    "contents = contents_ori.map(lambda x: ((x[6] if x[6] is not None else x[8]),(0 if x[9] is None else 1, 1)))\n",
    "contents.take(2)"
   ]
  },
  {
   "cell_type": "code",
   "execution_count": 10,
   "id": "83b2dbeb-8831-4202-8efc-d382da720fa9",
   "metadata": {},
   "outputs": [
    {
     "data": {
      "text/plain": [
       "[('Arctos71', (9, 47)), ('InternetArchiveBot', (61756, 61756))]"
      ]
     },
     "execution_count": 10,
     "metadata": {},
     "output_type": "execute_result"
    }
   ],
   "source": [
    "contents = contents.reduceByKey(lambda a, b: (a[0]+b[0], a[1]+b[1]))\n",
    "contents.take(2)"
   ]
  },
  {
   "cell_type": "markdown",
   "id": "200ac73d-8ac3-4873-9dff-aeaa9e9902a2",
   "metadata": {},
   "source": [
    "## == 1"
   ]
  },
  {
   "cell_type": "code",
   "execution_count": 43,
   "id": "021a90fc-1f33-42f0-9690-632c5becbcea",
   "metadata": {},
   "outputs": [
    {
     "data": {
      "text/plain": [
       "[('45.71.202.51', (0, 1)), ('81.0.38.70', (1, 1))]"
      ]
     },
     "execution_count": 43,
     "metadata": {},
     "output_type": "execute_result"
    }
   ],
   "source": [
    "solo1 = contents.filter(lambda x: x[1][1] == 1)\n",
    "solo1.take(2)"
   ]
  },
  {
   "cell_type": "code",
   "execution_count": 47,
   "id": "602ac468-47cb-4bad-8019-aadbec59876b",
   "metadata": {
    "tags": []
   },
   "outputs": [
    {
     "data": {
      "text/plain": [
       "35.21556458220743"
      ]
     },
     "execution_count": 47,
     "metadata": {},
     "output_type": "execute_result"
    }
   ],
   "source": [
    "comentados_solo1 = solo1.map(lambda x: x[1][0]).reduce(lambda a, b: a+b)\n",
    "editados_solo1 = solo1.map(lambda x: x[1][1]).reduce(lambda a, b: a+b)\n",
    "porcentage_solo1 = ((editados_solo1 - comentados_solo1)/editados_solo1)*100\n",
    "porcentage_solo1"
   ]
  },
  {
   "cell_type": "markdown",
   "id": "cb3caa95-713d-48ab-8aca-954c1ef09d81",
   "metadata": {},
   "source": [
    "## > 10"
   ]
  },
  {
   "cell_type": "code",
   "execution_count": 45,
   "id": "5d350b9d-fd2c-413c-b3b1-3d07b98d6bc7",
   "metadata": {},
   "outputs": [
    {
     "data": {
      "text/plain": [
       "[('Arctos71', (9, 47)), ('InternetArchiveBot', (61756, 61756))]"
      ]
     },
     "execution_count": 45,
     "metadata": {},
     "output_type": "execute_result"
    }
   ],
   "source": [
    "mayor10 = contents.filter(lambda x: x[1][1] > 10)\n",
    "mayor10.take(2)"
   ]
  },
  {
   "cell_type": "code",
   "execution_count": 48,
   "id": "21c0545b-e1a3-47b2-9aa0-59351b0ecf71",
   "metadata": {
    "tags": []
   },
   "outputs": [
    {
     "data": {
      "text/plain": [
       "10.140649236405128"
      ]
     },
     "execution_count": 48,
     "metadata": {},
     "output_type": "execute_result"
    }
   ],
   "source": [
    "comentados_mayor10 = mayor10.map(lambda x: x[1][0]).reduce(lambda a, b: a+b)\n",
    "editados_mayor10 = mayor10.map(lambda x: x[1][1]).reduce(lambda a, b: a+b)\n",
    "porcentage_mayor10 = ((editados_mayor10 - comentados_mayor10)/editados_mayor10)*100\n",
    "porcentage_mayor10"
   ]
  },
  {
   "cell_type": "markdown",
   "id": "b00dd2f0-1c11-450f-9c9a-f5445b124c9b",
   "metadata": {},
   "source": [
    "## > 100"
   ]
  },
  {
   "cell_type": "code",
   "execution_count": 50,
   "id": "63da0bc0-9f6d-4b40-8888-dac7f958c1c4",
   "metadata": {},
   "outputs": [
    {
     "data": {
      "text/plain": [
       "[('InternetArchiveBot', (61756, 61756)), ('Telephone Directory', (12, 229))]"
      ]
     },
     "execution_count": 50,
     "metadata": {},
     "output_type": "execute_result"
    }
   ],
   "source": [
    "mayor100 = contents.filter(lambda x: x[1][1] > 100)\n",
    "mayor100.take(2)"
   ]
  },
  {
   "cell_type": "code",
   "execution_count": 51,
   "id": "ad95c4e1-cac2-4bb3-bf01-45ef67eaa851",
   "metadata": {
    "tags": []
   },
   "outputs": [
    {
     "data": {
      "text/plain": [
       "9.365573554956518"
      ]
     },
     "execution_count": 51,
     "metadata": {},
     "output_type": "execute_result"
    }
   ],
   "source": [
    "comentados_mayor100 = mayor100.map(lambda x: x[1][0]).reduce(lambda a, b: a+b)\n",
    "editados_mayor100 = mayor100.map(lambda x: x[1][1]).reduce(lambda a, b: a+b)\n",
    "porcentage_mayor100 = ((editados_mayor100 - comentados_mayor100)/editados_mayor100)*100\n",
    "porcentage_mayor100"
   ]
  },
  {
   "cell_type": "code",
   "execution_count": null,
   "id": "c3094737-d4d9-4655-968d-f4c13403b9d2",
   "metadata": {},
   "outputs": [],
   "source": []
  }
 ],
 "metadata": {
  "kernelspec": {
   "display_name": "Python 3",
   "language": "python",
   "name": "python3"
  },
  "language_info": {
   "codemirror_mode": {
    "name": "ipython",
    "version": 3
   },
   "file_extension": ".py",
   "mimetype": "text/x-python",
   "name": "python",
   "nbconvert_exporter": "python",
   "pygments_lexer": "ipython3",
   "version": "3.8.10"
  }
 },
 "nbformat": 4,
 "nbformat_minor": 5
}
