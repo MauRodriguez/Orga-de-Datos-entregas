{
 "cells": [
  {
   "cell_type": "markdown",
   "id": "bf5b6035-8e90-453d-b675-13419fbf506a",
   "metadata": {},
   "source": [
    "# 8. Considerando el pagelink_sample.csv, usando una representación de grafos obtener aquellos contenidos que tienen “relaciones no correspondidas”. Entendemos como funciona una relación correspondida con un ejemplo: Si el contenido A tiene un link al B, pero B no tiene un link a A, podemos decir que B tiene una relación no correspondida con A.  (***)"
   ]
  },
  {
   "cell_type": "code",
   "execution_count": 1,
   "id": "44baa8f8-df7e-48ea-ab36-005c11e7582b",
   "metadata": {},
   "outputs": [],
   "source": [
    "from pyspark.sql import *\n",
    "from pyspark.sql.functions import *\n",
    "from pyspark.sql import SQLContext\n",
    "import pandas as pd\n",
    "import numpy as np\n",
    "import os"
   ]
  },
  {
   "cell_type": "code",
   "execution_count": 2,
   "id": "45a96865-d918-43ec-b9b3-d6a481c56189",
   "metadata": {},
   "outputs": [],
   "source": [
    "spark = SparkSession.builder.getOrCreate()\n",
    "sc = spark.sparkContext\n",
    "sqlContext = SQLContext(sc)"
   ]
  },
  {
   "cell_type": "code",
   "execution_count": 3,
   "id": "67e1aec1-da38-48a5-abb2-74221041ab03",
   "metadata": {},
   "outputs": [],
   "source": [
    "#df = pd.read_csv('Wikipedia dataset 2c2021/pagelinks_sample.csv', usecols = [\"pl_from\",\"pl_title\"])"
   ]
  },
  {
   "cell_type": "code",
   "execution_count": 4,
   "id": "f4caf4c3-1ba3-43a9-acf4-201081ca362b",
   "metadata": {},
   "outputs": [],
   "source": [
    "#df = df.sample(frac = 0.25)\n",
    "#df.to_parquet('Wikipedia dataset 2c2021/pagelinks_sample.parquet')\n",
    "#del df"
   ]
  },
  {
   "cell_type": "markdown",
   "id": "6f5303e2-37bc-49a6-8a83-c28bc565ba54",
   "metadata": {},
   "source": [
    "### Tuve que filtrar el csv en pandas y tomar un samples tanto de plinks como que content porque si no no había forma de que lo levantara (con sample de 0.5 se colgaba)"
   ]
  },
  {
   "cell_type": "code",
   "execution_count": 5,
   "id": "50f4c9f9-bb16-4655-867d-c18e70302dfc",
   "metadata": {
    "tags": []
   },
   "outputs": [],
   "source": [
    "pagelink_ori = sqlContext.read.parquet('Wikipedia dataset 2c2021/pagelinks_sample.parquet').rdd"
   ]
  },
  {
   "cell_type": "code",
   "execution_count": 6,
   "id": "72cfcde6-0441-472e-96f7-ed1122484305",
   "metadata": {},
   "outputs": [
    {
     "data": {
      "text/plain": [
       "[Row(pl_from=6862922, pl_title='PatruBOT', __index_level_0__=22895178),\n",
       " Row(pl_from=7731553, pl_title='Instituto_de_Estudios_PolÃ\\xadticos', __index_level_0__=29866549)]"
      ]
     },
     "execution_count": 6,
     "metadata": {},
     "output_type": "execute_result"
    }
   ],
   "source": [
    "pagelink_ori.take(2)"
   ]
  },
  {
   "cell_type": "code",
   "execution_count": 7,
   "id": "e6195b30-5f39-4fe5-924a-0796352caca6",
   "metadata": {
    "tags": []
   },
   "outputs": [
    {
     "data": {
      "text/plain": [
       "[Row(title='Wikipedia:Artículos solicitados', id=5, namespace=4, revision_id=132533307, parent_revision=132516631.0, revision_timestamp='2021-01-19T18:40:34Z', revisor_username='Metrónomo', revisor_id=1708233.0, revisor_ip=None, revisor_comment='Así esta mejor'),\n",
       " Row(title='Andorra', id=7, namespace=0, revision_id=138035057, parent_revision=138027475.0, revision_timestamp='2021-08-31T18:27:01Z', revisor_username=None, revisor_id=None, revisor_ip='2800:CD0:FC1B:A900:C5A4:9E81:7175:2ED2', revisor_comment='Añadir contenido')]"
      ]
     },
     "execution_count": 7,
     "metadata": {},
     "output_type": "execute_result"
    }
   ],
   "source": [
    "content_ori = sqlContext.read.parquet('Wikipedia dataset 2c2021/contents.parquet').rdd\n",
    "content_ori.take(2)"
   ]
  },
  {
   "cell_type": "code",
   "execution_count": 8,
   "id": "b83f656c-f168-45d1-9696-b5b0c23d7487",
   "metadata": {},
   "outputs": [
    {
     "data": {
      "text/plain": [
       "[('Andorra', 7),\n",
       " ('Argentina', 10),\n",
       " ('Geografía de Andorra', 15),\n",
       " ('Demografía de Andorra', 17),\n",
       " ('Artes visuales', 19)]"
      ]
     },
     "execution_count": 8,
     "metadata": {},
     "output_type": "execute_result"
    }
   ],
   "source": [
    "#content rdd: (title, id)\n",
    "content = content_ori.map(lambda x: (x[0],x[1])).sample(False,0.6)\n",
    "content.take(5)"
   ]
  },
  {
   "cell_type": "code",
   "execution_count": 9,
   "id": "abe34b6d-ddff-4b6c-92a7-310069b9abbd",
   "metadata": {},
   "outputs": [
    {
     "data": {
      "text/plain": [
       "[('PatruBOT', 6862922), ('Instituto_de_Estudios_PolÃ\\xadticos', 7731553)]"
      ]
     },
     "execution_count": 9,
     "metadata": {},
     "output_type": "execute_result"
    }
   ],
   "source": [
    "#pagelink rdd, (title pointed, id that point)\n",
    "pagelink = pagelink_ori.map(lambda x: (x[1],x[0]))\n",
    "pagelink.take(2)"
   ]
  },
  {
   "cell_type": "code",
   "execution_count": 10,
   "id": "ae7c2536-f969-46a8-9399-a122b9a63f60",
   "metadata": {
    "tags": []
   },
   "outputs": [
    {
     "data": {
      "text/plain": [
       "[('Monje', (4693315, 7428024)), ('Monje', (715057, 7428024))]"
      ]
     },
     "execution_count": 10,
     "metadata": {},
     "output_type": "execute_result"
    }
   ],
   "source": [
    "join = pagelink.join(content)\n",
    "join.take(2)"
   ]
  },
  {
   "cell_type": "code",
   "execution_count": 11,
   "id": "25a0e59e-d4b5-4af6-b878-470b0d4c1e5b",
   "metadata": {},
   "outputs": [
    {
     "data": {
      "text/plain": [
       "[(4693315, 7428024), (715057, 7428024)]"
      ]
     },
     "execution_count": 11,
     "metadata": {},
     "output_type": "execute_result"
    }
   ],
   "source": [
    "#A ---> B , (A,B)\n",
    "a_point_to_b = join.map(lambda x: (x[1][0],x[1][1]))\n",
    "a_point_to_b.take(2)"
   ]
  },
  {
   "cell_type": "code",
   "execution_count": 12,
   "id": "81828ae0-78c6-46e3-a47b-ad32b782b1ef",
   "metadata": {},
   "outputs": [
    {
     "data": {
      "text/plain": [
       "[(163056, [7428024, 20666, 6823, 4133027]), (4806120, [7428024, 63104])]"
      ]
     },
     "execution_count": 12,
     "metadata": {},
     "output_type": "execute_result"
    }
   ],
   "source": [
    "#(A, (LIST B1, B2, B3, ETC))\n",
    "a_point_to_list = a_point_to_b.groupByKey().map(lambda x: (x[0], list(x[1])))\n",
    "a_point_to_list.take(2)"
   ]
  },
  {
   "cell_type": "code",
   "execution_count": 13,
   "id": "f6edcf91-3485-49cf-80bc-5d53df3a7f39",
   "metadata": {},
   "outputs": [
    {
     "data": {
      "text/plain": [
       "[(7428024, 4693315), (7428024, 715057)]"
      ]
     },
     "execution_count": 13,
     "metadata": {},
     "output_type": "execute_result"
    }
   ],
   "source": [
    "# (B <--- A)\n",
    "b_point_by_a = a_point_to_b.map(lambda x: (x[1],x[0]))\n",
    "b_point_by_a.take(2)"
   ]
  },
  {
   "cell_type": "code",
   "execution_count": 14,
   "id": "83b49066-c91d-45a7-963b-1acfe69f0973",
   "metadata": {},
   "outputs": [
    {
     "data": {
      "text/plain": [
       "[(7428024,\n",
       "  (4693315,\n",
       "   [111033, 48082, 1173, 1834856, 723953, 692766, 617378, 611531, 5291797])),\n",
       " (7428024,\n",
       "  (715057,\n",
       "   [111033, 48082, 1173, 1834856, 723953, 692766, 617378, 611531, 5291797]))]"
      ]
     },
     "execution_count": 14,
     "metadata": {},
     "output_type": "execute_result"
    }
   ],
   "source": [
    "#B, A, (B point to list)\n",
    "final_join = b_point_by_a.join(a_point_to_list)\n",
    "final_join.take(2)"
   ]
  },
  {
   "cell_type": "code",
   "execution_count": 15,
   "id": "e16fca76-9e9b-4ae7-a475-68da7928f5de",
   "metadata": {},
   "outputs": [],
   "source": [
    "#se fija si x se encuentra en list. Si se encuentra devuelve false, de lo contrario true.\n",
    "def funcion(x,list):\n",
    "    for i in list:\n",
    "        if (i == x):\n",
    "            return False\n",
    "    return True"
   ]
  },
  {
   "cell_type": "code",
   "execution_count": 16,
   "id": "bdeb0570-d9e3-4a20-b587-e287bdc298b8",
   "metadata": {},
   "outputs": [],
   "source": [
    "resultado = final_join.filter(lambda x: funcion(x[1][0],x[1][1]))"
   ]
  },
  {
   "cell_type": "code",
   "execution_count": 17,
   "id": "d28ebbf8-ca40-4b5e-99ff-c281ce32a167",
   "metadata": {},
   "outputs": [
    {
     "data": {
      "text/plain": [
       "[(7428024,\n",
       "  (4693315,\n",
       "   [111033, 48082, 1173, 1834856, 723953, 692766, 617378, 611531, 5291797])),\n",
       " (7428024,\n",
       "  (715057,\n",
       "   [111033, 48082, 1173, 1834856, 723953, 692766, 617378, 611531, 5291797])),\n",
       " (7428024,\n",
       "  (9640950,\n",
       "   [111033, 48082, 1173, 1834856, 723953, 692766, 617378, 611531, 5291797])),\n",
       " (7428024,\n",
       "  (241325,\n",
       "   [111033, 48082, 1173, 1834856, 723953, 692766, 617378, 611531, 5291797])),\n",
       " (7428024,\n",
       "  (5422609,\n",
       "   [111033, 48082, 1173, 1834856, 723953, 692766, 617378, 611531, 5291797])),\n",
       " (7428024,\n",
       "  (1006445,\n",
       "   [111033, 48082, 1173, 1834856, 723953, 692766, 617378, 611531, 5291797])),\n",
       " (7428024,\n",
       "  (4734094,\n",
       "   [111033, 48082, 1173, 1834856, 723953, 692766, 617378, 611531, 5291797])),\n",
       " (7428024,\n",
       "  (163056,\n",
       "   [111033, 48082, 1173, 1834856, 723953, 692766, 617378, 611531, 5291797])),\n",
       " (7428024,\n",
       "  (5223668,\n",
       "   [111033, 48082, 1173, 1834856, 723953, 692766, 617378, 611531, 5291797])),\n",
       " (7428024,\n",
       "  (4806120,\n",
       "   [111033, 48082, 1173, 1834856, 723953, 692766, 617378, 611531, 5291797])),\n",
       " (7428024,\n",
       "  (4134448,\n",
       "   [111033, 48082, 1173, 1834856, 723953, 692766, 617378, 611531, 5291797])),\n",
       " (7428024,\n",
       "  (2591390,\n",
       "   [111033, 48082, 1173, 1834856, 723953, 692766, 617378, 611531, 5291797])),\n",
       " (7428024,\n",
       "  (7071156,\n",
       "   [111033, 48082, 1173, 1834856, 723953, 692766, 617378, 611531, 5291797])),\n",
       " (7428024,\n",
       "  (1094949,\n",
       "   [111033, 48082, 1173, 1834856, 723953, 692766, 617378, 611531, 5291797])),\n",
       " (7428024,\n",
       "  (230741,\n",
       "   [111033, 48082, 1173, 1834856, 723953, 692766, 617378, 611531, 5291797])),\n",
       " (7428024,\n",
       "  (2133020,\n",
       "   [111033, 48082, 1173, 1834856, 723953, 692766, 617378, 611531, 5291797])),\n",
       " (7428024,\n",
       "  (8186176,\n",
       "   [111033, 48082, 1173, 1834856, 723953, 692766, 617378, 611531, 5291797])),\n",
       " (7428024,\n",
       "  (9458483,\n",
       "   [111033, 48082, 1173, 1834856, 723953, 692766, 617378, 611531, 5291797])),\n",
       " (7428024,\n",
       "  (277219,\n",
       "   [111033, 48082, 1173, 1834856, 723953, 692766, 617378, 611531, 5291797])),\n",
       " (7428024,\n",
       "  (83494,\n",
       "   [111033, 48082, 1173, 1834856, 723953, 692766, 617378, 611531, 5291797])),\n",
       " (7428024,\n",
       "  (1303826,\n",
       "   [111033, 48082, 1173, 1834856, 723953, 692766, 617378, 611531, 5291797])),\n",
       " (7428024,\n",
       "  (6114420,\n",
       "   [111033, 48082, 1173, 1834856, 723953, 692766, 617378, 611531, 5291797])),\n",
       " (7428024,\n",
       "  (88440,\n",
       "   [111033, 48082, 1173, 1834856, 723953, 692766, 617378, 611531, 5291797])),\n",
       " (7428024,\n",
       "  (9270867,\n",
       "   [111033, 48082, 1173, 1834856, 723953, 692766, 617378, 611531, 5291797])),\n",
       " (7428024,\n",
       "  (4353351,\n",
       "   [111033, 48082, 1173, 1834856, 723953, 692766, 617378, 611531, 5291797])),\n",
       " (7428024,\n",
       "  (4942772,\n",
       "   [111033, 48082, 1173, 1834856, 723953, 692766, 617378, 611531, 5291797])),\n",
       " (7428024,\n",
       "  (9876421,\n",
       "   [111033, 48082, 1173, 1834856, 723953, 692766, 617378, 611531, 5291797])),\n",
       " (7428024,\n",
       "  (4178295,\n",
       "   [111033, 48082, 1173, 1834856, 723953, 692766, 617378, 611531, 5291797])),\n",
       " (7428024,\n",
       "  (7365923,\n",
       "   [111033, 48082, 1173, 1834856, 723953, 692766, 617378, 611531, 5291797])),\n",
       " (7428024,\n",
       "  (543272,\n",
       "   [111033, 48082, 1173, 1834856, 723953, 692766, 617378, 611531, 5291797])),\n",
       " (7428024,\n",
       "  (974591,\n",
       "   [111033, 48082, 1173, 1834856, 723953, 692766, 617378, 611531, 5291797])),\n",
       " (7428024,\n",
       "  (4977973,\n",
       "   [111033, 48082, 1173, 1834856, 723953, 692766, 617378, 611531, 5291797])),\n",
       " (7428024,\n",
       "  (8894809,\n",
       "   [111033, 48082, 1173, 1834856, 723953, 692766, 617378, 611531, 5291797])),\n",
       " (7428024,\n",
       "  (4645225,\n",
       "   [111033, 48082, 1173, 1834856, 723953, 692766, 617378, 611531, 5291797])),\n",
       " (7428024,\n",
       "  (998093,\n",
       "   [111033, 48082, 1173, 1834856, 723953, 692766, 617378, 611531, 5291797])),\n",
       " (7428024,\n",
       "  (1679090,\n",
       "   [111033, 48082, 1173, 1834856, 723953, 692766, 617378, 611531, 5291797])),\n",
       " (7428024,\n",
       "  (9998701,\n",
       "   [111033, 48082, 1173, 1834856, 723953, 692766, 617378, 611531, 5291797])),\n",
       " (7428024,\n",
       "  (6896,\n",
       "   [111033, 48082, 1173, 1834856, 723953, 692766, 617378, 611531, 5291797])),\n",
       " (7428024,\n",
       "  (5539967,\n",
       "   [111033, 48082, 1173, 1834856, 723953, 692766, 617378, 611531, 5291797])),\n",
       " (7428024,\n",
       "  (16516,\n",
       "   [111033, 48082, 1173, 1834856, 723953, 692766, 617378, 611531, 5291797])),\n",
       " (7428024,\n",
       "  (4999695,\n",
       "   [111033, 48082, 1173, 1834856, 723953, 692766, 617378, 611531, 5291797])),\n",
       " (7428024,\n",
       "  (2391333,\n",
       "   [111033, 48082, 1173, 1834856, 723953, 692766, 617378, 611531, 5291797])),\n",
       " (7428024,\n",
       "  (5675361,\n",
       "   [111033, 48082, 1173, 1834856, 723953, 692766, 617378, 611531, 5291797])),\n",
       " (7428024,\n",
       "  (1854064,\n",
       "   [111033, 48082, 1173, 1834856, 723953, 692766, 617378, 611531, 5291797])),\n",
       " (7428024,\n",
       "  (8660529,\n",
       "   [111033, 48082, 1173, 1834856, 723953, 692766, 617378, 611531, 5291797])),\n",
       " (7428024,\n",
       "  (9781114,\n",
       "   [111033, 48082, 1173, 1834856, 723953, 692766, 617378, 611531, 5291797])),\n",
       " (7428024,\n",
       "  (566616,\n",
       "   [111033, 48082, 1173, 1834856, 723953, 692766, 617378, 611531, 5291797])),\n",
       " (7428024,\n",
       "  (5311384,\n",
       "   [111033, 48082, 1173, 1834856, 723953, 692766, 617378, 611531, 5291797])),\n",
       " (7428024,\n",
       "  (7082272,\n",
       "   [111033, 48082, 1173, 1834856, 723953, 692766, 617378, 611531, 5291797])),\n",
       " (7428024,\n",
       "  (224156,\n",
       "   [111033, 48082, 1173, 1834856, 723953, 692766, 617378, 611531, 5291797]))]"
      ]
     },
     "execution_count": 17,
     "metadata": {},
     "output_type": "execute_result"
    }
   ],
   "source": [
    "resultado.take(50)"
   ]
  },
  {
   "cell_type": "code",
   "execution_count": null,
   "id": "6714fd8d-470b-4796-a60b-b7cd146e35ba",
   "metadata": {},
   "outputs": [],
   "source": []
  }
 ],
 "metadata": {
  "kernelspec": {
   "display_name": "Python 3",
   "language": "python",
   "name": "python3"
  },
  "language_info": {
   "codemirror_mode": {
    "name": "ipython",
    "version": 3
   },
   "file_extension": ".py",
   "mimetype": "text/x-python",
   "name": "python",
   "nbconvert_exporter": "python",
   "pygments_lexer": "ipython3",
   "version": "3.8.10"
  }
 },
 "nbformat": 4,
 "nbformat_minor": 5
}
