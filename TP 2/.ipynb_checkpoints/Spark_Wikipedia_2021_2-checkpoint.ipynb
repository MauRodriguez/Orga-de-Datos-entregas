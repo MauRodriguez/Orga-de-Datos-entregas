{
  "nbformat": 4,
  "nbformat_minor": 0,
  "metadata": {
    "kernelspec": {
      "display_name": "Python 3",
      "language": "python",
      "name": "python3"
    },
    "language_info": {
      "codemirror_mode": {
        "name": "ipython",
        "version": 3
      },
      "file_extension": ".py",
      "mimetype": "text/x-python",
      "name": "python",
      "nbconvert_exporter": "python",
      "pygments_lexer": "ipython3",
      "version": "3.7.3"
    },
    "colab": {
      "name": "Spark-Wikipedia-2021-2.ipynb",
      "provenance": []
    }
  },
  "cells": [
    {
      "cell_type": "markdown",
      "metadata": {
        "id": "KLCow8sYSRUL"
      },
      "source": [
        "# Instalamos e importamos librerías"
      ]
    },
    {
      "cell_type": "code",
      "metadata": {
        "id": "caWRNg5SSVG7",
        "colab": {
          "base_uri": "https://localhost:8080/"
        },
        "outputId": "40bf29ff-8ed4-45c5-aafe-6c7fea86e398"
      },
      "source": [
        "!pip install pyspark\n",
        "!pip install -U -q PyDrive\n",
        "!apt update\n",
        "!apt install openjdk-8-jdk-headless -qq\n",
        "#!apt install default-jre\n",
        "#!apt install default-jdk\n",
        "import os\n",
        "os.environ[\"JAVA_HOME\"] = \"/usr/lib/jvm/java-8-openjdk-amd64\""
      ],
      "execution_count": null,
      "outputs": [
        {
          "output_type": "stream",
          "name": "stdout",
          "text": [
            "Collecting pyspark\n",
            "  Downloading pyspark-3.2.0.tar.gz (281.3 MB)\n",
            "\u001b[K     |████████████████████████████████| 281.3 MB 37 kB/s \n",
            "\u001b[?25hCollecting py4j==0.10.9.2\n",
            "  Downloading py4j-0.10.9.2-py2.py3-none-any.whl (198 kB)\n",
            "\u001b[K     |████████████████████████████████| 198 kB 35.2 MB/s \n",
            "\u001b[?25hBuilding wheels for collected packages: pyspark\n",
            "  Building wheel for pyspark (setup.py) ... \u001b[?25l\u001b[?25hdone\n",
            "  Created wheel for pyspark: filename=pyspark-3.2.0-py2.py3-none-any.whl size=281805912 sha256=59c6d4ad2cc0d05a78a675217e81dd33fb06a41ff7cd1f4dcaecffee074691fc\n",
            "  Stored in directory: /root/.cache/pip/wheels/0b/de/d2/9be5d59d7331c6c2a7c1b6d1a4f463ce107332b1ecd4e80718\n",
            "Successfully built pyspark\n",
            "Installing collected packages: py4j, pyspark\n",
            "Successfully installed py4j-0.10.9.2 pyspark-3.2.0\n",
            "Get:1 http://security.ubuntu.com/ubuntu bionic-security InRelease [88.7 kB]\n",
            "Get:2 https://cloud.r-project.org/bin/linux/ubuntu bionic-cran40/ InRelease [3,626 B]\n",
            "Ign:3 https://developer.download.nvidia.com/compute/cuda/repos/ubuntu1804/x86_64  InRelease\n",
            "Get:4 http://ppa.launchpad.net/c2d4u.team/c2d4u4.0+/ubuntu bionic InRelease [15.9 kB]\n",
            "Hit:5 http://archive.ubuntu.com/ubuntu bionic InRelease\n",
            "Ign:6 https://developer.download.nvidia.com/compute/machine-learning/repos/ubuntu1804/x86_64  InRelease\n",
            "Get:7 https://developer.download.nvidia.com/compute/cuda/repos/ubuntu1804/x86_64  Release [696 B]\n",
            "Hit:8 https://developer.download.nvidia.com/compute/machine-learning/repos/ubuntu1804/x86_64  Release\n",
            "Get:9 https://developer.download.nvidia.com/compute/cuda/repos/ubuntu1804/x86_64  Release.gpg [836 B]\n",
            "Get:10 http://archive.ubuntu.com/ubuntu bionic-updates InRelease [88.7 kB]\n",
            "Hit:11 http://ppa.launchpad.net/cran/libgit2/ubuntu bionic InRelease\n",
            "Get:12 http://security.ubuntu.com/ubuntu bionic-security/main amd64 Packages [2,396 kB]\n",
            "Get:13 http://archive.ubuntu.com/ubuntu bionic-backports InRelease [74.6 kB]\n",
            "Hit:14 http://ppa.launchpad.net/deadsnakes/ppa/ubuntu bionic InRelease\n",
            "Get:15 http://security.ubuntu.com/ubuntu bionic-security/restricted amd64 Packages [630 kB]\n",
            "Get:16 http://security.ubuntu.com/ubuntu bionic-security/universe amd64 Packages [1,434 kB]\n",
            "Hit:17 http://ppa.launchpad.net/graphics-drivers/ppa/ubuntu bionic InRelease\n",
            "Get:18 https://cloud.r-project.org/bin/linux/ubuntu bionic-cran40/ Packages [69.5 kB]\n",
            "Get:20 https://developer.download.nvidia.com/compute/cuda/repos/ubuntu1804/x86_64  Packages [753 kB]\n",
            "Get:21 http://ppa.launchpad.net/c2d4u.team/c2d4u4.0+/ubuntu bionic/main Sources [1,809 kB]\n",
            "Get:22 http://archive.ubuntu.com/ubuntu bionic-updates/main amd64 Packages [2,835 kB]\n",
            "Get:23 http://ppa.launchpad.net/c2d4u.team/c2d4u4.0+/ubuntu bionic/main amd64 Packages [926 kB]\n",
            "Get:24 http://archive.ubuntu.com/ubuntu bionic-updates/universe amd64 Packages [2,213 kB]\n",
            "Get:25 http://archive.ubuntu.com/ubuntu bionic-updates/restricted amd64 Packages [665 kB]\n",
            "Fetched 14.0 MB in 4s (3,718 kB/s)\n",
            "Reading package lists... Done\n",
            "Building dependency tree       \n",
            "Reading state information... Done\n",
            "68 packages can be upgraded. Run 'apt list --upgradable' to see them.\n",
            "The following additional packages will be installed:\n",
            "  openjdk-8-jre-headless\n",
            "Suggested packages:\n",
            "  openjdk-8-demo openjdk-8-source libnss-mdns fonts-dejavu-extra\n",
            "  fonts-ipafont-gothic fonts-ipafont-mincho fonts-wqy-microhei\n",
            "  fonts-wqy-zenhei fonts-indic\n",
            "The following NEW packages will be installed:\n",
            "  openjdk-8-jdk-headless openjdk-8-jre-headless\n",
            "0 upgraded, 2 newly installed, 0 to remove and 68 not upgraded.\n",
            "Need to get 36.5 MB of archives.\n",
            "After this operation, 143 MB of additional disk space will be used.\n",
            "Selecting previously unselected package openjdk-8-jre-headless:amd64.\n",
            "(Reading database ... 155047 files and directories currently installed.)\n",
            "Preparing to unpack .../openjdk-8-jre-headless_8u292-b10-0ubuntu1~18.04_amd64.deb ...\n",
            "Unpacking openjdk-8-jre-headless:amd64 (8u292-b10-0ubuntu1~18.04) ...\n",
            "Selecting previously unselected package openjdk-8-jdk-headless:amd64.\n",
            "Preparing to unpack .../openjdk-8-jdk-headless_8u292-b10-0ubuntu1~18.04_amd64.deb ...\n",
            "Unpacking openjdk-8-jdk-headless:amd64 (8u292-b10-0ubuntu1~18.04) ...\n",
            "Setting up openjdk-8-jre-headless:amd64 (8u292-b10-0ubuntu1~18.04) ...\n",
            "update-alternatives: using /usr/lib/jvm/java-8-openjdk-amd64/jre/bin/orbd to provide /usr/bin/orbd (orbd) in auto mode\n",
            "update-alternatives: using /usr/lib/jvm/java-8-openjdk-amd64/jre/bin/servertool to provide /usr/bin/servertool (servertool) in auto mode\n",
            "update-alternatives: using /usr/lib/jvm/java-8-openjdk-amd64/jre/bin/tnameserv to provide /usr/bin/tnameserv (tnameserv) in auto mode\n",
            "Setting up openjdk-8-jdk-headless:amd64 (8u292-b10-0ubuntu1~18.04) ...\n",
            "update-alternatives: using /usr/lib/jvm/java-8-openjdk-amd64/bin/idlj to provide /usr/bin/idlj (idlj) in auto mode\n",
            "update-alternatives: using /usr/lib/jvm/java-8-openjdk-amd64/bin/wsimport to provide /usr/bin/wsimport (wsimport) in auto mode\n",
            "update-alternatives: using /usr/lib/jvm/java-8-openjdk-amd64/bin/jsadebugd to provide /usr/bin/jsadebugd (jsadebugd) in auto mode\n",
            "update-alternatives: using /usr/lib/jvm/java-8-openjdk-amd64/bin/native2ascii to provide /usr/bin/native2ascii (native2ascii) in auto mode\n",
            "update-alternatives: using /usr/lib/jvm/java-8-openjdk-amd64/bin/javah to provide /usr/bin/javah (javah) in auto mode\n",
            "update-alternatives: using /usr/lib/jvm/java-8-openjdk-amd64/bin/hsdb to provide /usr/bin/hsdb (hsdb) in auto mode\n",
            "update-alternatives: using /usr/lib/jvm/java-8-openjdk-amd64/bin/clhsdb to provide /usr/bin/clhsdb (clhsdb) in auto mode\n",
            "update-alternatives: using /usr/lib/jvm/java-8-openjdk-amd64/bin/extcheck to provide /usr/bin/extcheck (extcheck) in auto mode\n",
            "update-alternatives: using /usr/lib/jvm/java-8-openjdk-amd64/bin/schemagen to provide /usr/bin/schemagen (schemagen) in auto mode\n",
            "update-alternatives: using /usr/lib/jvm/java-8-openjdk-amd64/bin/xjc to provide /usr/bin/xjc (xjc) in auto mode\n",
            "update-alternatives: using /usr/lib/jvm/java-8-openjdk-amd64/bin/jhat to provide /usr/bin/jhat (jhat) in auto mode\n",
            "update-alternatives: using /usr/lib/jvm/java-8-openjdk-amd64/bin/wsgen to provide /usr/bin/wsgen (wsgen) in auto mode\n"
          ]
        }
      ]
    },
    {
      "cell_type": "code",
      "metadata": {
        "id": "PwC4R5OESXY0"
      },
      "source": [
        "from pydrive.auth import GoogleAuth\n",
        "from pydrive.drive import GoogleDrive\n",
        "from google.colab import auth\n",
        "from oauth2client.client import GoogleCredentials\n",
        "from pyspark.sql import *\n",
        "from pyspark.sql.functions import *\n",
        "from pyspark import SparkContext\n",
        "from pyspark.sql import SQLContext\n",
        "import pandas as pd"
      ],
      "execution_count": null,
      "outputs": []
    },
    {
      "cell_type": "markdown",
      "metadata": {
        "id": "ptmH8m31SdAm"
      },
      "source": [
        "# Autenticamos con Google Drive"
      ]
    },
    {
      "cell_type": "code",
      "metadata": {
        "id": "bo52mNzNSfhP"
      },
      "source": [
        "auth.authenticate_user()\n",
        "gauth = GoogleAuth()\n",
        "gauth.credentials = GoogleCredentials.get_application_default()\n",
        "drive = GoogleDrive(gauth)"
      ],
      "execution_count": null,
      "outputs": []
    },
    {
      "cell_type": "markdown",
      "metadata": {
        "id": "V2C36mAYShNw"
      },
      "source": [
        "# Bajamos archivo con los datos de los artículos de Wikipedia"
      ]
    },
    {
      "cell_type": "code",
      "metadata": {
        "id": "rJzd_QCySn37"
      },
      "source": [
        "downloaded = drive.CreateFile({'id':\"1PotbxAbVT2JoTDmt8aUYOxfcicM6InYi\"})\n",
        "downloaded.GetContentFile('contents.csv') "
      ],
      "execution_count": null,
      "outputs": []
    },
    {
      "cell_type": "code",
      "metadata": {
        "id": "suShdDf54hvb"
      },
      "source": [
        "downloaded = drive.CreateFile({'id':\"1_D-6MAt2h1IUawuD0u9cRI6R1ucwjaoV\"})\n",
        "downloaded.GetContentFile('contents_text.csv') "
      ],
      "execution_count": null,
      "outputs": []
    },
    {
      "cell_type": "markdown",
      "metadata": {
        "id": "V3KEZnbSV76n"
      },
      "source": [
        "# Creamos el Spark Context"
      ]
    },
    {
      "cell_type": "code",
      "metadata": {
        "id": "RO1cRZx2V2cm"
      },
      "source": [
        "spark = SparkSession.builder.getOrCreate()\n",
        "sc = spark.sparkContext"
      ],
      "execution_count": null,
      "outputs": []
    },
    {
      "cell_type": "markdown",
      "metadata": {
        "id": "KvvLU-jJRQFX"
      },
      "source": [
        "## Leemos CSV"
      ]
    },
    {
      "cell_type": "code",
      "metadata": {
        "id": "T6dCiDqIRQFX",
        "colab": {
          "base_uri": "https://localhost:8080/"
        },
        "outputId": "e12128ca-62d3-4424-9302-6a3d0f480b48"
      },
      "source": [
        "sqlContext = SQLContext(sc)\n",
        "df = sqlContext.read.csv('contents.csv', header=True, inferSchema=True)\n",
        "rdd = df.rdd"
      ],
      "execution_count": null,
      "outputs": [
        {
          "output_type": "stream",
          "name": "stderr",
          "text": [
            "/usr/local/lib/python3.7/dist-packages/pyspark/sql/context.py:79: FutureWarning: Deprecated in 3.0.0. Use SparkSession.builder.getOrCreate() instead.\n",
            "  FutureWarning\n"
          ]
        }
      ]
    },
    {
      "cell_type": "code",
      "metadata": {
        "id": "ToipQ5pZ4dYD"
      },
      "source": [
        "dfText = sqlContext.read.csv('contents_text.csv', header=True, inferSchema=True)\n",
        "rddText = dfText.rdd"
      ],
      "execution_count": null,
      "outputs": []
    },
    {
      "cell_type": "markdown",
      "metadata": {
        "id": "6TI_QOUERQFl"
      },
      "source": [
        "## Cantidad de registros"
      ]
    },
    {
      "cell_type": "code",
      "metadata": {
        "id": "PF356dBURQFm",
        "colab": {
          "base_uri": "https://localhost:8080/"
        },
        "outputId": "d0a821b7-a18c-406d-cf0a-3053d7575702"
      },
      "source": [
        "rdd.count()"
      ],
      "execution_count": null,
      "outputs": [
        {
          "output_type": "execute_result",
          "data": {
            "text/plain": [
              "4132633"
            ]
          },
          "metadata": {},
          "execution_count": 7
        }
      ]
    },
    {
      "cell_type": "code",
      "metadata": {
        "colab": {
          "base_uri": "https://localhost:8080/"
        },
        "id": "cqct32_8Byo3",
        "outputId": "c12a49a7-7dae-4d44-e128-7e16d8549d3d"
      },
      "source": [
        "rdd.take(20)"
      ],
      "execution_count": null,
      "outputs": [
        {
          "output_type": "execute_result",
          "data": {
            "text/plain": [
              "[Row(title='Wikipedia:Artículos solicitados', id='5', namespace='4', revision_id='132533307', parent_revision='132516631', revision_timestamp='2021-01-19T18:40:34Z', revisor_username='Metrónomo', revisor_id='1708233', revisor_ip=None, revisor_comment='Así esta mejor'),\n",
              " Row(title='Andorra', id='7', namespace='0', revision_id='138035057', parent_revision='138027475', revision_timestamp='2021-08-31T18:27:01Z', revisor_username=None, revisor_id=None, revisor_ip='2800:CD0:FC1B:A900:C5A4:9E81:7175:2ED2', revisor_comment='Añadir contenido'),\n",
              " Row(title='Argentina', id='10', namespace='0', revision_id='137966826', parent_revision='137825165', revision_timestamp='2021-08-28T17:17:54Z', revisor_username='Traitrich', revisor_id='4642283', revisor_ip=None, revisor_comment='Reemplazos con [[Usuario:Benjavalero/Replacer|Replacer]]: «simbolos»'),\n",
              " Row(title='Geografía de Andorra', id='15', namespace='0', revision_id='137986788', parent_revision='133666383', revision_timestamp='2021-08-29T17:16:00Z', revisor_username='Lojwe', revisor_id='5338508', revisor_ip=None, revisor_comment='Reemplazos con [[Usuario:Benjavalero/Replacer|Replacer]]: «m.»'),\n",
              " Row(title='Demografía de Andorra', id='17', namespace='0', revision_id='130869554', parent_revision='129413188', revision_timestamp='2020-11-12T19:56:15Z', revisor_username='Jialxv', revisor_id='3615366', revisor_ip=None, revisor_comment='Correcciones ortográficas con [[Usuario:Benjavalero/Replacer|Replacer]] (herramienta en línea de revisión de errores)'),\n",
              " Row(title='Comunicaciones de Andorra', id='18', namespace='0', revision_id='132654704', parent_revision='125753476', revision_timestamp='2021-01-24T13:33:34Z', revisor_username='PatriHorrillo', revisor_id='689866', revisor_ip=None, revisor_comment='Correcciones ortográficas con [[Usuario:Benjavalero/Replacer|Replacer]] (herramienta en línea de revisión de errores)'),\n",
              " Row(title='Artes visuales', id='19', namespace='0', revision_id='138035407', parent_revision='138035406', revision_timestamp='2021-08-31T18:45:28Z', revisor_username='SeroBOT', revisor_id='4980693', revisor_ip=None, revisor_comment='Revertidos los cambios de [[Special:Contributions/23.240.19.29|23.240.19.29]] ([[User talk:23.240.19.29|disc.]]) a la última edición de SeroBOT'),\n",
              " Row(title='Agricultura', id='20', namespace='0', revision_id='138023408', parent_revision='137909816', revision_timestamp='2021-08-31T04:43:18Z', revisor_username='Arctos71', revisor_id='6331749', revisor_ip=None, revisor_comment=None),\n",
              " Row(title='Astronomía galáctica', id='22', namespace='0', revision_id='134653454', parent_revision='120853916', revision_timestamp='2021-04-10T07:54:41Z', revisor_username='LOLAOMI', revisor_id='6048511', revisor_ip=None, revisor_comment='Correcciones ortográficas con [[Usuario:Benjavalero/Replacer|Replacer]] (herramienta en línea de revisión de errores)'),\n",
              " Row(title='ASCII', id='23', namespace='0', revision_id='137833249', parent_revision='137833185', revision_timestamp='2021-08-22T16:18:01Z', revisor_username='Jkbw', revisor_id='936194', revisor_ip=None, revisor_comment='Revertidos los cambios de [[Special:Contributions/201.212.234.174|201.212.234.174]] ([[User talk:201.212.234.174|disc.]]) a la última edición de 186.167.251.95'),\n",
              " Row(title='Arquitectura', id='24', namespace='0', revision_id='137776710', parent_revision='137776708', revision_timestamp='2021-08-19T19:08:53Z', revisor_username='SeroBOT', revisor_id='4980693', revisor_ip=None, revisor_comment='Revertidos los cambios de [[Special:Contributions/187.244.91.17|187.244.91.17]] ([[User talk:187.244.91.17|disc.]]) a la última edición de SeroBOT'),\n",
              " Row(title='Anoeta', id='26', namespace='0', revision_id='133531913', parent_revision='125347732', revision_timestamp='2021-02-25T18:09:01Z', revisor_username='InternetArchiveBot', revisor_id='4704851', revisor_ip=None, revisor_comment='Rescatando 1 referencia(s) y marcando 0 enlace(s) como roto(s)) #IABot (v2.0.8'),\n",
              " Row(title='Ana María Matute', id='27', namespace='0', revision_id='136744488', parent_revision='136023368', revision_timestamp='2021-07-02T17:22:11Z', revisor_username='ElAgujeroNegro', revisor_id='6087338', revisor_ip=None, revisor_comment='Reemplazos con [[Usuario:Benjavalero/Replacer|Replacer]]: «setiembre»'),\n",
              " Row(title='Agujero negro', id='28', namespace='0', revision_id='138017885', parent_revision='138013424', revision_timestamp='2021-08-30T22:57:35Z', revisor_username='Cookie', revisor_id='15514', revisor_ip=None, revisor_comment='Revertidos los cambios de [[Special:Contributions/200.125.62.82|200.125.62.82]] ([[User talk:200.125.62.82|disc.]]) a la última edición de 186.185.28.228'),\n",
              " Row(title='Anarquía', id='32', namespace='0', revision_id='137335136', parent_revision='137335135', revision_timestamp='2021-07-29T22:16:49Z', revisor_username='SeroBOT', revisor_id='4980693', revisor_ip=None, revisor_comment='Revertidos los cambios de [[Special:Contributions/207.248.198.124|207.248.198.124]] ([[User talk:207.248.198.124|disc.]]) a la última edición de SeroBOT'),\n",
              " Row(title='América del Norte', id='33', namespace='0', revision_id='137937741', parent_revision='137937640', revision_timestamp='2021-08-27T04:22:02Z', revisor_username='Ruy', revisor_id='5305524', revisor_ip=None, revisor_comment='Revertidos los cambios de [[Special:Contributions/WiiSports2004|WiiSports2004]] ([[User talk:WiiSports2004|disc.]]) a la última edición de Ivanbetanco43'),\n",
              " Row(title='América del Sur', id='35', namespace='0', revision_id='138041008', parent_revision='138007237', revision_timestamp='2021-08-31T22:53:07Z', revisor_username='ClauBr', revisor_id='5973834', revisor_ip=None, revisor_comment='/* Juegos Olímpicos */ Medallero Panamericanos'),\n",
              " Row(title='Asia', id='36', namespace='0', revision_id='137922613', parent_revision='137922609', revision_timestamp='2021-08-26T15:21:35Z', revisor_username='SeroBOT', revisor_id='4980693', revisor_ip=None, revisor_comment='Revertidos los cambios de [[Special:Contributions/191.92.76.81|191.92.76.81]] ([[User talk:191.92.76.81|disc.]]) a la última edición de Virum Mundi'),\n",
              " Row(title='Año', id='37', namespace='0', revision_id='137634874', parent_revision='137634838', revision_timestamp='2021-08-12T23:11:24Z', revisor_username='Jkbw', revisor_id='936194', revisor_ip=None, revisor_comment='Revertidos los cambios de [[Special:Contributions/2800:BF0:8007:123E:D47C:BFE4:9F50:6A0|2800:BF0:8007:123E:D47C:BFE4:9F50:6A0]] ([[User talk:2800:BF0:8007:123E:D47C:BFE4:9F50:6A0|disc.]]) a la última edición de InternetArchiveBot'),\n",
              " Row(title='Asaph Hall', id='38', namespace='0', revision_id='135087845', parent_revision='134808084', revision_timestamp='2021-04-27T00:29:29Z', revisor_username='AVIADOR', revisor_id='1407263', revisor_ip=None, revisor_comment='Reemplazos con [[Usuario:Benjavalero/Replacer|Replacer]]: «(en inglés)»')]"
            ]
          },
          "metadata": {},
          "execution_count": 12
        }
      ]
    },
    {
      "cell_type": "code",
      "metadata": {
        "colab": {
          "base_uri": "https://localhost:8080/"
        },
        "id": "pAm65YcwA2lo",
        "outputId": "83209214-86e8-47d7-e835-8cc3e6fdd2e6"
      },
      "source": [
        "rddText.count()"
      ],
      "execution_count": null,
      "outputs": [
        {
          "output_type": "execute_result",
          "data": {
            "text/plain": [
              "8860367"
            ]
          },
          "metadata": {},
          "execution_count": 9
        }
      ]
    },
    {
      "cell_type": "code",
      "metadata": {
        "colab": {
          "base_uri": "https://localhost:8080/"
        },
        "id": "c_4wF4PXBlap",
        "outputId": "b73810c1-cf10-48be-e0cf-8d24eba41527"
      },
      "source": [
        "rddText.take(20)"
      ],
      "execution_count": null,
      "outputs": [
        {
          "output_type": "execute_result",
          "data": {
            "text/plain": [
              "[Row(id='50', title='Anacardiaceae', text='{{Ficha de taxón'),\n",
              " Row(id='| name = Anacardiáceas', title=None, text=None),\n",
              " Row(id='| image = Gui1 cashewfruit2.jpg', title=None, text=None),\n",
              " Row(id=\"| image_caption = ''[[Anacardium occidentale]]''\", title=None, text=None),\n",
              " Row(id='| regnum = [[Plantae]]', title=None, text=None),\n",
              " Row(id='| divisio  = [[Magnoliophyta]]', title=None, text=None),\n",
              " Row(id='| classis  = [[Magnoliopsida]]', title=None, text=None),\n",
              " Row(id='| ordo = [[Sapindales]]', title=None, text=None),\n",
              " Row(id=\"| familia = '''Anacardiaceae'''\", title=None, text=None),\n",
              " Row(id='| familia_authority = [[Robert Brown|R.Br.]]', title=None, text=None),\n",
              " Row(id='| subdivision_ranks = Géneros', title=None, text=None),\n",
              " Row(id='| subdivision = ', title=None, text=None),\n",
              " Row(id='Ver texto', title=None, text=None),\n",
              " Row(id='}}', title=None, text=None),\n",
              " Row(id=\"'''Anacardiaceae''' es una [[familia (biología)|familia]] de [[Plantae|plantas]] esencialmente [[árbol|arbóreas]] y [[arbusto|arbustivas]] perteneciente al [[Orden (biología)|orden]] [[Sapindales]]. La constituyen 77 [[género (biología)|géneros]] con unas 700 especies aceptadas\", title=' de las casi 3000 descritas', text=' propias de países tropicales'),\n",
              " Row(id='== Descripción ==', title=None, text=None),\n",
              " Row(id='Son árboles', title=' arbustos', text=' raramente subarbustos o [[trepadora]]s'),\n",
              " Row(id='== Taxonomía ==', title=None, text=None),\n",
              " Row(id=\"'''Anacardiaceae''' fue descrita por [[Robert Brown]] y publicado en ''[[Narrative of an Expedition to Explore the River Zaire]]''\", title=' p. 431', text=' 1818.<ref name = Trop>{{cita web |url=http://www.tropicos.org/Name/42000260 |título= Anacardiaceae|fechaacceso=13 de julio de 2013 |obra=  Tropicos.org. [[Missouri Botanical Garden]]}}</ref>'),\n",
              " Row(id='== Géneros ==', title=None, text=None)]"
            ]
          },
          "metadata": {},
          "execution_count": 11
        }
      ]
    },
    {
      "cell_type": "code",
      "metadata": {
        "colab": {
          "base_uri": "https://localhost:8080/"
        },
        "id": "i3Q239y7B6Uj",
        "outputId": "8d3e1283-a726-44f4-a141-792541678a21"
      },
      "source": [
        "rddText.filter(lambda x: x.id.isnumeric()).take(5)"
      ],
      "execution_count": null,
      "outputs": [
        {
          "output_type": "execute_result",
          "data": {
            "text/plain": [
              "[Row(id='50', title='Anacardiaceae', text='{{Ficha de taxón'),\n",
              " Row(id='62', title='Antipartícula', text='[[Archivo:Materia antimateria.png|thumb|200px|División del universo en materia y antimateria.]]'),\n",
              " Row(id='78', title='Año bisiesto', text='\"\\'\\'\\'Año bisiesto\\'\\'\\' es una expresión que deriva del [[latín]] \\'\\'bis sextus dies ante calendas martii\\'\\' (\"\"repetido el sexto [[día]] antes del primer [[día]] del mes de marzo\"\")'),\n",
              " Row(id='127', title='Avena', text='{{otros usos|Avena sativa|la avena común}}'),\n",
              " Row(id='160', title='Alfabeto', text='{{distinguir|analfabeto|alfabetización}} ')]"
            ]
          },
          "metadata": {},
          "execution_count": 13
        }
      ]
    },
    {
      "cell_type": "code",
      "metadata": {
        "id": "DDYhk0uECVh4"
      },
      "source": [
        "textWithId = rddText.filter(lambda x: x.id != None and x.id.isnumeric())"
      ],
      "execution_count": null,
      "outputs": []
    },
    {
      "cell_type": "code",
      "metadata": {
        "id": "Qh-TVhgjDS5C"
      },
      "source": [
        "textWithDatos = textWithId.filter(lambda x: x.text != None and 'datos' in x.text).cache()"
      ],
      "execution_count": null,
      "outputs": []
    },
    {
      "cell_type": "code",
      "metadata": {
        "colab": {
          "base_uri": "https://localhost:8080/"
        },
        "id": "22hvibThFjfL",
        "outputId": "428c5d14-902a-4e9e-ef8a-0bcef1b0dfdd"
      },
      "source": [
        "textWithDatos.count()"
      ],
      "execution_count": null,
      "outputs": [
        {
          "output_type": "execute_result",
          "data": {
            "text/plain": [
              "511"
            ]
          },
          "metadata": {},
          "execution_count": 24
        }
      ]
    },
    {
      "cell_type": "code",
      "metadata": {
        "colab": {
          "base_uri": "https://localhost:8080/"
        },
        "id": "KmTm1qW-GHl3",
        "outputId": "02e8c073-987c-4b48-919f-8b06bae0a2f6"
      },
      "source": [
        "textWithDatos.take(10)"
      ],
      "execution_count": null,
      "outputs": [
        {
          "output_type": "execute_result",
          "data": {
            "text/plain": [
              "[Row(id='647', title='Verificación de redundancia cíclica', text='\"La \\'\\'\\'verificación por redundancia cíclica\\'\\'\\'<ref name=\"\"DEI\"\">{{cita DEI|verificación-por-redundancia-cíclica|verificación por redundancia cíclica|fechaacceso=9 de septiembre de 2014}}</ref> (CRC) es un código de detección de errores usado frecuentemente en [[Internet|redes]] digitales y en [[dispositivos de almacenamiento]] para detectar cambios accidentales en los [[datos]].<ref name=\"\"DEI\"\"/> Los bloques de datos ingresados en estos sistemas contiene un \\'\\'valor de verificación adjunto\\'\\''),\n",
              " Row(id='5048', title='Satmódem', text=\"Un '''satmódem''' (por ''satellite modem'', en inglés, abreviadamente '''SM''') es un [[módem]] que se emplea para establecer una transmisión de datos con un [[satélite de comunicaciones]].\"),\n",
              " Row(id='27443', title='Club Atlético Boca Juniors', text='{{Ficha de equipo de fútbol con datos de temporada'),\n",
              " Row(id='29644', title='Aeropuerto George F. L. Charles', text=\"{{Ficha de aeropuerto|nombre=Aeropuerto George F. L. Charles|nombre_nativo=Aéroport George F. L. Charles|imagen=|pie=|IATA=SLU|ICAO=TLPC|tipo=Público|propietario=Gobierno de Santa Lucía|operador=Autoridad de Puertos Marítimos y Aéreos de Santa Lucía|ciudad_sirve=[[Castries]]|ubicación={{Bandera|Santa Lucía}} [[Castries]], [[Santa Lucía]]|elevación_p=22|elevación_m=7|sitio_web=[https://stlucia-airport.com/ stlucia-airport.com]|p1-número=09/27|p1-longitud-p=6.227|p1-longitud-m=1.898|p1-superficie=[[Asfalto]]|p2-número=|p2-longitud-p=|p2-longitud-m=|p2-superficie=|estadística_año=2016|estadística1=195,859|datos_estadística1=|notas=|hub=}}El '''Aeropuerto George F. L. Charles''' ([[Código de aeropuertos de IATA|código IATA]]: '''SLU''', [[Código de aeropuertos de OACI|código OACI]]: '''TLPC''') está ubicado en [[Castries]], capital de [[Santa Lucía]]. Originalmente era llamado ''Aeropuerto Vigie'' pero desde el [[4 de agosto]] de [[1997]] cambió de nombre al actual en honor a [[George F. L. Charles|George Frederick Lawrence Charles]], quien fuese el primer Ministro de Educación y Asuntos Sociales del país. Dado que el país tiene dos aeropuertos, el George F. L. Charles se especializa en los vuelos regionales mientras que al sur, el [[Aeropuerto Internacional Hewanorra|Hewanorra]] se encarga de los vuelos transatlánticos o continentales.  \"),\n",
              " Row(id='39783', title='Unidad máxima de transferencia', text=\"La '''unidad máxima de transferencia''' (''Maximum Transmission Unit'' - '''MTU''') es un término de [[Red de computadoras|redes de computadoras]] que expresa el tamaño en [[byte]]s de la unidad de datos más grande que puede enviarse usando un [[protocolo de comunicaciones]].\"),\n",
              " Row(id='43725', title='Millonarios Fútbol Club', text='{{Ficha de equipo de fútbol con datos de temporada'),\n",
              " Row(id='46848', title='Valencia Club de Fútbol', text='{{Ficha de equipo de fútbol con datos de temporada'),\n",
              " Row(id='50871', title='Inodo', text=\"En [[informática]], un '''inodo''', nodo-i o nodo índice es una estructura de datos propia de los [[sistema de archivos|sistemas de archivos]] tradicionalmente empleados en los [[sistema operativo|sistemas operativos]] tipo [[UNIX]] como es el caso de [[Núcleo Linux|Linux]]. Un inodo contiene las características de un archivo regular, directorio, o cualquier otro objeto que pueda contener el sistema de ficheros.\"),\n",
              " Row(id='75324', title='Cádiz Club de Fútbol', text='{{Ficha de equipo de fútbol con datos de temporada'),\n",
              " Row(id='76075', title='Real Oviedo', text='{{Ficha de equipo de fútbol con datos de temporada')]"
            ]
          },
          "metadata": {},
          "execution_count": 25
        }
      ]
    },
    {
      "cell_type": "code",
      "metadata": {
        "id": "2b7NvMAqF2oV"
      },
      "source": [
        "textById = textWithDatos.map(lambda x: (x.id, 1))"
      ],
      "execution_count": null,
      "outputs": []
    },
    {
      "cell_type": "code",
      "metadata": {
        "id": "433fEs3zGXa4"
      },
      "source": [
        "rddById = rdd.filter(lambda x: x.revisor_username != None).map(lambda x: (x.id, x.revisor_username))"
      ],
      "execution_count": null,
      "outputs": []
    },
    {
      "cell_type": "code",
      "metadata": {
        "id": "RVBV-kzeGlJv"
      },
      "source": [
        "textWithRevisor = textById.join(rddById).cache()"
      ],
      "execution_count": null,
      "outputs": []
    },
    {
      "cell_type": "code",
      "metadata": {
        "colab": {
          "base_uri": "https://localhost:8080/"
        },
        "id": "MdyevKo2GtuN",
        "outputId": "e283fd87-71a5-4249-b6fb-d612a91f61c6"
      },
      "source": [
        "textWithRevisor.take(5)"
      ],
      "execution_count": null,
      "outputs": [
        {
          "output_type": "execute_result",
          "data": {
            "text/plain": [
              "[('76075', (1, 'ItsTheRealMaik')),\n",
              " ('385485', (1, 'Lost in subtitles')),\n",
              " ('485924', (1, 'Aosbot')),\n",
              " ('1506330', (1, 'VanKleinen')),\n",
              " ('1603953', (1, 'CommonsDelinker'))]"
            ]
          },
          "metadata": {},
          "execution_count": 32
        }
      ]
    },
    {
      "cell_type": "code",
      "metadata": {
        "colab": {
          "base_uri": "https://localhost:8080/"
        },
        "id": "1IzNsqj1Hbmq",
        "outputId": "fbdcc3e1-e6ff-4e64-9639-995447a8e1ab"
      },
      "source": [
        "textWithRevisor.count()"
      ],
      "execution_count": null,
      "outputs": [
        {
          "output_type": "execute_result",
          "data": {
            "text/plain": [
              "474"
            ]
          },
          "metadata": {},
          "execution_count": 33
        }
      ]
    },
    {
      "cell_type": "code",
      "metadata": {
        "colab": {
          "base_uri": "https://localhost:8080/"
        },
        "id": "2Ai908yAH-nv",
        "outputId": "6ff910a5-fc9a-477e-85e6-1d06e109f101"
      },
      "source": [
        "textWithRevisor.map(lambda x: (x[1][1],1)).reduceByKey(lambda x,y: x+y).takeOrdered(10, lambda x: -x[1])"
      ],
      "execution_count": null,
      "outputs": [
        {
          "output_type": "execute_result",
          "data": {
            "text/plain": [
              "[('PiedrasDelRio', 45),\n",
              " ('ChessBOT', 29),\n",
              " ('Aosbot', 21),\n",
              " ('CommonsDelinker', 20),\n",
              " ('SeroBOT', 11),\n",
              " ('InternetArchiveBot', 10),\n",
              " ('VanKleinen', 10),\n",
              " ('Hurfer', 10),\n",
              " ('Expósito', 9),\n",
              " ('Semibot', 9)]"
            ]
          },
          "metadata": {},
          "execution_count": 36
        }
      ]
    },
    {
      "cell_type": "markdown",
      "metadata": {
        "id": "Elt4ZT7XImNn"
      },
      "source": [
        "## En limpio"
      ]
    },
    {
      "cell_type": "code",
      "metadata": {
        "id": "Z_hofRetIlPo"
      },
      "source": [
        "textById = rddText.filter(lambda x: x.id != None and x.id.isnumeric() and x.text != None and 'datos' in x.text)\\\n",
        "                  .map(lambda x: (x.id, 1))"
      ],
      "execution_count": null,
      "outputs": []
    },
    {
      "cell_type": "code",
      "metadata": {
        "id": "v0xKAckiJA9H"
      },
      "source": [
        "rddById = rdd.filter(lambda x: x.revisor_username != None).map(lambda x: (x.id, x.revisor_username))"
      ],
      "execution_count": null,
      "outputs": []
    },
    {
      "cell_type": "code",
      "metadata": {
        "colab": {
          "base_uri": "https://localhost:8080/"
        },
        "id": "Zek3kX9xJEQ_",
        "outputId": "6af523c4-1017-4bb0-bf94-86c07acae0ea"
      },
      "source": [
        "textById.join(rddById).map(lambda x: (x[1][1],1)).reduceByKey(lambda x,y: x+y).takeOrdered(10, lambda x: -x[1])"
      ],
      "execution_count": null,
      "outputs": [
        {
          "output_type": "execute_result",
          "data": {
            "text/plain": [
              "[('PiedrasDelRio', 45),\n",
              " ('ChessBOT', 29),\n",
              " ('Aosbot', 21),\n",
              " ('CommonsDelinker', 20),\n",
              " ('SeroBOT', 11),\n",
              " ('InternetArchiveBot', 10),\n",
              " ('VanKleinen', 10),\n",
              " ('Hurfer', 10),\n",
              " ('Expósito', 9),\n",
              " ('Semibot', 9)]"
            ]
          },
          "metadata": {},
          "execution_count": 39
        }
      ]
    },
    {
      "cell_type": "markdown",
      "metadata": {
        "id": "cVWqzeqGdaen"
      },
      "source": [
        "## Qué datos tiene cada registro"
      ]
    },
    {
      "cell_type": "code",
      "metadata": {
        "id": "vqPpsnADRQFo",
        "colab": {
          "base_uri": "https://localhost:8080/"
        },
        "outputId": "34c1c6e6-3349-449c-bee6-94ebdabc5e6d"
      },
      "source": [
        "rdd.take(5)"
      ],
      "execution_count": null,
      "outputs": [
        {
          "output_type": "execute_result",
          "data": {
            "text/plain": [
              "[Row(title='Wikipedia:Artículos solicitados', id='5', namespace='4', revision_id='132533307', parent_revision='132516631', revision_timestamp='2021-01-19T18:40:34Z', revisor_username='Metrónomo', revisor_id='1708233', revisor_ip=None, revisor_comment='Así esta mejor'),\n",
              " Row(title='Andorra', id='7', namespace='0', revision_id='138035057', parent_revision='138027475', revision_timestamp='2021-08-31T18:27:01Z', revisor_username=None, revisor_id=None, revisor_ip='2800:CD0:FC1B:A900:C5A4:9E81:7175:2ED2', revisor_comment='Añadir contenido'),\n",
              " Row(title='Argentina', id='10', namespace='0', revision_id='137966826', parent_revision='137825165', revision_timestamp='2021-08-28T17:17:54Z', revisor_username='Traitrich', revisor_id='4642283', revisor_ip=None, revisor_comment='Reemplazos con [[Usuario:Benjavalero/Replacer|Replacer]]: «simbolos»'),\n",
              " Row(title='Geografía de Andorra', id='15', namespace='0', revision_id='137986788', parent_revision='133666383', revision_timestamp='2021-08-29T17:16:00Z', revisor_username='Lojwe', revisor_id='5338508', revisor_ip=None, revisor_comment='Reemplazos con [[Usuario:Benjavalero/Replacer|Replacer]]: «m.»'),\n",
              " Row(title='Demografía de Andorra', id='17', namespace='0', revision_id='130869554', parent_revision='129413188', revision_timestamp='2020-11-12T19:56:15Z', revisor_username='Jialxv', revisor_id='3615366', revisor_ip=None, revisor_comment='Correcciones ortográficas con [[Usuario:Benjavalero/Replacer|Replacer]] (herramienta en línea de revisión de errores)')]"
            ]
          },
          "metadata": {},
          "execution_count": 8
        }
      ]
    },
    {
      "cell_type": "markdown",
      "metadata": {
        "id": "ZUg1B3kYdsPg"
      },
      "source": [
        "## Qué cantidad de artículos hay con un revisor registrado y cuantos con un revisor no registrado"
      ]
    },
    {
      "cell_type": "code",
      "metadata": {
        "id": "qF7atM-iZGSo",
        "colab": {
          "base_uri": "https://localhost:8080/"
        },
        "outputId": "c9ba41d7-0e62-4e20-cb4c-5ae87df23d83"
      },
      "source": [
        "rdd.filter(lambda x: x.revisor_id == None).count()"
      ],
      "execution_count": null,
      "outputs": [
        {
          "output_type": "execute_result",
          "data": {
            "text/plain": [
              "193756"
            ]
          },
          "metadata": {},
          "execution_count": 9
        }
      ]
    },
    {
      "cell_type": "code",
      "metadata": {
        "colab": {
          "base_uri": "https://localhost:8080/"
        },
        "id": "Xe37SuPHnVT3",
        "outputId": "74f80af5-3e75-4f4d-b3db-2fa9003ea7bd"
      },
      "source": [
        "rdd.filter(lambda x: x.revisor_id != None).count()"
      ],
      "execution_count": null,
      "outputs": [
        {
          "output_type": "execute_result",
          "data": {
            "text/plain": [
              "3938877"
            ]
          },
          "metadata": {},
          "execution_count": 10
        }
      ]
    },
    {
      "cell_type": "code",
      "metadata": {
        "colab": {
          "base_uri": "https://localhost:8080/"
        },
        "id": "Q5PdLgcun4bB",
        "outputId": "ab05f2c8-c030-4f02-8e91-b19bd0350cb0"
      },
      "source": [
        "rdd.map(lambda x: ('R' if x.revisor_id != None else 'NR',1)).reduceByKey(lambda x,y: x+y).collect()"
      ],
      "execution_count": null,
      "outputs": [
        {
          "output_type": "execute_result",
          "data": {
            "text/plain": [
              "[('R', 3938877), ('NR', 193756)]"
            ]
          },
          "metadata": {},
          "execution_count": 12
        }
      ]
    },
    {
      "cell_type": "markdown",
      "metadata": {
        "id": "_zXhWYoZd1S0"
      },
      "source": [
        "## Cantidad de artículos que no fueron modificados (sin parent_revision)"
      ]
    },
    {
      "cell_type": "code",
      "metadata": {
        "id": "5hC1rWmhZQpj",
        "colab": {
          "base_uri": "https://localhost:8080/"
        },
        "outputId": "fb0d2be7-de56-4000-b52e-d7aeba422b7d"
      },
      "source": [
        "rdd.filter(lambda x: x.parent_revision == None).count()"
      ],
      "execution_count": null,
      "outputs": [
        {
          "output_type": "execute_result",
          "data": {
            "text/plain": [
              "1483652"
            ]
          },
          "metadata": {},
          "execution_count": 13
        }
      ]
    },
    {
      "cell_type": "markdown",
      "metadata": {
        "id": "Er_Cz5lod7aQ"
      },
      "source": [
        "## Artículos más nuevos y más viejos"
      ]
    },
    {
      "cell_type": "code",
      "metadata": {
        "colab": {
          "base_uri": "https://localhost:8080/"
        },
        "id": "sa5b5X-chEAw",
        "outputId": "1115606a-24f1-4ed7-a0a2-eb86edeee310"
      },
      "source": [
        "rdd.filter(lambda x: x.revision_timestamp != None).reduce(lambda x,y: x if x.revision_timestamp > y.revision_timestamp else y) "
      ],
      "execution_count": null,
      "outputs": [
        {
          "output_type": "execute_result",
          "data": {
            "text/plain": [
              "Row(title='\"Fantasía sobre \"\"El cazador furtivo\"\"', id=' de Carl Maria von Weber', namespace=' por Paul Taffanel\"', revision_id='7723349', parent_revision='0', revision_timestamp='99631252', revisor_username='99631250', revisor_id='2017-06-05T10:38:52Z', revisor_ip='Urdangaray', revisor_comment='288740')"
            ]
          },
          "metadata": {},
          "execution_count": 15
        }
      ]
    },
    {
      "cell_type": "code",
      "metadata": {
        "colab": {
          "base_uri": "https://localhost:8080/"
        },
        "id": "zpJk_CNNsoEq",
        "outputId": "a156484b-fa3d-463b-b66e-110344562631"
      },
      "source": [
        "rdd.filter(lambda x: x.revision_timestamp != None and '-' in x.revision_timestamp)\\\n",
        ".reduce(lambda x,y: x if x.revision_timestamp > y.revision_timestamp else y) "
      ],
      "execution_count": null,
      "outputs": [
        {
          "output_type": "execute_result",
          "data": {
            "text/plain": [
              "Row(title='José Manuel Alonso Plaza', id='4352797', namespace='0', revision_id='138055231', parent_revision='138054484', revision_timestamp='2021-09-01T15:17:32Z', revisor_username=None, revisor_id=None, revisor_ip='81.37.201.93', revisor_comment=None)"
            ]
          },
          "metadata": {},
          "execution_count": 16
        }
      ]
    },
    {
      "cell_type": "code",
      "metadata": {
        "colab": {
          "base_uri": "https://localhost:8080/"
        },
        "id": "r46xgjZztTvA",
        "outputId": "17db2b48-8c42-4d3e-a931-1f3c390fbd5b"
      },
      "source": [
        "rdd.filter(lambda x: x.revision_timestamp != None and '-' in x.revision_timestamp)\\\n",
        ".reduce(lambda x,y: x if x.revision_timestamp < y.revision_timestamp else y) "
      ],
      "execution_count": null,
      "outputs": [
        {
          "output_type": "execute_result",
          "data": {
            "text/plain": [
              "Row(title='Barias', id='343', namespace='0', revision_id='834481', parent_revision='729', revision_timestamp='2002-10-23T09:34:16Z', revisor_username='conversion script', revisor_id='0', revisor_ip=None, revisor_comment='Automated conversion')"
            ]
          },
          "metadata": {},
          "execution_count": 17
        }
      ]
    },
    {
      "cell_type": "code",
      "metadata": {
        "colab": {
          "base_uri": "https://localhost:8080/"
        },
        "id": "MTSqqN_KtZYL",
        "outputId": "9fd4fa3b-c831-4c0b-f265-5999375ee06c"
      },
      "source": [
        "rdd.filter(lambda x: x.revision_timestamp != None and '-' in x.revision_timestamp)\\\n",
        ".takeOrdered(10, lambda x: -x.revision_timestamp)"
      ],
      "execution_count": null,
      "outputs": [
        {
          "output_type": "execute_result",
          "data": {
            "text/plain": [
              "[Row(title='Barias', id='343', namespace='0', revision_id='834481', parent_revision='729', revision_timestamp='2002-10-23T09:34:16Z', revisor_username='conversion script', revisor_id='0', revisor_ip=None, revisor_comment='Automated conversion'),\n",
              " Row(title='Célula nerviosa', id='577', namespace='0', revision_id='834666', parent_revision='1206', revision_timestamp='2002-10-23T09:34:19Z', revisor_username='conversion script', revisor_id='0', revisor_ip=None, revisor_comment='Automated conversion'),\n",
              " Row(title='Fisica de Particulas', id='1156', namespace='0', revision_id='835126', parent_revision='2373', revision_timestamp='2002-10-23T09:34:25Z', revisor_username='conversion script', revisor_id='0', revisor_ip=None, revisor_comment='Automated conversion'),\n",
              " Row(title='FORTRAN', id='1199', namespace='0', revision_id='835160', parent_revision='2491', revision_timestamp='2002-10-23T09:34:26Z', revisor_username='conversion script', revisor_id='0', revisor_ip=None, revisor_comment='Automated conversion'),\n",
              " Row(title='Instrumentos musicales', id='1488', namespace='0', revision_id='835379', parent_revision='3124', revision_timestamp='2002-10-23T09:34:30Z', revisor_username='conversion script', revisor_id='0', revisor_ip=None, revisor_comment='Automated conversion'),\n",
              " Row(title='Kilogramos', id='1594', namespace='0', revision_id='835462', parent_revision='3364', revision_timestamp='2002-10-23T09:34:30Z', revisor_username='conversion script', revisor_id='0', revisor_ip=None, revisor_comment='Automated conversion'),\n",
              " Row(title='PROLOG', id='2248', namespace='0', revision_id='835977', parent_revision='4737', revision_timestamp='2002-10-23T09:34:45Z', revisor_username='conversion script', revisor_id='0', revisor_ip=None, revisor_comment='Automated conversion'),\n",
              " Row(title='Biología Molecular', id='3099', namespace='0', revision_id='836612', parent_revision=None, revision_timestamp='2002-10-23T09:38:23Z', revisor_username='Unknown', revisor_id='4850085', revisor_ip=None, revisor_comment='Movido a Biología_molecular'),\n",
              " Row(title='Centímetro Cúbico', id='3100', namespace='0', revision_id='836613', parent_revision=None, revision_timestamp='2002-10-23T09:38:23Z', revisor_username='Unknown', revisor_id='4850085', revisor_ip=None, revisor_comment='Movido a Centímetro_cúbico'),\n",
              " Row(title='Dominio Público', id='3113', namespace='0', revision_id='836623', parent_revision=None, revision_timestamp='2002-10-23T09:38:25Z', revisor_username='Unknown', revisor_id='4850085', revisor_ip=None, revisor_comment='Movido a Dominio_público')]"
            ]
          },
          "metadata": {},
          "execution_count": 18
        }
      ]
    },
    {
      "cell_type": "code",
      "metadata": {
        "colab": {
          "base_uri": "https://localhost:8080/",
          "height": 1000
        },
        "id": "ctFY1RjHu1No",
        "outputId": "e8914a20-21e4-414c-be8f-61d7c77106a2"
      },
      "source": [
        "rdd.filter(lambda x: x.revision_timestamp != None and '-' in x.revision_timestamp)\\\n",
        ".takeOrdered(10, lambda x: -x.revision_timestamp)"
      ],
      "execution_count": null,
      "outputs": [
        {
          "output_type": "error",
          "ename": "Py4JJavaError",
          "evalue": "ignored",
          "traceback": [
            "\u001b[0;31m---------------------------------------------------------------------------\u001b[0m",
            "\u001b[0;31mPy4JJavaError\u001b[0m                             Traceback (most recent call last)",
            "\u001b[0;32m<ipython-input-19-477e664e2984>\u001b[0m in \u001b[0;36m<module>\u001b[0;34m()\u001b[0m\n\u001b[0;32m----> 1\u001b[0;31m \u001b[0mrdd\u001b[0m\u001b[0;34m.\u001b[0m\u001b[0mfilter\u001b[0m\u001b[0;34m(\u001b[0m\u001b[0;32mlambda\u001b[0m \u001b[0mx\u001b[0m\u001b[0;34m:\u001b[0m \u001b[0mx\u001b[0m\u001b[0;34m.\u001b[0m\u001b[0mrevision_timestamp\u001b[0m \u001b[0;34m!=\u001b[0m \u001b[0;32mNone\u001b[0m \u001b[0;32mand\u001b[0m \u001b[0;34m'-'\u001b[0m \u001b[0;32min\u001b[0m \u001b[0mx\u001b[0m\u001b[0;34m.\u001b[0m\u001b[0mrevision_timestamp\u001b[0m\u001b[0;34m)\u001b[0m\u001b[0;34m.\u001b[0m\u001b[0mtakeOrdered\u001b[0m\u001b[0;34m(\u001b[0m\u001b[0;36m10\u001b[0m\u001b[0;34m,\u001b[0m \u001b[0;32mlambda\u001b[0m \u001b[0mx\u001b[0m\u001b[0;34m:\u001b[0m \u001b[0;34m-\u001b[0m\u001b[0mx\u001b[0m\u001b[0;34m.\u001b[0m\u001b[0mrevision_timestamp\u001b[0m\u001b[0;34m)\u001b[0m\u001b[0;34m\u001b[0m\u001b[0;34m\u001b[0m\u001b[0m\n\u001b[0m",
            "\u001b[0;32m/usr/local/lib/python3.7/dist-packages/pyspark/rdd.py\u001b[0m in \u001b[0;36mtakeOrdered\u001b[0;34m(self, num, key)\u001b[0m\n\u001b[1;32m   1506\u001b[0m             \u001b[0;32mreturn\u001b[0m \u001b[0mheapq\u001b[0m\u001b[0;34m.\u001b[0m\u001b[0mnsmallest\u001b[0m\u001b[0;34m(\u001b[0m\u001b[0mnum\u001b[0m\u001b[0;34m,\u001b[0m \u001b[0ma\u001b[0m \u001b[0;34m+\u001b[0m \u001b[0mb\u001b[0m\u001b[0;34m,\u001b[0m \u001b[0mkey\u001b[0m\u001b[0;34m)\u001b[0m\u001b[0;34m\u001b[0m\u001b[0;34m\u001b[0m\u001b[0m\n\u001b[1;32m   1507\u001b[0m \u001b[0;34m\u001b[0m\u001b[0m\n\u001b[0;32m-> 1508\u001b[0;31m         \u001b[0;32mreturn\u001b[0m \u001b[0mself\u001b[0m\u001b[0;34m.\u001b[0m\u001b[0mmapPartitions\u001b[0m\u001b[0;34m(\u001b[0m\u001b[0;32mlambda\u001b[0m \u001b[0mit\u001b[0m\u001b[0;34m:\u001b[0m \u001b[0;34m[\u001b[0m\u001b[0mheapq\u001b[0m\u001b[0;34m.\u001b[0m\u001b[0mnsmallest\u001b[0m\u001b[0;34m(\u001b[0m\u001b[0mnum\u001b[0m\u001b[0;34m,\u001b[0m \u001b[0mit\u001b[0m\u001b[0;34m,\u001b[0m \u001b[0mkey\u001b[0m\u001b[0;34m)\u001b[0m\u001b[0;34m]\u001b[0m\u001b[0;34m)\u001b[0m\u001b[0;34m.\u001b[0m\u001b[0mreduce\u001b[0m\u001b[0;34m(\u001b[0m\u001b[0mmerge\u001b[0m\u001b[0;34m)\u001b[0m\u001b[0;34m\u001b[0m\u001b[0;34m\u001b[0m\u001b[0m\n\u001b[0m\u001b[1;32m   1509\u001b[0m \u001b[0;34m\u001b[0m\u001b[0m\n\u001b[1;32m   1510\u001b[0m     \u001b[0;32mdef\u001b[0m \u001b[0mtake\u001b[0m\u001b[0;34m(\u001b[0m\u001b[0mself\u001b[0m\u001b[0;34m,\u001b[0m \u001b[0mnum\u001b[0m\u001b[0;34m)\u001b[0m\u001b[0;34m:\u001b[0m\u001b[0;34m\u001b[0m\u001b[0;34m\u001b[0m\u001b[0m\n",
            "\u001b[0;32m/usr/local/lib/python3.7/dist-packages/pyspark/rdd.py\u001b[0m in \u001b[0;36mreduce\u001b[0;34m(self, f)\u001b[0m\n\u001b[1;32m    997\u001b[0m             \u001b[0;32myield\u001b[0m \u001b[0mreduce\u001b[0m\u001b[0;34m(\u001b[0m\u001b[0mf\u001b[0m\u001b[0;34m,\u001b[0m \u001b[0miterator\u001b[0m\u001b[0;34m,\u001b[0m \u001b[0minitial\u001b[0m\u001b[0;34m)\u001b[0m\u001b[0;34m\u001b[0m\u001b[0;34m\u001b[0m\u001b[0m\n\u001b[1;32m    998\u001b[0m \u001b[0;34m\u001b[0m\u001b[0m\n\u001b[0;32m--> 999\u001b[0;31m         \u001b[0mvals\u001b[0m \u001b[0;34m=\u001b[0m \u001b[0mself\u001b[0m\u001b[0;34m.\u001b[0m\u001b[0mmapPartitions\u001b[0m\u001b[0;34m(\u001b[0m\u001b[0mfunc\u001b[0m\u001b[0;34m)\u001b[0m\u001b[0;34m.\u001b[0m\u001b[0mcollect\u001b[0m\u001b[0;34m(\u001b[0m\u001b[0;34m)\u001b[0m\u001b[0;34m\u001b[0m\u001b[0;34m\u001b[0m\u001b[0m\n\u001b[0m\u001b[1;32m   1000\u001b[0m         \u001b[0;32mif\u001b[0m \u001b[0mvals\u001b[0m\u001b[0;34m:\u001b[0m\u001b[0;34m\u001b[0m\u001b[0;34m\u001b[0m\u001b[0m\n\u001b[1;32m   1001\u001b[0m             \u001b[0;32mreturn\u001b[0m \u001b[0mreduce\u001b[0m\u001b[0;34m(\u001b[0m\u001b[0mf\u001b[0m\u001b[0;34m,\u001b[0m \u001b[0mvals\u001b[0m\u001b[0;34m)\u001b[0m\u001b[0;34m\u001b[0m\u001b[0;34m\u001b[0m\u001b[0m\n",
            "\u001b[0;32m/usr/local/lib/python3.7/dist-packages/pyspark/rdd.py\u001b[0m in \u001b[0;36mcollect\u001b[0;34m(self)\u001b[0m\n\u001b[1;32m    948\u001b[0m         \"\"\"\n\u001b[1;32m    949\u001b[0m         \u001b[0;32mwith\u001b[0m \u001b[0mSCCallSiteSync\u001b[0m\u001b[0;34m(\u001b[0m\u001b[0mself\u001b[0m\u001b[0;34m.\u001b[0m\u001b[0mcontext\u001b[0m\u001b[0;34m)\u001b[0m \u001b[0;32mas\u001b[0m \u001b[0mcss\u001b[0m\u001b[0;34m:\u001b[0m\u001b[0;34m\u001b[0m\u001b[0;34m\u001b[0m\u001b[0m\n\u001b[0;32m--> 950\u001b[0;31m             \u001b[0msock_info\u001b[0m \u001b[0;34m=\u001b[0m \u001b[0mself\u001b[0m\u001b[0;34m.\u001b[0m\u001b[0mctx\u001b[0m\u001b[0;34m.\u001b[0m\u001b[0m_jvm\u001b[0m\u001b[0;34m.\u001b[0m\u001b[0mPythonRDD\u001b[0m\u001b[0;34m.\u001b[0m\u001b[0mcollectAndServe\u001b[0m\u001b[0;34m(\u001b[0m\u001b[0mself\u001b[0m\u001b[0;34m.\u001b[0m\u001b[0m_jrdd\u001b[0m\u001b[0;34m.\u001b[0m\u001b[0mrdd\u001b[0m\u001b[0;34m(\u001b[0m\u001b[0;34m)\u001b[0m\u001b[0;34m)\u001b[0m\u001b[0;34m\u001b[0m\u001b[0;34m\u001b[0m\u001b[0m\n\u001b[0m\u001b[1;32m    951\u001b[0m         \u001b[0;32mreturn\u001b[0m \u001b[0mlist\u001b[0m\u001b[0;34m(\u001b[0m\u001b[0m_load_from_socket\u001b[0m\u001b[0;34m(\u001b[0m\u001b[0msock_info\u001b[0m\u001b[0;34m,\u001b[0m \u001b[0mself\u001b[0m\u001b[0;34m.\u001b[0m\u001b[0m_jrdd_deserializer\u001b[0m\u001b[0;34m)\u001b[0m\u001b[0;34m)\u001b[0m\u001b[0;34m\u001b[0m\u001b[0;34m\u001b[0m\u001b[0m\n\u001b[1;32m    952\u001b[0m \u001b[0;34m\u001b[0m\u001b[0m\n",
            "\u001b[0;32m/usr/local/lib/python3.7/dist-packages/py4j/java_gateway.py\u001b[0m in \u001b[0;36m__call__\u001b[0;34m(self, *args)\u001b[0m\n\u001b[1;32m   1308\u001b[0m         \u001b[0manswer\u001b[0m \u001b[0;34m=\u001b[0m \u001b[0mself\u001b[0m\u001b[0;34m.\u001b[0m\u001b[0mgateway_client\u001b[0m\u001b[0;34m.\u001b[0m\u001b[0msend_command\u001b[0m\u001b[0;34m(\u001b[0m\u001b[0mcommand\u001b[0m\u001b[0;34m)\u001b[0m\u001b[0;34m\u001b[0m\u001b[0;34m\u001b[0m\u001b[0m\n\u001b[1;32m   1309\u001b[0m         return_value = get_return_value(\n\u001b[0;32m-> 1310\u001b[0;31m             answer, self.gateway_client, self.target_id, self.name)\n\u001b[0m\u001b[1;32m   1311\u001b[0m \u001b[0;34m\u001b[0m\u001b[0m\n\u001b[1;32m   1312\u001b[0m         \u001b[0;32mfor\u001b[0m \u001b[0mtemp_arg\u001b[0m \u001b[0;32min\u001b[0m \u001b[0mtemp_args\u001b[0m\u001b[0;34m:\u001b[0m\u001b[0;34m\u001b[0m\u001b[0;34m\u001b[0m\u001b[0m\n",
            "\u001b[0;32m/usr/local/lib/python3.7/dist-packages/pyspark/sql/utils.py\u001b[0m in \u001b[0;36mdeco\u001b[0;34m(*a, **kw)\u001b[0m\n\u001b[1;32m    109\u001b[0m     \u001b[0;32mdef\u001b[0m \u001b[0mdeco\u001b[0m\u001b[0;34m(\u001b[0m\u001b[0;34m*\u001b[0m\u001b[0ma\u001b[0m\u001b[0;34m,\u001b[0m \u001b[0;34m**\u001b[0m\u001b[0mkw\u001b[0m\u001b[0;34m)\u001b[0m\u001b[0;34m:\u001b[0m\u001b[0;34m\u001b[0m\u001b[0;34m\u001b[0m\u001b[0m\n\u001b[1;32m    110\u001b[0m         \u001b[0;32mtry\u001b[0m\u001b[0;34m:\u001b[0m\u001b[0;34m\u001b[0m\u001b[0;34m\u001b[0m\u001b[0m\n\u001b[0;32m--> 111\u001b[0;31m             \u001b[0;32mreturn\u001b[0m \u001b[0mf\u001b[0m\u001b[0;34m(\u001b[0m\u001b[0;34m*\u001b[0m\u001b[0ma\u001b[0m\u001b[0;34m,\u001b[0m \u001b[0;34m**\u001b[0m\u001b[0mkw\u001b[0m\u001b[0;34m)\u001b[0m\u001b[0;34m\u001b[0m\u001b[0;34m\u001b[0m\u001b[0m\n\u001b[0m\u001b[1;32m    112\u001b[0m         \u001b[0;32mexcept\u001b[0m \u001b[0mpy4j\u001b[0m\u001b[0;34m.\u001b[0m\u001b[0mprotocol\u001b[0m\u001b[0;34m.\u001b[0m\u001b[0mPy4JJavaError\u001b[0m \u001b[0;32mas\u001b[0m \u001b[0me\u001b[0m\u001b[0;34m:\u001b[0m\u001b[0;34m\u001b[0m\u001b[0;34m\u001b[0m\u001b[0m\n\u001b[1;32m    113\u001b[0m             \u001b[0mconverted\u001b[0m \u001b[0;34m=\u001b[0m \u001b[0mconvert_exception\u001b[0m\u001b[0;34m(\u001b[0m\u001b[0me\u001b[0m\u001b[0;34m.\u001b[0m\u001b[0mjava_exception\u001b[0m\u001b[0;34m)\u001b[0m\u001b[0;34m\u001b[0m\u001b[0;34m\u001b[0m\u001b[0m\n",
            "\u001b[0;32m/usr/local/lib/python3.7/dist-packages/py4j/protocol.py\u001b[0m in \u001b[0;36mget_return_value\u001b[0;34m(answer, gateway_client, target_id, name)\u001b[0m\n\u001b[1;32m    326\u001b[0m                 raise Py4JJavaError(\n\u001b[1;32m    327\u001b[0m                     \u001b[0;34m\"An error occurred while calling {0}{1}{2}.\\n\"\u001b[0m\u001b[0;34m.\u001b[0m\u001b[0;34m\u001b[0m\u001b[0;34m\u001b[0m\u001b[0m\n\u001b[0;32m--> 328\u001b[0;31m                     format(target_id, \".\", name), value)\n\u001b[0m\u001b[1;32m    329\u001b[0m             \u001b[0;32melse\u001b[0m\u001b[0;34m:\u001b[0m\u001b[0;34m\u001b[0m\u001b[0;34m\u001b[0m\u001b[0m\n\u001b[1;32m    330\u001b[0m                 raise Py4JError(\n",
            "\u001b[0;31mPy4JJavaError\u001b[0m: An error occurred while calling z:org.apache.spark.api.python.PythonRDD.collectAndServe.\n: org.apache.spark.SparkException: Job aborted due to stage failure: Task 0 in stage 14.0 failed 1 times, most recent failure: Lost task 0.0 in stage 14.0 (TID 61) (03073b19e810 executor driver): org.apache.spark.api.python.PythonException: Traceback (most recent call last):\n  File \"/usr/local/lib/python3.7/dist-packages/pyspark/python/lib/pyspark.zip/pyspark/worker.py\", line 619, in main\n    process()\n  File \"/usr/local/lib/python3.7/dist-packages/pyspark/python/lib/pyspark.zip/pyspark/worker.py\", line 609, in process\n    out_iter = func(split_index, iterator)\n  File \"/usr/local/lib/python3.7/dist-packages/pyspark/rdd.py\", line 2918, in pipeline_func\n    return func(split, prev_func(split, iterator))\n  File \"/usr/local/lib/python3.7/dist-packages/pyspark/rdd.py\", line 2918, in pipeline_func\n    return func(split, prev_func(split, iterator))\n  File \"/usr/local/lib/python3.7/dist-packages/pyspark/rdd.py\", line 417, in func\n    return f(iterator)\n  File \"/usr/local/lib/python3.7/dist-packages/pyspark/rdd.py\", line 1508, in <lambda>\n    return self.mapPartitions(lambda it: [heapq.nsmallest(num, it, key)]).reduce(merge)\n  File \"/usr/lib/python3.7/heapq.py\", line 508, in nsmallest\n    result = [(key(elem), i, elem) for i, elem in zip(range(n), it)]\n  File \"/usr/lib/python3.7/heapq.py\", line 508, in <listcomp>\n    result = [(key(elem), i, elem) for i, elem in zip(range(n), it)]\n  File \"<ipython-input-19-477e664e2984>\", line 1, in <lambda>\nTypeError: bad operand type for unary -: 'str'\n\n\tat org.apache.spark.api.python.BasePythonRunner$ReaderIterator.handlePythonException(PythonRunner.scala:545)\n\tat org.apache.spark.api.python.PythonRunner$$anon$3.read(PythonRunner.scala:703)\n\tat org.apache.spark.api.python.PythonRunner$$anon$3.read(PythonRunner.scala:685)\n\tat org.apache.spark.api.python.BasePythonRunner$ReaderIterator.hasNext(PythonRunner.scala:498)\n\tat org.apache.spark.InterruptibleIterator.hasNext(InterruptibleIterator.scala:37)\n\tat scala.collection.Iterator.foreach(Iterator.scala:943)\n\tat scala.collection.Iterator.foreach$(Iterator.scala:943)\n\tat org.apache.spark.InterruptibleIterator.foreach(InterruptibleIterator.scala:28)\n\tat scala.collection.generic.Growable.$plus$plus$eq(Growable.scala:62)\n\tat scala.collection.generic.Growable.$plus$plus$eq$(Growable.scala:53)\n\tat scala.collection.mutable.ArrayBuffer.$plus$plus$eq(ArrayBuffer.scala:105)\n\tat scala.collection.mutable.ArrayBuffer.$plus$plus$eq(ArrayBuffer.scala:49)\n\tat scala.collection.TraversableOnce.to(TraversableOnce.scala:366)\n\tat scala.collection.TraversableOnce.to$(TraversableOnce.scala:364)\n\tat org.apache.spark.InterruptibleIterator.to(InterruptibleIterator.scala:28)\n\tat scala.collection.TraversableOnce.toBuffer(TraversableOnce.scala:358)\n\tat scala.collection.TraversableOnce.toBuffer$(TraversableOnce.scala:358)\n\tat org.apache.spark.InterruptibleIterator.toBuffer(InterruptibleIterator.scala:28)\n\tat scala.collection.TraversableOnce.toArray(TraversableOnce.scala:345)\n\tat scala.collection.TraversableOnce.toArray$(TraversableOnce.scala:339)\n\tat org.apache.spark.InterruptibleIterator.toArray(InterruptibleIterator.scala:28)\n\tat org.apache.spark.rdd.RDD.$anonfun$collect$2(RDD.scala:1030)\n\tat org.apache.spark.SparkContext.$anonfun$runJob$5(SparkContext.scala:2254)\n\tat org.apache.spark.scheduler.ResultTask.runTask(ResultTask.scala:90)\n\tat org.apache.spark.scheduler.Task.run(Task.scala:131)\n\tat org.apache.spark.executor.Executor$TaskRunner.$anonfun$run$3(Executor.scala:506)\n\tat org.apache.spark.util.Utils$.tryWithSafeFinally(Utils.scala:1462)\n\tat org.apache.spark.executor.Executor$TaskRunner.run(Executor.scala:509)\n\tat java.util.concurrent.ThreadPoolExecutor.runWorker(ThreadPoolExecutor.java:1149)\n\tat java.util.concurrent.ThreadPoolExecutor$Worker.run(ThreadPoolExecutor.java:624)\n\tat java.lang.Thread.run(Thread.java:748)\n\nDriver stacktrace:\n\tat org.apache.spark.scheduler.DAGScheduler.failJobAndIndependentStages(DAGScheduler.scala:2403)\n\tat org.apache.spark.scheduler.DAGScheduler.$anonfun$abortStage$2(DAGScheduler.scala:2352)\n\tat org.apache.spark.scheduler.DAGScheduler.$anonfun$abortStage$2$adapted(DAGScheduler.scala:2351)\n\tat scala.collection.mutable.ResizableArray.foreach(ResizableArray.scala:62)\n\tat scala.collection.mutable.ResizableArray.foreach$(ResizableArray.scala:55)\n\tat scala.collection.mutable.ArrayBuffer.foreach(ArrayBuffer.scala:49)\n\tat org.apache.spark.scheduler.DAGScheduler.abortStage(DAGScheduler.scala:2351)\n\tat org.apache.spark.scheduler.DAGScheduler.$anonfun$handleTaskSetFailed$1(DAGScheduler.scala:1109)\n\tat org.apache.spark.scheduler.DAGScheduler.$anonfun$handleTaskSetFailed$1$adapted(DAGScheduler.scala:1109)\n\tat scala.Option.foreach(Option.scala:407)\n\tat org.apache.spark.scheduler.DAGScheduler.handleTaskSetFailed(DAGScheduler.scala:1109)\n\tat org.apache.spark.scheduler.DAGSchedulerEventProcessLoop.doOnReceive(DAGScheduler.scala:2591)\n\tat org.apache.spark.scheduler.DAGSchedulerEventProcessLoop.onReceive(DAGScheduler.scala:2533)\n\tat org.apache.spark.scheduler.DAGSchedulerEventProcessLoop.onReceive(DAGScheduler.scala:2522)\n\tat org.apache.spark.util.EventLoop$$anon$1.run(EventLoop.scala:49)\n\tat org.apache.spark.scheduler.DAGScheduler.runJob(DAGScheduler.scala:898)\n\tat org.apache.spark.SparkContext.runJob(SparkContext.scala:2214)\n\tat org.apache.spark.SparkContext.runJob(SparkContext.scala:2235)\n\tat org.apache.spark.SparkContext.runJob(SparkContext.scala:2254)\n\tat org.apache.spark.SparkContext.runJob(SparkContext.scala:2279)\n\tat org.apache.spark.rdd.RDD.$anonfun$collect$1(RDD.scala:1030)\n\tat org.apache.spark.rdd.RDDOperationScope$.withScope(RDDOperationScope.scala:151)\n\tat org.apache.spark.rdd.RDDOperationScope$.withScope(RDDOperationScope.scala:112)\n\tat org.apache.spark.rdd.RDD.withScope(RDD.scala:414)\n\tat org.apache.spark.rdd.RDD.collect(RDD.scala:1029)\n\tat org.apache.spark.api.python.PythonRDD$.collectAndServe(PythonRDD.scala:180)\n\tat org.apache.spark.api.python.PythonRDD.collectAndServe(PythonRDD.scala)\n\tat sun.reflect.NativeMethodAccessorImpl.invoke0(Native Method)\n\tat sun.reflect.NativeMethodAccessorImpl.invoke(NativeMethodAccessorImpl.java:62)\n\tat sun.reflect.DelegatingMethodAccessorImpl.invoke(DelegatingMethodAccessorImpl.java:43)\n\tat java.lang.reflect.Method.invoke(Method.java:498)\n\tat py4j.reflection.MethodInvoker.invoke(MethodInvoker.java:244)\n\tat py4j.reflection.ReflectionEngine.invoke(ReflectionEngine.java:357)\n\tat py4j.Gateway.invoke(Gateway.java:282)\n\tat py4j.commands.AbstractCommand.invokeMethod(AbstractCommand.java:132)\n\tat py4j.commands.CallCommand.execute(CallCommand.java:79)\n\tat py4j.ClientServerConnection.waitForCommands(ClientServerConnection.java:182)\n\tat py4j.ClientServerConnection.run(ClientServerConnection.java:106)\n\tat java.lang.Thread.run(Thread.java:748)\nCaused by: org.apache.spark.api.python.PythonException: Traceback (most recent call last):\n  File \"/usr/local/lib/python3.7/dist-packages/pyspark/python/lib/pyspark.zip/pyspark/worker.py\", line 619, in main\n    process()\n  File \"/usr/local/lib/python3.7/dist-packages/pyspark/python/lib/pyspark.zip/pyspark/worker.py\", line 609, in process\n    out_iter = func(split_index, iterator)\n  File \"/usr/local/lib/python3.7/dist-packages/pyspark/rdd.py\", line 2918, in pipeline_func\n    return func(split, prev_func(split, iterator))\n  File \"/usr/local/lib/python3.7/dist-packages/pyspark/rdd.py\", line 2918, in pipeline_func\n    return func(split, prev_func(split, iterator))\n  File \"/usr/local/lib/python3.7/dist-packages/pyspark/rdd.py\", line 417, in func\n    return f(iterator)\n  File \"/usr/local/lib/python3.7/dist-packages/pyspark/rdd.py\", line 1508, in <lambda>\n    return self.mapPartitions(lambda it: [heapq.nsmallest(num, it, key)]).reduce(merge)\n  File \"/usr/lib/python3.7/heapq.py\", line 508, in nsmallest\n    result = [(key(elem), i, elem) for i, elem in zip(range(n), it)]\n  File \"/usr/lib/python3.7/heapq.py\", line 508, in <listcomp>\n    result = [(key(elem), i, elem) for i, elem in zip(range(n), it)]\n  File \"<ipython-input-19-477e664e2984>\", line 1, in <lambda>\nTypeError: bad operand type for unary -: 'str'\n\n\tat org.apache.spark.api.python.BasePythonRunner$ReaderIterator.handlePythonException(PythonRunner.scala:545)\n\tat org.apache.spark.api.python.PythonRunner$$anon$3.read(PythonRunner.scala:703)\n\tat org.apache.spark.api.python.PythonRunner$$anon$3.read(PythonRunner.scala:685)\n\tat org.apache.spark.api.python.BasePythonRunner$ReaderIterator.hasNext(PythonRunner.scala:498)\n\tat org.apache.spark.InterruptibleIterator.hasNext(InterruptibleIterator.scala:37)\n\tat scala.collection.Iterator.foreach(Iterator.scala:943)\n\tat scala.collection.Iterator.foreach$(Iterator.scala:943)\n\tat org.apache.spark.InterruptibleIterator.foreach(InterruptibleIterator.scala:28)\n\tat scala.collection.generic.Growable.$plus$plus$eq(Growable.scala:62)\n\tat scala.collection.generic.Growable.$plus$plus$eq$(Growable.scala:53)\n\tat scala.collection.mutable.ArrayBuffer.$plus$plus$eq(ArrayBuffer.scala:105)\n\tat scala.collection.mutable.ArrayBuffer.$plus$plus$eq(ArrayBuffer.scala:49)\n\tat scala.collection.TraversableOnce.to(TraversableOnce.scala:366)\n\tat scala.collection.TraversableOnce.to$(TraversableOnce.scala:364)\n\tat org.apache.spark.InterruptibleIterator.to(InterruptibleIterator.scala:28)\n\tat scala.collection.TraversableOnce.toBuffer(TraversableOnce.scala:358)\n\tat scala.collection.TraversableOnce.toBuffer$(TraversableOnce.scala:358)\n\tat org.apache.spark.InterruptibleIterator.toBuffer(InterruptibleIterator.scala:28)\n\tat scala.collection.TraversableOnce.toArray(TraversableOnce.scala:345)\n\tat scala.collection.TraversableOnce.toArray$(TraversableOnce.scala:339)\n\tat org.apache.spark.InterruptibleIterator.toArray(InterruptibleIterator.scala:28)\n\tat org.apache.spark.rdd.RDD.$anonfun$collect$2(RDD.scala:1030)\n\tat org.apache.spark.SparkContext.$anonfun$runJob$5(SparkContext.scala:2254)\n\tat org.apache.spark.scheduler.ResultTask.runTask(ResultTask.scala:90)\n\tat org.apache.spark.scheduler.Task.run(Task.scala:131)\n\tat org.apache.spark.executor.Executor$TaskRunner.$anonfun$run$3(Executor.scala:506)\n\tat org.apache.spark.util.Utils$.tryWithSafeFinally(Utils.scala:1462)\n\tat org.apache.spark.executor.Executor$TaskRunner.run(Executor.scala:509)\n\tat java.util.concurrent.ThreadPoolExecutor.runWorker(ThreadPoolExecutor.java:1149)\n\tat java.util.concurrent.ThreadPoolExecutor$Worker.run(ThreadPoolExecutor.java:624)\n\t... 1 more\n"
          ]
        }
      ]
    },
    {
      "cell_type": "markdown",
      "metadata": {
        "id": "wprbcx11eBic"
      },
      "source": [
        "### Revisor con más artículos "
      ]
    },
    {
      "cell_type": "code",
      "metadata": {
        "id": "1EK0U7PO6D4v"
      },
      "source": [
        "con_revisor = rdd.filter(lambda x: x.revisor_id != None)"
      ],
      "execution_count": null,
      "outputs": []
    },
    {
      "cell_type": "code",
      "metadata": {
        "colab": {
          "base_uri": "https://localhost:8080/"
        },
        "id": "D8bnPWvnvg3V",
        "outputId": "7a8f3be5-3b02-4fe2-9610-fa00a23e2f4b"
      },
      "source": [
        "con_revisor.count()"
      ],
      "execution_count": null,
      "outputs": [
        {
          "output_type": "execute_result",
          "data": {
            "text/plain": [
              "3938877"
            ]
          },
          "metadata": {},
          "execution_count": 21
        }
      ]
    },
    {
      "cell_type": "code",
      "metadata": {
        "colab": {
          "base_uri": "https://localhost:8080/"
        },
        "id": "gMBKYEI_vjcO",
        "outputId": "7cef4518-70a1-4b83-ee59-313595f11aec"
      },
      "source": [
        "con_revisor.count()"
      ],
      "execution_count": null,
      "outputs": [
        {
          "output_type": "execute_result",
          "data": {
            "text/plain": [
              "3938877"
            ]
          },
          "metadata": {},
          "execution_count": 22
        }
      ]
    },
    {
      "cell_type": "code",
      "metadata": {
        "colab": {
          "base_uri": "https://localhost:8080/"
        },
        "id": "kCwBOI6Uvz1o",
        "outputId": "70c29fc6-10c3-48d6-a722-f78a3a71f5c9"
      },
      "source": [
        "con_revisor.map(lambda x: (x.revisor_username, 1)).reduceByKey(lambda x,y: x+y)\\\n",
        ".reduce(lambda x,y: x if x[1] > y[1] else y)"
      ],
      "execution_count": null,
      "outputs": [
        {
          "output_type": "execute_result",
          "data": {
            "text/plain": [
              "('Aosbot', 417275)"
            ]
          },
          "metadata": {},
          "execution_count": 23
        }
      ]
    },
    {
      "cell_type": "code",
      "metadata": {
        "colab": {
          "base_uri": "https://localhost:8080/"
        },
        "id": "O5in2Bhiwo3X",
        "outputId": "af11bf2a-387e-40d3-d288-56a58d338d2a"
      },
      "source": [
        "con_revisor.map(lambda x: (x.revisor_username, 1)).reduceByKey(lambda x,y: x+y)\\\n",
        ".takeOrdered(10, lambda x: -x[1])"
      ],
      "execution_count": null,
      "outputs": [
        {
          "output_type": "execute_result",
          "data": {
            "text/plain": [
              "[('Aosbot', 417275),\n",
              " ('Muro Bot', 374051),\n",
              " ('MILEPRI', 112484),\n",
              " ('Xqbot', 108233),\n",
              " ('KLBot2', 76523),\n",
              " ('CEM-bot', 75665),\n",
              " ('EmausBot', 73310),\n",
              " ('Invadibot', 72433),\n",
              " ('BOTijo', 72148),\n",
              " ('InternetArchiveBot', 61756)]"
            ]
          },
          "metadata": {},
          "execution_count": 24
        }
      ]
    },
    {
      "cell_type": "code",
      "metadata": {
        "id": "6dSNDzROxNS8"
      },
      "source": [
        ""
      ],
      "execution_count": null,
      "outputs": []
    }
  ]
}