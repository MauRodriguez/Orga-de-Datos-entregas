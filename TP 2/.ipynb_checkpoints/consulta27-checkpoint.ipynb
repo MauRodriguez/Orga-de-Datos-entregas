{
 "cells": [
  {
   "cell_type": "markdown",
   "id": "92a15062-ec2d-498c-9358-43567b91bffd",
   "metadata": {},
   "source": [
    "# 27. La probabilidad de que la versión actual de un contenido fuera editada sin dejar comentario para usuarios que están logueados y que no están logueados  (*)"
   ]
  },
  {
   "cell_type": "code",
   "execution_count": 5,
   "id": "a40f76d0-e491-49e9-bf17-5fc997508c54",
   "metadata": {},
   "outputs": [],
   "source": [
    "from pyspark.sql import *\n",
    "from pyspark.sql.functions import *\n",
    "from pyspark.sql import SQLContext\n",
    "import pandas as pd\n",
    "import numpy as np\n",
    "import os"
   ]
  },
  {
   "cell_type": "code",
   "execution_count": 6,
   "id": "0a9cb7f0-df54-4443-9821-c4431a906020",
   "metadata": {},
   "outputs": [],
   "source": [
    "spark = SparkSession.builder.getOrCreate()\n",
    "sc = spark.sparkContext\n",
    "sqlContext = SQLContext(sc)"
   ]
  },
  {
   "cell_type": "code",
   "execution_count": 7,
   "id": "e4e6b9c4-ab66-4b5d-8bdb-714baacd1c43",
   "metadata": {
    "tags": []
   },
   "outputs": [
    {
     "data": {
      "text/plain": [
       "[Row(title='Wikipedia:Artículos solicitados', id=5, namespace=4, revision_id=132533307, parent_revision=132516631.0, revision_timestamp='2021-01-19T18:40:34Z', revisor_username='Metrónomo', revisor_id=1708233.0, revisor_ip=None, revisor_comment='Así esta mejor'),\n",
       " Row(title='Andorra', id=7, namespace=0, revision_id=138035057, parent_revision=138027475.0, revision_timestamp='2021-08-31T18:27:01Z', revisor_username=None, revisor_id=None, revisor_ip='2800:CD0:FC1B:A900:C5A4:9E81:7175:2ED2', revisor_comment='Añadir contenido'),\n",
       " Row(title='Argentina', id=10, namespace=0, revision_id=137966826, parent_revision=137825165.0, revision_timestamp='2021-08-28T17:17:54Z', revisor_username='Traitrich', revisor_id=4642283.0, revisor_ip=None, revisor_comment='Reemplazos con [[Usuario:Benjavalero/Replacer|Replacer]]: «simbolos»'),\n",
       " Row(title='Geografía de Andorra', id=15, namespace=0, revision_id=137986788, parent_revision=133666383.0, revision_timestamp='2021-08-29T17:16:00Z', revisor_username='Lojwe', revisor_id=5338508.0, revisor_ip=None, revisor_comment='Reemplazos con [[Usuario:Benjavalero/Replacer|Replacer]]: «m.»'),\n",
       " Row(title='Demografía de Andorra', id=17, namespace=0, revision_id=130869554, parent_revision=129413188.0, revision_timestamp='2020-11-12T19:56:15Z', revisor_username='Jialxv', revisor_id=3615366.0, revisor_ip=None, revisor_comment='Correcciones ortográficas con [[Usuario:Benjavalero/Replacer|Replacer]] (herramienta en línea de revisión de errores)')]"
      ]
     },
     "execution_count": 7,
     "metadata": {},
     "output_type": "execute_result"
    }
   ],
   "source": [
    "content_text_ori = sqlContext.read.parquet('Wikipedia dataset 2c2021/contents.parquet').rdd\n",
    "content_text_ori.take(5)"
   ]
  },
  {
   "cell_type": "code",
   "execution_count": 9,
   "id": "c0284b65-b0a9-4b90-9fb8-1b3aaa0cb6f9",
   "metadata": {
    "tags": []
   },
   "outputs": [
    {
     "data": {
      "text/plain": [
       "[('Metrónomo', 'Así esta mejor'),\n",
       " ('Traitrich',\n",
       "  'Reemplazos con [[Usuario:Benjavalero/Replacer|Replacer]]: «simbolos»')]"
      ]
     },
     "execution_count": 9,
     "metadata": {},
     "output_type": "execute_result"
    }
   ],
   "source": [
    "logged_users = content_text_ori.filter(lambda x: x[6] is not None).map(lambda x: (x[6],x[9]))\n",
    "logged_users.take(2)"
   ]
  },
  {
   "cell_type": "code",
   "execution_count": 11,
   "id": "6343399b-3555-4fab-96a3-6d065467d067",
   "metadata": {},
   "outputs": [
    {
     "data": {
      "text/plain": [
       "[('2800:CD0:FC1B:A900:C5A4:9E81:7175:2ED2', 'Añadir contenido'),\n",
       " ('2806:1000:8101:7AFD:4962:AE:51CB:EFFD', None)]"
      ]
     },
     "execution_count": 11,
     "metadata": {},
     "output_type": "execute_result"
    }
   ],
   "source": [
    "unlogged_users = content_text_ori.filter(lambda x: x[6] is None).map(lambda x: (x[8],x[9]))\n",
    "unlogged_users.take(2)"
   ]
  },
  {
   "cell_type": "code",
   "execution_count": 13,
   "id": "7318b7c7-0a0c-4130-bdae-58c46291e6e4",
   "metadata": {},
   "outputs": [
    {
     "data": {
      "text/plain": [
       "3938877"
      ]
     },
     "execution_count": 13,
     "metadata": {},
     "output_type": "execute_result"
    }
   ],
   "source": [
    "ediciones_logueadas = logged_users.count()\n",
    "ediciones_logueadas"
   ]
  },
  {
   "cell_type": "code",
   "execution_count": 14,
   "id": "12c7ce11-8bc0-40a1-a565-346f1a4122e1",
   "metadata": {},
   "outputs": [
    {
     "data": {
      "text/plain": [
       "193287"
      ]
     },
     "execution_count": 14,
     "metadata": {},
     "output_type": "execute_result"
    }
   ],
   "source": [
    "ediciones_deslogueadas = unlogged_users.count()\n",
    "ediciones_deslogueadas"
   ]
  },
  {
   "cell_type": "code",
   "execution_count": 15,
   "id": "d2b7c7fe-b66f-4434-a269-a85fd16bbc7c",
   "metadata": {},
   "outputs": [
    {
     "data": {
      "text/plain": [
       "392149"
      ]
     },
     "execution_count": 15,
     "metadata": {},
     "output_type": "execute_result"
    }
   ],
   "source": [
    "no_comentadas_logueadas = logged_users.filter(lambda x: x[1] is None).count()\n",
    "no_comentadas_logueadas"
   ]
  },
  {
   "cell_type": "code",
   "execution_count": 16,
   "id": "247d2950-3c54-4f73-9816-cb7392a8d59d",
   "metadata": {},
   "outputs": [
    {
     "data": {
      "text/plain": [
       "77075"
      ]
     },
     "execution_count": 16,
     "metadata": {},
     "output_type": "execute_result"
    }
   ],
   "source": [
    "no_comentadas_deslogueadas = unlogged_users.filter(lambda x: x[1] is None).count()\n",
    "no_comentadas_deslogueadas"
   ]
  },
  {
   "cell_type": "code",
   "execution_count": 17,
   "id": "2a1e978d-94f3-4a59-9854-3d5e8479a6f2",
   "metadata": {},
   "outputs": [
    {
     "data": {
      "text/plain": [
       "0.0995585797677866"
      ]
     },
     "execution_count": 17,
     "metadata": {},
     "output_type": "execute_result"
    }
   ],
   "source": [
    "probabilidad_no_comentados_logueados = no_comentadas_logueadas / ediciones_logueadas\n",
    "probabilidad_no_comentados_logueados"
   ]
  },
  {
   "cell_type": "code",
   "execution_count": 18,
   "id": "ef2d523b-e09e-4322-af9f-e0e61d33c98d",
   "metadata": {},
   "outputs": [
    {
     "data": {
      "text/plain": [
       "0.3987593578461045"
      ]
     },
     "execution_count": 18,
     "metadata": {},
     "output_type": "execute_result"
    }
   ],
   "source": [
    "probabilidad_no_comentados_deslogueados = no_comentadas_deslogueadas / ediciones_deslogueadas\n",
    "probabilidad_no_comentados_deslogueados"
   ]
  },
  {
   "cell_type": "markdown",
   "id": "f1d20ab0-d5b2-4bdf-9c07-6830cbf32971",
   "metadata": {},
   "source": [
    "## Como se puede ver en base a la experiencia es mucho más probable que un usuario sin loguearse deje una edición sin comentar"
   ]
  },
  {
   "cell_type": "code",
   "execution_count": null,
   "id": "53e67457-f6e1-44eb-97fb-48fd37d5dca1",
   "metadata": {},
   "outputs": [],
   "source": []
  }
 ],
 "metadata": {
  "kernelspec": {
   "display_name": "Python 3",
   "language": "python",
   "name": "python3"
  },
  "language_info": {
   "codemirror_mode": {
    "name": "ipython",
    "version": 3
   },
   "file_extension": ".py",
   "mimetype": "text/x-python",
   "name": "python",
   "nbconvert_exporter": "python",
   "pygments_lexer": "ipython3",
   "version": "3.8.10"
  }
 },
 "nbformat": 4,
 "nbformat_minor": 5
}
