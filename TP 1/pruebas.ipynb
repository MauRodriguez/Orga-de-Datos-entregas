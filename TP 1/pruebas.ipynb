{
 "cells": [
  {
   "cell_type": "code",
   "execution_count": 1,
   "id": "01bfc7b8-88e1-4a0c-98e4-aeb2c7dde0d5",
   "metadata": {},
   "outputs": [],
   "source": [
    "import pandas as pd\n",
    "import numpy as np\n",
    "import seaborn as sns\n",
    "import matplotlib.pyplot as plt\n",
    "%matplotlib inline"
   ]
  },
  {
   "cell_type": "code",
   "execution_count": 2,
   "id": "52f41d58-e7f5-4675-81d4-688755635ae5",
   "metadata": {},
   "outputs": [],
   "source": [
    "contents = pd.read_csv(\"Wikipedia dataset 2c2021/contents.csv\", dtype = {\"namespace\":\"category\", \"revision_id\": np.uintc\\\n",
    "                        ,\"id\": np.uintc}, parse_dates = [\"revision_timestamp\"])\n",
    "#faltaría \"revisor_id\" : np.uintc, \"parent_revision\" : np.uintc pero alguno de los dos siempre es null"
   ]
  },
  {
   "cell_type": "code",
   "execution_count": 3,
   "id": "b328e99c-0da9-4b45-a487-a06e941bed97",
   "metadata": {},
   "outputs": [
    {
     "data": {
      "text/html": [
       "<div>\n",
       "<style scoped>\n",
       "    .dataframe tbody tr th:only-of-type {\n",
       "        vertical-align: middle;\n",
       "    }\n",
       "\n",
       "    .dataframe tbody tr th {\n",
       "        vertical-align: top;\n",
       "    }\n",
       "\n",
       "    .dataframe thead th {\n",
       "        text-align: right;\n",
       "    }\n",
       "</style>\n",
       "<table border=\"1\" class=\"dataframe\">\n",
       "  <thead>\n",
       "    <tr style=\"text-align: right;\">\n",
       "      <th></th>\n",
       "      <th>title</th>\n",
       "      <th>id</th>\n",
       "      <th>namespace</th>\n",
       "      <th>revision_id</th>\n",
       "      <th>parent_revision</th>\n",
       "      <th>revision_timestamp</th>\n",
       "      <th>revisor_username</th>\n",
       "      <th>revisor_id</th>\n",
       "      <th>revisor_ip</th>\n",
       "      <th>revisor_comment</th>\n",
       "    </tr>\n",
       "  </thead>\n",
       "  <tbody>\n",
       "    <tr>\n",
       "      <th>0</th>\n",
       "      <td>Wikipedia:Artículos solicitados</td>\n",
       "      <td>5</td>\n",
       "      <td>4</td>\n",
       "      <td>132533307</td>\n",
       "      <td>132516631.0</td>\n",
       "      <td>2021-01-19 18:40:34+00:00</td>\n",
       "      <td>Metrónomo</td>\n",
       "      <td>1708233.0</td>\n",
       "      <td>NaN</td>\n",
       "      <td>Así esta mejor</td>\n",
       "    </tr>\n",
       "    <tr>\n",
       "      <th>1</th>\n",
       "      <td>Andorra</td>\n",
       "      <td>7</td>\n",
       "      <td>0</td>\n",
       "      <td>138035057</td>\n",
       "      <td>138027475.0</td>\n",
       "      <td>2021-08-31 18:27:01+00:00</td>\n",
       "      <td>NaN</td>\n",
       "      <td>NaN</td>\n",
       "      <td>2800:CD0:FC1B:A900:C5A4:9E81:7175:2ED2</td>\n",
       "      <td>Añadir contenido</td>\n",
       "    </tr>\n",
       "    <tr>\n",
       "      <th>2</th>\n",
       "      <td>Argentina</td>\n",
       "      <td>10</td>\n",
       "      <td>0</td>\n",
       "      <td>137966826</td>\n",
       "      <td>137825165.0</td>\n",
       "      <td>2021-08-28 17:17:54+00:00</td>\n",
       "      <td>Traitrich</td>\n",
       "      <td>4642283.0</td>\n",
       "      <td>NaN</td>\n",
       "      <td>Reemplazos con [[Usuario:Benjavalero/Replacer|...</td>\n",
       "    </tr>\n",
       "    <tr>\n",
       "      <th>3</th>\n",
       "      <td>Geografía de Andorra</td>\n",
       "      <td>15</td>\n",
       "      <td>0</td>\n",
       "      <td>137986788</td>\n",
       "      <td>133666383.0</td>\n",
       "      <td>2021-08-29 17:16:00+00:00</td>\n",
       "      <td>Lojwe</td>\n",
       "      <td>5338508.0</td>\n",
       "      <td>NaN</td>\n",
       "      <td>Reemplazos con [[Usuario:Benjavalero/Replacer|...</td>\n",
       "    </tr>\n",
       "    <tr>\n",
       "      <th>4</th>\n",
       "      <td>Demografía de Andorra</td>\n",
       "      <td>17</td>\n",
       "      <td>0</td>\n",
       "      <td>130869554</td>\n",
       "      <td>129413188.0</td>\n",
       "      <td>2020-11-12 19:56:15+00:00</td>\n",
       "      <td>Jialxv</td>\n",
       "      <td>3615366.0</td>\n",
       "      <td>NaN</td>\n",
       "      <td>Correcciones ortográficas con [[Usuario:Benjav...</td>\n",
       "    </tr>\n",
       "    <tr>\n",
       "      <th>5</th>\n",
       "      <td>Comunicaciones de Andorra</td>\n",
       "      <td>18</td>\n",
       "      <td>0</td>\n",
       "      <td>132654704</td>\n",
       "      <td>125753476.0</td>\n",
       "      <td>2021-01-24 13:33:34+00:00</td>\n",
       "      <td>PatriHorrillo</td>\n",
       "      <td>689866.0</td>\n",
       "      <td>NaN</td>\n",
       "      <td>Correcciones ortográficas con [[Usuario:Benjav...</td>\n",
       "    </tr>\n",
       "    <tr>\n",
       "      <th>6</th>\n",
       "      <td>Artes visuales</td>\n",
       "      <td>19</td>\n",
       "      <td>0</td>\n",
       "      <td>138035407</td>\n",
       "      <td>138035406.0</td>\n",
       "      <td>2021-08-31 18:45:28+00:00</td>\n",
       "      <td>SeroBOT</td>\n",
       "      <td>4980693.0</td>\n",
       "      <td>NaN</td>\n",
       "      <td>Revertidos los cambios de [[Special:Contributi...</td>\n",
       "    </tr>\n",
       "    <tr>\n",
       "      <th>7</th>\n",
       "      <td>Agricultura</td>\n",
       "      <td>20</td>\n",
       "      <td>0</td>\n",
       "      <td>138023408</td>\n",
       "      <td>137909816.0</td>\n",
       "      <td>2021-08-31 04:43:18+00:00</td>\n",
       "      <td>Arctos71</td>\n",
       "      <td>6331749.0</td>\n",
       "      <td>NaN</td>\n",
       "      <td>NaN</td>\n",
       "    </tr>\n",
       "    <tr>\n",
       "      <th>8</th>\n",
       "      <td>Astronomía galáctica</td>\n",
       "      <td>22</td>\n",
       "      <td>0</td>\n",
       "      <td>134653454</td>\n",
       "      <td>120853916.0</td>\n",
       "      <td>2021-04-10 07:54:41+00:00</td>\n",
       "      <td>LOLAOMI</td>\n",
       "      <td>6048511.0</td>\n",
       "      <td>NaN</td>\n",
       "      <td>Correcciones ortográficas con [[Usuario:Benjav...</td>\n",
       "    </tr>\n",
       "    <tr>\n",
       "      <th>9</th>\n",
       "      <td>ASCII</td>\n",
       "      <td>23</td>\n",
       "      <td>0</td>\n",
       "      <td>137833249</td>\n",
       "      <td>137833185.0</td>\n",
       "      <td>2021-08-22 16:18:01+00:00</td>\n",
       "      <td>Jkbw</td>\n",
       "      <td>936194.0</td>\n",
       "      <td>NaN</td>\n",
       "      <td>Revertidos los cambios de [[Special:Contributi...</td>\n",
       "    </tr>\n",
       "  </tbody>\n",
       "</table>\n",
       "</div>"
      ],
      "text/plain": [
       "                             title  id namespace  revision_id  \\\n",
       "0  Wikipedia:Artículos solicitados   5         4    132533307   \n",
       "1                          Andorra   7         0    138035057   \n",
       "2                        Argentina  10         0    137966826   \n",
       "3             Geografía de Andorra  15         0    137986788   \n",
       "4            Demografía de Andorra  17         0    130869554   \n",
       "5        Comunicaciones de Andorra  18         0    132654704   \n",
       "6                   Artes visuales  19         0    138035407   \n",
       "7                      Agricultura  20         0    138023408   \n",
       "8             Astronomía galáctica  22         0    134653454   \n",
       "9                            ASCII  23         0    137833249   \n",
       "\n",
       "   parent_revision        revision_timestamp revisor_username  revisor_id  \\\n",
       "0      132516631.0 2021-01-19 18:40:34+00:00        Metrónomo   1708233.0   \n",
       "1      138027475.0 2021-08-31 18:27:01+00:00              NaN         NaN   \n",
       "2      137825165.0 2021-08-28 17:17:54+00:00        Traitrich   4642283.0   \n",
       "3      133666383.0 2021-08-29 17:16:00+00:00            Lojwe   5338508.0   \n",
       "4      129413188.0 2020-11-12 19:56:15+00:00           Jialxv   3615366.0   \n",
       "5      125753476.0 2021-01-24 13:33:34+00:00    PatriHorrillo    689866.0   \n",
       "6      138035406.0 2021-08-31 18:45:28+00:00          SeroBOT   4980693.0   \n",
       "7      137909816.0 2021-08-31 04:43:18+00:00         Arctos71   6331749.0   \n",
       "8      120853916.0 2021-04-10 07:54:41+00:00          LOLAOMI   6048511.0   \n",
       "9      137833185.0 2021-08-22 16:18:01+00:00             Jkbw    936194.0   \n",
       "\n",
       "                               revisor_ip  \\\n",
       "0                                     NaN   \n",
       "1  2800:CD0:FC1B:A900:C5A4:9E81:7175:2ED2   \n",
       "2                                     NaN   \n",
       "3                                     NaN   \n",
       "4                                     NaN   \n",
       "5                                     NaN   \n",
       "6                                     NaN   \n",
       "7                                     NaN   \n",
       "8                                     NaN   \n",
       "9                                     NaN   \n",
       "\n",
       "                                     revisor_comment  \n",
       "0                                     Así esta mejor  \n",
       "1                                   Añadir contenido  \n",
       "2  Reemplazos con [[Usuario:Benjavalero/Replacer|...  \n",
       "3  Reemplazos con [[Usuario:Benjavalero/Replacer|...  \n",
       "4  Correcciones ortográficas con [[Usuario:Benjav...  \n",
       "5  Correcciones ortográficas con [[Usuario:Benjav...  \n",
       "6  Revertidos los cambios de [[Special:Contributi...  \n",
       "7                                                NaN  \n",
       "8  Correcciones ortográficas con [[Usuario:Benjav...  \n",
       "9  Revertidos los cambios de [[Special:Contributi...  "
      ]
     },
     "execution_count": 3,
     "metadata": {},
     "output_type": "execute_result"
    }
   ],
   "source": [
    "contents.head(10)"
   ]
  },
  {
   "cell_type": "code",
   "execution_count": 4,
   "id": "2a9fd455-5028-49c6-9556-54b62d7a1194",
   "metadata": {},
   "outputs": [
    {
     "data": {
      "text/plain": [
       "41321640"
      ]
     },
     "execution_count": 4,
     "metadata": {},
     "output_type": "execute_result"
    }
   ],
   "source": [
    "contents.size"
   ]
  },
  {
   "cell_type": "code",
   "execution_count": 5,
   "id": "f0d93b99-8983-464a-b2c4-23d329ecdebf",
   "metadata": {},
   "outputs": [
    {
     "data": {
      "text/plain": [
       "Index(['title', 'id', 'namespace', 'revision_id', 'parent_revision',\n",
       "       'revision_timestamp', 'revisor_username', 'revisor_id', 'revisor_ip',\n",
       "       'revisor_comment'],\n",
       "      dtype='object')"
      ]
     },
     "execution_count": 5,
     "metadata": {},
     "output_type": "execute_result"
    }
   ],
   "source": [
    "contents.columns"
   ]
  },
  {
   "cell_type": "code",
   "execution_count": 6,
   "id": "30306bce-1e89-4cb2-82f8-57fd38f38fb9",
   "metadata": {},
   "outputs": [
    {
     "data": {
      "text/plain": [
       "RangeIndex(start=0, stop=4132164, step=1)"
      ]
     },
     "execution_count": 6,
     "metadata": {},
     "output_type": "execute_result"
    }
   ],
   "source": [
    "contents.index"
   ]
  },
  {
   "cell_type": "code",
   "execution_count": 7,
   "id": "3b118359-470d-4d39-a824-7fca232d3de2",
   "metadata": {},
   "outputs": [
    {
     "data": {
      "text/plain": [
       "array([['Wikipedia:Artículos solicitados', 5, '4', ..., 1708233.0, nan,\n",
       "        'Así esta mejor'],\n",
       "       ['Andorra', 7, '0', ..., nan,\n",
       "        '2800:CD0:FC1B:A900:C5A4:9E81:7175:2ED2', 'Añadir contenido'],\n",
       "       ['Argentina', 10, '0', ..., 4642283.0, nan,\n",
       "        'Reemplazos con [[Usuario:Benjavalero/Replacer|Replacer]]: «simbolos»'],\n",
       "       ...,\n",
       "       ['Rocasaurus', 10010596, '0', ..., 158577.0, nan,\n",
       "        'Gabriel Solo trasladó la página [[Rocasaurus]] a [[Rocasaurus muniozi]]'],\n",
       "       ['Medalla Conmemorativa del 50.º Aniversario de la Milítsia',\n",
       "        10010598, '0', ..., 5429951.0, nan,\n",
       "        'Términus trasladó la página [[Medalla Conmemorativa del 50.º Aniversario de la Milítsia]] a [[Medalla Conmemorativa del 50.º Aniversario de la Milítsiya]]: nombre incorrecto'],\n",
       "       ['Fatikroy', 10010600, '0', ..., 86975.0, nan,\n",
       "        'Añadiendo la [[Categoría:Localidades de Tripura]] mediante [[Wikipedia:HotCat|HotCat]]']],\n",
       "      dtype=object)"
      ]
     },
     "execution_count": 7,
     "metadata": {},
     "output_type": "execute_result"
    }
   ],
   "source": [
    "contents.values"
   ]
  },
  {
   "cell_type": "code",
   "execution_count": 8,
   "id": "cf66bc9e-99fd-41ab-a663-d68aab04c32f",
   "metadata": {},
   "outputs": [
    {
     "data": {
      "text/plain": [
       "(4132164, 10)"
      ]
     },
     "execution_count": 8,
     "metadata": {},
     "output_type": "execute_result"
    }
   ],
   "source": [
    "contents.shape"
   ]
  },
  {
   "cell_type": "code",
   "execution_count": 9,
   "id": "3d0802be-6424-40a4-9ade-50d5dbc0a9ac",
   "metadata": {},
   "outputs": [
    {
     "name": "stdout",
     "output_type": "stream",
     "text": [
      "<class 'pandas.core.frame.DataFrame'>\n",
      "RangeIndex: 4132164 entries, 0 to 4132163\n",
      "Data columns (total 10 columns):\n",
      " #   Column              Dtype              \n",
      "---  ------              -----              \n",
      " 0   title               object             \n",
      " 1   id                  uint32             \n",
      " 2   namespace           category           \n",
      " 3   revision_id         uint32             \n",
      " 4   parent_revision     float64            \n",
      " 5   revision_timestamp  datetime64[ns, UTC]\n",
      " 6   revisor_username    object             \n",
      " 7   revisor_id          float64            \n",
      " 8   revisor_ip          object             \n",
      " 9   revisor_comment     object             \n",
      "dtypes: category(1), datetime64[ns, UTC](1), float64(2), object(4), uint32(2)\n",
      "memory usage: 256.1+ MB\n"
     ]
    }
   ],
   "source": [
    "contents.info()"
   ]
  }
 ],
 "metadata": {
  "kernelspec": {
   "display_name": "Python 3",
   "language": "python",
   "name": "python3"
  },
  "language_info": {
   "codemirror_mode": {
    "name": "ipython",
    "version": 3
   },
   "file_extension": ".py",
   "mimetype": "text/x-python",
   "name": "python",
   "nbconvert_exporter": "python",
   "pygments_lexer": "ipython3",
   "version": "3.8.10"
  }
 },
 "nbformat": 4,
 "nbformat_minor": 5
}
