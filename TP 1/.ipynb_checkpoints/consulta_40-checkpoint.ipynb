{
 "cells": [
  {
   "cell_type": "markdown",
   "id": "fa116e18-ea9e-4fca-8bb8-a6f7cb69dbef",
   "metadata": {},
   "source": [
    "# MAURICIO RODRIGUEZ BERTELLA 100624"
   ]
  },
  {
   "cell_type": "markdown",
   "id": "2d5002d4-5749-499e-a25a-fb8c1ad8a2d8",
   "metadata": {},
   "source": [
    "# 40. Para los contenidos geolocalizados: ¿Cúal es el contenido más cercano del que fue editado más recientemente? ¿Y la diferencia entre sus tiempos de edición? (⭐⭐⭐)"
   ]
  },
  {
   "cell_type": "code",
   "execution_count": 1,
   "id": "778fba94-e628-4731-a6b8-eb8633758039",
   "metadata": {
    "tags": []
   },
   "outputs": [],
   "source": [
    "import pandas as pd\n",
    "import numpy as np"
   ]
  }
 ],
 "metadata": {
  "kernelspec": {
   "display_name": "Python 3",
   "language": "python",
   "name": "python3"
  },
  "language_info": {
   "codemirror_mode": {
    "name": "ipython",
    "version": 3
   },
   "file_extension": ".py",
   "mimetype": "text/x-python",
   "name": "python",
   "nbconvert_exporter": "python",
   "pygments_lexer": "ipython3",
   "version": "3.8.10"
  }
 },
 "nbformat": 4,
 "nbformat_minor": 5
}
