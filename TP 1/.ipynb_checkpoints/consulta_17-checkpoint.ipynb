{
 "cells": [
  {
   "cell_type": "markdown",
   "id": "b29630bc-de0f-46e8-869b-a182b9ad5fa8",
   "metadata": {},
   "source": [
    "# MAURICIO RODRIGUEZ BERTELLA 100624"
   ]
  },
  {
   "cell_type": "markdown",
   "id": "546bc7d2-5f71-4536-9241-8890c5e03c55",
   "metadata": {},
   "source": [
    "# 17. Utilice los textos del contenido para realizar consultas por texto utilizando las técnicas vistas en la clase de NLP (BOW o TF-IDF) de modo que la query \"retablo iglesia\" devuelva alguna página acerca del retablo de alguna iglesia (⭐⭐)"
   ]
  },
  {
   "cell_type": "code",
   "execution_count": 1,
   "id": "dbfa708f-bd0c-4f62-9be6-7597d8d3723d",
   "metadata": {
    "tags": []
   },
   "outputs": [],
   "source": [
    "import pandas as pd\n",
    "import numpy as np"
   ]
  },
  {
   "cell_type": "code",
   "execution_count": 4,
   "id": "d4992c85-b332-4e9f-949f-93cc2ef72f80",
   "metadata": {},
   "outputs": [
    {
     "data": {
      "text/html": [
       "<div>\n",
       "<style scoped>\n",
       "    .dataframe tbody tr th:only-of-type {\n",
       "        vertical-align: middle;\n",
       "    }\n",
       "\n",
       "    .dataframe tbody tr th {\n",
       "        vertical-align: top;\n",
       "    }\n",
       "\n",
       "    .dataframe thead th {\n",
       "        text-align: right;\n",
       "    }\n",
       "</style>\n",
       "<table border=\"1\" class=\"dataframe\">\n",
       "  <thead>\n",
       "    <tr style=\"text-align: right;\">\n",
       "      <th></th>\n",
       "      <th>id</th>\n",
       "      <th>title</th>\n",
       "      <th>text</th>\n",
       "    </tr>\n",
       "  </thead>\n",
       "  <tbody>\n",
       "    <tr>\n",
       "      <th>0</th>\n",
       "      <td>50</td>\n",
       "      <td>Anacardiaceae</td>\n",
       "      <td>{{Ficha de taxón\\n| name = Anacardiáceas\\n| im...</td>\n",
       "    </tr>\n",
       "    <tr>\n",
       "      <th>1</th>\n",
       "      <td>62</td>\n",
       "      <td>Antipartícula</td>\n",
       "      <td>[[Archivo:Materia antimateria.png|thumb|200px|...</td>\n",
       "    </tr>\n",
       "    <tr>\n",
       "      <th>2</th>\n",
       "      <td>78</td>\n",
       "      <td>Año bisiesto</td>\n",
       "      <td>'''Año bisiesto''' es una expresión que deriva...</td>\n",
       "    </tr>\n",
       "    <tr>\n",
       "      <th>3</th>\n",
       "      <td>127</td>\n",
       "      <td>Avena</td>\n",
       "      <td>{{otros usos|Avena sativa|la avena común}}\\n{{...</td>\n",
       "    </tr>\n",
       "    <tr>\n",
       "      <th>4</th>\n",
       "      <td>160</td>\n",
       "      <td>Alfabeto</td>\n",
       "      <td>{{distinguir|analfabeto|alfabetización}} \\n[[A...</td>\n",
       "    </tr>\n",
       "  </tbody>\n",
       "</table>\n",
       "</div>"
      ],
      "text/plain": [
       "    id          title                                               text\n",
       "0   50  Anacardiaceae  {{Ficha de taxón\\n| name = Anacardiáceas\\n| im...\n",
       "1   62  Antipartícula  [[Archivo:Materia antimateria.png|thumb|200px|...\n",
       "2   78   Año bisiesto  '''Año bisiesto''' es una expresión que deriva...\n",
       "3  127          Avena  {{otros usos|Avena sativa|la avena común}}\\n{{...\n",
       "4  160       Alfabeto  {{distinguir|analfabeto|alfabetización}} \\n[[A..."
      ]
     },
     "execution_count": 4,
     "metadata": {},
     "output_type": "execute_result"
    }
   ],
   "source": [
    "contents = pd.read_csv(\"Wikipedia dataset 2c2021/contents_text_sample.csv\")\n",
    "contents.head()"
   ]
  },
  {
   "cell_type": "code",
   "execution_count": 1,
   "id": "39b20682-604e-438e-9969-bcee500abc80",
   "metadata": {},
   "outputs": [],
   "source": []
  },
  {
   "cell_type": "code",
   "execution_count": null,
   "id": "037c40f8-8a59-4437-9110-a7ce1eb406b4",
   "metadata": {},
   "outputs": [],
   "source": []
  }
 ],
 "metadata": {
  "kernelspec": {
   "display_name": "Python 3",
   "language": "python",
   "name": "python3"
  },
  "language_info": {
   "codemirror_mode": {
    "name": "ipython",
    "version": 3
   },
   "file_extension": ".py",
   "mimetype": "text/x-python",
   "name": "python",
   "nbconvert_exporter": "python",
   "pygments_lexer": "ipython3",
   "version": "3.8.10"
  }
 },
 "nbformat": 4,
 "nbformat_minor": 5
}
