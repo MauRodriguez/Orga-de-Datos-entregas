{
 "cells": [
  {
   "cell_type": "markdown",
   "id": "da9e72e0-a469-4c66-add4-19538c588301",
   "metadata": {},
   "source": [
    "# VISU - H1N1 VACCINES - Bar Plot"
   ]
  },
  {
   "cell_type": "code",
   "execution_count": 1,
   "id": "e8e3b41e-e247-4c79-8f60-ef05b91fc793",
   "metadata": {},
   "outputs": [],
   "source": [
    "import pandas as pd\n",
    "import numpy as np\n",
    "import seaborn as sns\n",
    "import matplotlib.pyplot as plt\n",
    "%matplotlib inline"
   ]
  },
  {
   "cell_type": "code",
   "execution_count": 2,
   "id": "3eccf282-576f-44bb-abf7-a1c3ea954542",
   "metadata": {},
   "outputs": [],
   "source": [
    "vacc_features = pd.read_csv(\"H1N1 Vaccines/training_set_features.csv\")\n",
    "vacc_labels = pd.read_csv(\"H1N1 Vaccines/training_set_labels.csv\")"
   ]
  },
  {
   "cell_type": "code",
   "execution_count": 5,
   "id": "c4d18e61-b54c-4a4f-885a-9119513371d8",
   "metadata": {},
   "outputs": [
    {
     "data": {
      "text/html": [
       "<div>\n",
       "<style scoped>\n",
       "    .dataframe tbody tr th:only-of-type {\n",
       "        vertical-align: middle;\n",
       "    }\n",
       "\n",
       "    .dataframe tbody tr th {\n",
       "        vertical-align: top;\n",
       "    }\n",
       "\n",
       "    .dataframe thead th {\n",
       "        text-align: right;\n",
       "    }\n",
       "</style>\n",
       "<table border=\"1\" class=\"dataframe\">\n",
       "  <thead>\n",
       "    <tr style=\"text-align: right;\">\n",
       "      <th></th>\n",
       "      <th>respondent_id</th>\n",
       "      <th>age_group</th>\n",
       "    </tr>\n",
       "  </thead>\n",
       "  <tbody>\n",
       "    <tr>\n",
       "      <th>0</th>\n",
       "      <td>0</td>\n",
       "      <td>55 - 64 Years</td>\n",
       "    </tr>\n",
       "    <tr>\n",
       "      <th>1</th>\n",
       "      <td>1</td>\n",
       "      <td>35 - 44 Years</td>\n",
       "    </tr>\n",
       "    <tr>\n",
       "      <th>2</th>\n",
       "      <td>2</td>\n",
       "      <td>18 - 34 Years</td>\n",
       "    </tr>\n",
       "    <tr>\n",
       "      <th>3</th>\n",
       "      <td>3</td>\n",
       "      <td>65+ Years</td>\n",
       "    </tr>\n",
       "    <tr>\n",
       "      <th>4</th>\n",
       "      <td>4</td>\n",
       "      <td>45 - 54 Years</td>\n",
       "    </tr>\n",
       "    <tr>\n",
       "      <th>...</th>\n",
       "      <td>...</td>\n",
       "      <td>...</td>\n",
       "    </tr>\n",
       "    <tr>\n",
       "      <th>26702</th>\n",
       "      <td>26702</td>\n",
       "      <td>65+ Years</td>\n",
       "    </tr>\n",
       "    <tr>\n",
       "      <th>26703</th>\n",
       "      <td>26703</td>\n",
       "      <td>18 - 34 Years</td>\n",
       "    </tr>\n",
       "    <tr>\n",
       "      <th>26704</th>\n",
       "      <td>26704</td>\n",
       "      <td>55 - 64 Years</td>\n",
       "    </tr>\n",
       "    <tr>\n",
       "      <th>26705</th>\n",
       "      <td>26705</td>\n",
       "      <td>18 - 34 Years</td>\n",
       "    </tr>\n",
       "    <tr>\n",
       "      <th>26706</th>\n",
       "      <td>26706</td>\n",
       "      <td>65+ Years</td>\n",
       "    </tr>\n",
       "  </tbody>\n",
       "</table>\n",
       "<p>26707 rows × 2 columns</p>\n",
       "</div>"
      ],
      "text/plain": [
       "       respondent_id      age_group\n",
       "0                  0  55 - 64 Years\n",
       "1                  1  35 - 44 Years\n",
       "2                  2  18 - 34 Years\n",
       "3                  3      65+ Years\n",
       "4                  4  45 - 54 Years\n",
       "...              ...            ...\n",
       "26702          26702      65+ Years\n",
       "26703          26703  18 - 34 Years\n",
       "26704          26704  55 - 64 Years\n",
       "26705          26705  18 - 34 Years\n",
       "26706          26706      65+ Years\n",
       "\n",
       "[26707 rows x 2 columns]"
      ]
     },
     "execution_count": 5,
     "metadata": {},
     "output_type": "execute_result"
    }
   ],
   "source": [
    "vacc_features = vacc_features.loc[:,[\"respondent_id\",\"age_group\"]]\n",
    "vacc_features"
   ]
  },
  {
   "cell_type": "code",
   "execution_count": 9,
   "id": "dff188e7-94db-43ce-a517-2f4cdb1a1cd1",
   "metadata": {},
   "outputs": [
    {
     "data": {
      "text/html": [
       "<div>\n",
       "<style scoped>\n",
       "    .dataframe tbody tr th:only-of-type {\n",
       "        vertical-align: middle;\n",
       "    }\n",
       "\n",
       "    .dataframe tbody tr th {\n",
       "        vertical-align: top;\n",
       "    }\n",
       "\n",
       "    .dataframe thead th {\n",
       "        text-align: right;\n",
       "    }\n",
       "</style>\n",
       "<table border=\"1\" class=\"dataframe\">\n",
       "  <thead>\n",
       "    <tr style=\"text-align: right;\">\n",
       "      <th></th>\n",
       "      <th>age_group</th>\n",
       "      <th>h1n1_vaccine</th>\n",
       "    </tr>\n",
       "  </thead>\n",
       "  <tbody>\n",
       "    <tr>\n",
       "      <th>0</th>\n",
       "      <td>18 - 34 Years</td>\n",
       "      <td>991</td>\n",
       "    </tr>\n",
       "    <tr>\n",
       "      <th>1</th>\n",
       "      <td>35 - 44 Years</td>\n",
       "      <td>761</td>\n",
       "    </tr>\n",
       "    <tr>\n",
       "      <th>2</th>\n",
       "      <td>45 - 54 Years</td>\n",
       "      <td>1020</td>\n",
       "    </tr>\n",
       "    <tr>\n",
       "      <th>3</th>\n",
       "      <td>55 - 64 Years</td>\n",
       "      <td>1351</td>\n",
       "    </tr>\n",
       "    <tr>\n",
       "      <th>4</th>\n",
       "      <td>65+ Years</td>\n",
       "      <td>1551</td>\n",
       "    </tr>\n",
       "  </tbody>\n",
       "</table>\n",
       "</div>"
      ],
      "text/plain": [
       "       age_group  h1n1_vaccine\n",
       "0  18 - 34 Years           991\n",
       "1  35 - 44 Years           761\n",
       "2  45 - 54 Years          1020\n",
       "3  55 - 64 Years          1351\n",
       "4      65+ Years          1551"
      ]
     },
     "execution_count": 9,
     "metadata": {},
     "output_type": "execute_result"
    }
   ],
   "source": [
    "merge = vacc_labels.merge(vacc_features,on=\"respondent_id\",how='inner')\n",
    "merge = merge.loc[merge.h1n1_vaccine >= 1]\n",
    "gb = merge.groupby(\"age_group\").agg({\"h1n1_vaccine\":\"sum\"}).reset_index()\n",
    "gb"
   ]
  },
  {
   "cell_type": "code",
   "execution_count": 15,
   "id": "4674276c-ff82-43ce-a5ff-76b6424db4b5",
   "metadata": {},
   "outputs": [
    {
     "data": {
      "text/plain": [
       "[Text(0, 0, '18 - 34'),\n",
       " Text(1, 0, '35 - 44'),\n",
       " Text(2, 0, '45 - 54'),\n",
       " Text(3, 0, '55 - 64'),\n",
       " Text(4, 0, '65+')]"
      ]
     },
     "execution_count": 15,
     "metadata": {},
     "output_type": "execute_result"
    },
    {
     "data": {
      "image/png": "[encoded data removed]",
      "text/plain": [
       "<Figure size 1020x680 with 1 Axes>"
      ]
     },
     "metadata": {
      "needs_background": "light"
     },
     "output_type": "display_data"
    }
   ],
   "source": [
    "fig, ax = plt.subplots(dpi=170)\n",
    "ax.set_title('Cantidad de vacunados por grupo de edad',fontsize=12)\n",
    "sns.barplot(x=gb.age_group, y=gb.h1n1_vaccine,palette=\"Oranges\")\n",
    "ax.set_ylabel('Cantidad de vacunados',fontsize=10)\n",
    "ax.set_xlabel('Grupo de edad',fontsize=10)\n",
    "x_labels = [\"18 - 34\", \"35 - 44\", \"45 - 54\", \"55 - 64\",\"65+\"]\n",
    "ax.set_xticklabels(x_labels,fontsize=10)"
   ]
  },
  {
   "cell_type": "code",
   "execution_count": null,
   "id": "bff4d538-1afb-47d7-874e-4772d58effd4",
   "metadata": {},
   "outputs": [],
   "source": []
  }
 ],
 "metadata": {
  "kernelspec": {
   "display_name": "Python 3",
   "language": "python",
   "name": "python3"
  },
  "language_info": {
   "codemirror_mode": {
    "name": "ipython",
    "version": 3
   },
   "file_extension": ".py",
   "mimetype": "text/x-python",
   "name": "python",
   "nbconvert_exporter": "python",
   "pygments_lexer": "ipython3",
   "version": "3.8.10"
  }
 },
 "nbformat": 4,
 "nbformat_minor": 5
}
