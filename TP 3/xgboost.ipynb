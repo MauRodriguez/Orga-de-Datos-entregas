{
 "cells": [
  {
   "cell_type": "code",
   "execution_count": 1,
   "id": "ae21190e-9499-4596-b817-693883afa82e",
   "metadata": {},
   "outputs": [],
   "source": [
    "import pandas as pd\n",
    "import numpy as np\n",
    "\n",
    "from sklearn.model_selection import RandomizedSearchCV\n",
    "from sklearn.metrics import roc_auc_score\n",
    "from sklearn.preprocessing import OneHotEncoder\n",
    "from sklearn.feature_extraction.text import CountVectorizer\n",
    "\n",
    "from xgboost import XGBClassifier"
   ]
  },
  {
   "cell_type": "code",
   "execution_count": 2,
   "id": "b254f0aa-0942-414a-b9de-81a88992741e",
   "metadata": {},
   "outputs": [],
   "source": [
    "transaction_ori = pd.read_csv(\"ieee-fraud-detection/train_transaction.csv\")\n",
    "identity_ori = pd.read_csv(\"ieee-fraud-detection/train_identity.csv\")"
   ]
  },
  {
   "cell_type": "code",
   "execution_count": 3,
   "id": "f5470912-5b81-4cfe-9541-6006d34b813e",
   "metadata": {},
   "outputs": [
    {
     "data": {
      "text/html": [
       "<div>\n",
       "<style scoped>\n",
       "    .dataframe tbody tr th:only-of-type {\n",
       "        vertical-align: middle;\n",
       "    }\n",
       "\n",
       "    .dataframe tbody tr th {\n",
       "        vertical-align: top;\n",
       "    }\n",
       "\n",
       "    .dataframe thead th {\n",
       "        text-align: right;\n",
       "    }\n",
       "</style>\n",
       "<table border=\"1\" class=\"dataframe\">\n",
       "  <thead>\n",
       "    <tr style=\"text-align: right;\">\n",
       "      <th></th>\n",
       "      <th>TransactionID</th>\n",
       "      <th>isFraud</th>\n",
       "      <th>TransactionDT</th>\n",
       "      <th>TransactionAmt</th>\n",
       "      <th>ProductCD</th>\n",
       "      <th>card1</th>\n",
       "      <th>card2</th>\n",
       "      <th>card3</th>\n",
       "      <th>card4</th>\n",
       "      <th>card5</th>\n",
       "      <th>...</th>\n",
       "      <th>id_31</th>\n",
       "      <th>id_32</th>\n",
       "      <th>id_33</th>\n",
       "      <th>id_34</th>\n",
       "      <th>id_35</th>\n",
       "      <th>id_36</th>\n",
       "      <th>id_37</th>\n",
       "      <th>id_38</th>\n",
       "      <th>DeviceType</th>\n",
       "      <th>DeviceInfo</th>\n",
       "    </tr>\n",
       "  </thead>\n",
       "  <tbody>\n",
       "    <tr>\n",
       "      <th>0</th>\n",
       "      <td>2987000</td>\n",
       "      <td>0</td>\n",
       "      <td>86400</td>\n",
       "      <td>68.50</td>\n",
       "      <td>W</td>\n",
       "      <td>13926</td>\n",
       "      <td>NaN</td>\n",
       "      <td>150.0</td>\n",
       "      <td>discover</td>\n",
       "      <td>142.0</td>\n",
       "      <td>...</td>\n",
       "      <td>NaN</td>\n",
       "      <td>NaN</td>\n",
       "      <td>NaN</td>\n",
       "      <td>NaN</td>\n",
       "      <td>NaN</td>\n",
       "      <td>NaN</td>\n",
       "      <td>NaN</td>\n",
       "      <td>NaN</td>\n",
       "      <td>NaN</td>\n",
       "      <td>NaN</td>\n",
       "    </tr>\n",
       "    <tr>\n",
       "      <th>1</th>\n",
       "      <td>2987001</td>\n",
       "      <td>0</td>\n",
       "      <td>86401</td>\n",
       "      <td>29.00</td>\n",
       "      <td>W</td>\n",
       "      <td>2755</td>\n",
       "      <td>404.0</td>\n",
       "      <td>150.0</td>\n",
       "      <td>mastercard</td>\n",
       "      <td>102.0</td>\n",
       "      <td>...</td>\n",
       "      <td>NaN</td>\n",
       "      <td>NaN</td>\n",
       "      <td>NaN</td>\n",
       "      <td>NaN</td>\n",
       "      <td>NaN</td>\n",
       "      <td>NaN</td>\n",
       "      <td>NaN</td>\n",
       "      <td>NaN</td>\n",
       "      <td>NaN</td>\n",
       "      <td>NaN</td>\n",
       "    </tr>\n",
       "    <tr>\n",
       "      <th>2</th>\n",
       "      <td>2987002</td>\n",
       "      <td>0</td>\n",
       "      <td>86469</td>\n",
       "      <td>59.00</td>\n",
       "      <td>W</td>\n",
       "      <td>4663</td>\n",
       "      <td>490.0</td>\n",
       "      <td>150.0</td>\n",
       "      <td>visa</td>\n",
       "      <td>166.0</td>\n",
       "      <td>...</td>\n",
       "      <td>NaN</td>\n",
       "      <td>NaN</td>\n",
       "      <td>NaN</td>\n",
       "      <td>NaN</td>\n",
       "      <td>NaN</td>\n",
       "      <td>NaN</td>\n",
       "      <td>NaN</td>\n",
       "      <td>NaN</td>\n",
       "      <td>NaN</td>\n",
       "      <td>NaN</td>\n",
       "    </tr>\n",
       "    <tr>\n",
       "      <th>3</th>\n",
       "      <td>2987003</td>\n",
       "      <td>0</td>\n",
       "      <td>86499</td>\n",
       "      <td>50.00</td>\n",
       "      <td>W</td>\n",
       "      <td>18132</td>\n",
       "      <td>567.0</td>\n",
       "      <td>150.0</td>\n",
       "      <td>mastercard</td>\n",
       "      <td>117.0</td>\n",
       "      <td>...</td>\n",
       "      <td>NaN</td>\n",
       "      <td>NaN</td>\n",
       "      <td>NaN</td>\n",
       "      <td>NaN</td>\n",
       "      <td>NaN</td>\n",
       "      <td>NaN</td>\n",
       "      <td>NaN</td>\n",
       "      <td>NaN</td>\n",
       "      <td>NaN</td>\n",
       "      <td>NaN</td>\n",
       "    </tr>\n",
       "    <tr>\n",
       "      <th>4</th>\n",
       "      <td>2987004</td>\n",
       "      <td>0</td>\n",
       "      <td>86506</td>\n",
       "      <td>50.00</td>\n",
       "      <td>H</td>\n",
       "      <td>4497</td>\n",
       "      <td>514.0</td>\n",
       "      <td>150.0</td>\n",
       "      <td>mastercard</td>\n",
       "      <td>102.0</td>\n",
       "      <td>...</td>\n",
       "      <td>samsung browser 6.2</td>\n",
       "      <td>32.0</td>\n",
       "      <td>2220x1080</td>\n",
       "      <td>match_status:2</td>\n",
       "      <td>T</td>\n",
       "      <td>F</td>\n",
       "      <td>T</td>\n",
       "      <td>T</td>\n",
       "      <td>mobile</td>\n",
       "      <td>SAMSUNG SM-G892A Build/NRD90M</td>\n",
       "    </tr>\n",
       "    <tr>\n",
       "      <th>...</th>\n",
       "      <td>...</td>\n",
       "      <td>...</td>\n",
       "      <td>...</td>\n",
       "      <td>...</td>\n",
       "      <td>...</td>\n",
       "      <td>...</td>\n",
       "      <td>...</td>\n",
       "      <td>...</td>\n",
       "      <td>...</td>\n",
       "      <td>...</td>\n",
       "      <td>...</td>\n",
       "      <td>...</td>\n",
       "      <td>...</td>\n",
       "      <td>...</td>\n",
       "      <td>...</td>\n",
       "      <td>...</td>\n",
       "      <td>...</td>\n",
       "      <td>...</td>\n",
       "      <td>...</td>\n",
       "      <td>...</td>\n",
       "      <td>...</td>\n",
       "    </tr>\n",
       "    <tr>\n",
       "      <th>590535</th>\n",
       "      <td>3577535</td>\n",
       "      <td>0</td>\n",
       "      <td>15811047</td>\n",
       "      <td>49.00</td>\n",
       "      <td>W</td>\n",
       "      <td>6550</td>\n",
       "      <td>NaN</td>\n",
       "      <td>150.0</td>\n",
       "      <td>visa</td>\n",
       "      <td>226.0</td>\n",
       "      <td>...</td>\n",
       "      <td>NaN</td>\n",
       "      <td>NaN</td>\n",
       "      <td>NaN</td>\n",
       "      <td>NaN</td>\n",
       "      <td>NaN</td>\n",
       "      <td>NaN</td>\n",
       "      <td>NaN</td>\n",
       "      <td>NaN</td>\n",
       "      <td>NaN</td>\n",
       "      <td>NaN</td>\n",
       "    </tr>\n",
       "    <tr>\n",
       "      <th>590536</th>\n",
       "      <td>3577536</td>\n",
       "      <td>0</td>\n",
       "      <td>15811049</td>\n",
       "      <td>39.50</td>\n",
       "      <td>W</td>\n",
       "      <td>10444</td>\n",
       "      <td>225.0</td>\n",
       "      <td>150.0</td>\n",
       "      <td>mastercard</td>\n",
       "      <td>224.0</td>\n",
       "      <td>...</td>\n",
       "      <td>NaN</td>\n",
       "      <td>NaN</td>\n",
       "      <td>NaN</td>\n",
       "      <td>NaN</td>\n",
       "      <td>NaN</td>\n",
       "      <td>NaN</td>\n",
       "      <td>NaN</td>\n",
       "      <td>NaN</td>\n",
       "      <td>NaN</td>\n",
       "      <td>NaN</td>\n",
       "    </tr>\n",
       "    <tr>\n",
       "      <th>590537</th>\n",
       "      <td>3577537</td>\n",
       "      <td>0</td>\n",
       "      <td>15811079</td>\n",
       "      <td>30.95</td>\n",
       "      <td>W</td>\n",
       "      <td>12037</td>\n",
       "      <td>595.0</td>\n",
       "      <td>150.0</td>\n",
       "      <td>mastercard</td>\n",
       "      <td>224.0</td>\n",
       "      <td>...</td>\n",
       "      <td>NaN</td>\n",
       "      <td>NaN</td>\n",
       "      <td>NaN</td>\n",
       "      <td>NaN</td>\n",
       "      <td>NaN</td>\n",
       "      <td>NaN</td>\n",
       "      <td>NaN</td>\n",
       "      <td>NaN</td>\n",
       "      <td>NaN</td>\n",
       "      <td>NaN</td>\n",
       "    </tr>\n",
       "    <tr>\n",
       "      <th>590538</th>\n",
       "      <td>3577538</td>\n",
       "      <td>0</td>\n",
       "      <td>15811088</td>\n",
       "      <td>117.00</td>\n",
       "      <td>W</td>\n",
       "      <td>7826</td>\n",
       "      <td>481.0</td>\n",
       "      <td>150.0</td>\n",
       "      <td>mastercard</td>\n",
       "      <td>224.0</td>\n",
       "      <td>...</td>\n",
       "      <td>NaN</td>\n",
       "      <td>NaN</td>\n",
       "      <td>NaN</td>\n",
       "      <td>NaN</td>\n",
       "      <td>NaN</td>\n",
       "      <td>NaN</td>\n",
       "      <td>NaN</td>\n",
       "      <td>NaN</td>\n",
       "      <td>NaN</td>\n",
       "      <td>NaN</td>\n",
       "    </tr>\n",
       "    <tr>\n",
       "      <th>590539</th>\n",
       "      <td>3577539</td>\n",
       "      <td>0</td>\n",
       "      <td>15811131</td>\n",
       "      <td>279.95</td>\n",
       "      <td>W</td>\n",
       "      <td>15066</td>\n",
       "      <td>170.0</td>\n",
       "      <td>150.0</td>\n",
       "      <td>mastercard</td>\n",
       "      <td>102.0</td>\n",
       "      <td>...</td>\n",
       "      <td>NaN</td>\n",
       "      <td>NaN</td>\n",
       "      <td>NaN</td>\n",
       "      <td>NaN</td>\n",
       "      <td>NaN</td>\n",
       "      <td>NaN</td>\n",
       "      <td>NaN</td>\n",
       "      <td>NaN</td>\n",
       "      <td>NaN</td>\n",
       "      <td>NaN</td>\n",
       "    </tr>\n",
       "  </tbody>\n",
       "</table>\n",
       "<p>590540 rows × 434 columns</p>\n",
       "</div>"
      ],
      "text/plain": [
       "        TransactionID  isFraud  TransactionDT  TransactionAmt ProductCD  \\\n",
       "0             2987000        0          86400           68.50         W   \n",
       "1             2987001        0          86401           29.00         W   \n",
       "2             2987002        0          86469           59.00         W   \n",
       "3             2987003        0          86499           50.00         W   \n",
       "4             2987004        0          86506           50.00         H   \n",
       "...               ...      ...            ...             ...       ...   \n",
       "590535        3577535        0       15811047           49.00         W   \n",
       "590536        3577536        0       15811049           39.50         W   \n",
       "590537        3577537        0       15811079           30.95         W   \n",
       "590538        3577538        0       15811088          117.00         W   \n",
       "590539        3577539        0       15811131          279.95         W   \n",
       "\n",
       "        card1  card2  card3       card4  card5  ...                id_31  \\\n",
       "0       13926    NaN  150.0    discover  142.0  ...                  NaN   \n",
       "1        2755  404.0  150.0  mastercard  102.0  ...                  NaN   \n",
       "2        4663  490.0  150.0        visa  166.0  ...                  NaN   \n",
       "3       18132  567.0  150.0  mastercard  117.0  ...                  NaN   \n",
       "4        4497  514.0  150.0  mastercard  102.0  ...  samsung browser 6.2   \n",
       "...       ...    ...    ...         ...    ...  ...                  ...   \n",
       "590535   6550    NaN  150.0        visa  226.0  ...                  NaN   \n",
       "590536  10444  225.0  150.0  mastercard  224.0  ...                  NaN   \n",
       "590537  12037  595.0  150.0  mastercard  224.0  ...                  NaN   \n",
       "590538   7826  481.0  150.0  mastercard  224.0  ...                  NaN   \n",
       "590539  15066  170.0  150.0  mastercard  102.0  ...                  NaN   \n",
       "\n",
       "        id_32      id_33           id_34  id_35 id_36 id_37  id_38  \\\n",
       "0         NaN        NaN             NaN    NaN   NaN   NaN    NaN   \n",
       "1         NaN        NaN             NaN    NaN   NaN   NaN    NaN   \n",
       "2         NaN        NaN             NaN    NaN   NaN   NaN    NaN   \n",
       "3         NaN        NaN             NaN    NaN   NaN   NaN    NaN   \n",
       "4        32.0  2220x1080  match_status:2      T     F     T      T   \n",
       "...       ...        ...             ...    ...   ...   ...    ...   \n",
       "590535    NaN        NaN             NaN    NaN   NaN   NaN    NaN   \n",
       "590536    NaN        NaN             NaN    NaN   NaN   NaN    NaN   \n",
       "590537    NaN        NaN             NaN    NaN   NaN   NaN    NaN   \n",
       "590538    NaN        NaN             NaN    NaN   NaN   NaN    NaN   \n",
       "590539    NaN        NaN             NaN    NaN   NaN   NaN    NaN   \n",
       "\n",
       "        DeviceType                     DeviceInfo  \n",
       "0              NaN                            NaN  \n",
       "1              NaN                            NaN  \n",
       "2              NaN                            NaN  \n",
       "3              NaN                            NaN  \n",
       "4           mobile  SAMSUNG SM-G892A Build/NRD90M  \n",
       "...            ...                            ...  \n",
       "590535         NaN                            NaN  \n",
       "590536         NaN                            NaN  \n",
       "590537         NaN                            NaN  \n",
       "590538         NaN                            NaN  \n",
       "590539         NaN                            NaN  \n",
       "\n",
       "[590540 rows x 434 columns]"
      ]
     },
     "execution_count": 3,
     "metadata": {},
     "output_type": "execute_result"
    }
   ],
   "source": [
    "merge = transaction_ori.merge(identity_ori, on = \"TransactionID\", how = \"left\")\n",
    "transaction_ori = None\n",
    "identity_ori = None\n",
    "merge"
   ]
  },
  {
   "cell_type": "markdown",
   "id": "ffd16ab8-8d77-4ddb-bbe4-3af1d14b57bc",
   "metadata": {},
   "source": [
    "## CountVectorizer"
   ]
  },
  {
   "cell_type": "code",
   "execution_count": 4,
   "id": "61d04fac-f26f-45b0-9cec-c56005dba429",
   "metadata": {
    "tags": []
   },
   "outputs": [
    {
     "data": {
      "text/plain": [
       "['Other',\n",
       " 'Other',\n",
       " 'Other',\n",
       " 'Other',\n",
       " 'Android 7.0',\n",
       " 'Other',\n",
       " 'Other',\n",
       " 'Other',\n",
       " 'iOS 11.1.2',\n",
       " 'Other',\n",
       " 'Other',\n",
       " 'Other',\n",
       " 'Other',\n",
       " 'Other',\n",
       " 'Other',\n",
       " 'Other',\n",
       " 'Mac OS X 10_11_6',\n",
       " 'Windows 10',\n",
       " 'Other',\n",
       " 'Other']"
      ]
     },
     "execution_count": 4,
     "metadata": {},
     "output_type": "execute_result"
    }
   ],
   "source": [
    "merge.id_30 = merge.id_30.fillna(\"Other\")\n",
    "list(merge.id_30)[0:20]"
   ]
  },
  {
   "cell_type": "code",
   "execution_count": 5,
   "id": "cb030975-bc0f-4663-a42a-424e39fdcebc",
   "metadata": {},
   "outputs": [],
   "source": [
    "vectorizer = CountVectorizer(max_features=15)"
   ]
  },
  {
   "cell_type": "code",
   "execution_count": 6,
   "id": "f3c7c94a-bd52-4d7d-93e0-70829dcc768c",
   "metadata": {},
   "outputs": [],
   "source": [
    "matrix = vectorizer.fit_transform(list(merge.id_30))"
   ]
  },
  {
   "cell_type": "code",
   "execution_count": 7,
   "id": "02c18e67-e12f-485b-aa7e-6694936b20a8",
   "metadata": {
    "tags": []
   },
   "outputs": [
    {
     "data": {
      "text/plain": [
       "{'other': 13,\n",
       " 'android': 8,\n",
       " 'ios': 9,\n",
       " '11': 7,\n",
       " 'mac': 11,\n",
       " 'os': 12,\n",
       " '10_11_6': 2,\n",
       " 'windows': 14,\n",
       " '10': 0,\n",
       " 'linux': 10,\n",
       " '10_12_6': 3,\n",
       " '10_13_1': 4,\n",
       " '10_10_5': 1,\n",
       " '10_13_2': 5,\n",
       " '10_13_3': 6}"
      ]
     },
     "execution_count": 7,
     "metadata": {},
     "output_type": "execute_result"
    }
   ],
   "source": [
    "vectorizer.vocabulary_"
   ]
  },
  {
   "cell_type": "code",
   "execution_count": 8,
   "id": "1dcd86d9-3e57-4a90-aa05-a0c41803b03b",
   "metadata": {
    "tags": []
   },
   "outputs": [],
   "source": [
    "merge[\"android_so\"] = list(np.asarray(matrix.todense())[:,8])\n",
    "merge[\"ios_so\"] = list(np.asarray(matrix.todense())[:,9])\n",
    "merge[\"mac_so\"] = list(np.asarray(matrix.todense())[:,11])\n",
    "merge[\"windows_so\"] = list(np.asarray(matrix.todense())[:,14])\n",
    "merge[\"linux_so\"] = list(np.asarray(matrix.todense())[:,10])"
   ]
  },
  {
   "cell_type": "code",
   "execution_count": 9,
   "id": "d3b1cfd9-4372-4fb2-b3b9-a36f40bd3b8f",
   "metadata": {
    "tags": []
   },
   "outputs": [
    {
     "data": {
      "text/html": [
       "<div>\n",
       "<style scoped>\n",
       "    .dataframe tbody tr th:only-of-type {\n",
       "        vertical-align: middle;\n",
       "    }\n",
       "\n",
       "    .dataframe tbody tr th {\n",
       "        vertical-align: top;\n",
       "    }\n",
       "\n",
       "    .dataframe thead th {\n",
       "        text-align: right;\n",
       "    }\n",
       "</style>\n",
       "<table border=\"1\" class=\"dataframe\">\n",
       "  <thead>\n",
       "    <tr style=\"text-align: right;\">\n",
       "      <th></th>\n",
       "      <th>id_30</th>\n",
       "      <th>android_so</th>\n",
       "      <th>ios_so</th>\n",
       "      <th>mac_so</th>\n",
       "      <th>windows_so</th>\n",
       "      <th>linux_so</th>\n",
       "    </tr>\n",
       "  </thead>\n",
       "  <tbody>\n",
       "    <tr>\n",
       "      <th>0</th>\n",
       "      <td>Other</td>\n",
       "      <td>0</td>\n",
       "      <td>0</td>\n",
       "      <td>0</td>\n",
       "      <td>0</td>\n",
       "      <td>0</td>\n",
       "    </tr>\n",
       "    <tr>\n",
       "      <th>1</th>\n",
       "      <td>Other</td>\n",
       "      <td>0</td>\n",
       "      <td>0</td>\n",
       "      <td>0</td>\n",
       "      <td>0</td>\n",
       "      <td>0</td>\n",
       "    </tr>\n",
       "    <tr>\n",
       "      <th>2</th>\n",
       "      <td>Other</td>\n",
       "      <td>0</td>\n",
       "      <td>0</td>\n",
       "      <td>0</td>\n",
       "      <td>0</td>\n",
       "      <td>0</td>\n",
       "    </tr>\n",
       "    <tr>\n",
       "      <th>3</th>\n",
       "      <td>Other</td>\n",
       "      <td>0</td>\n",
       "      <td>0</td>\n",
       "      <td>0</td>\n",
       "      <td>0</td>\n",
       "      <td>0</td>\n",
       "    </tr>\n",
       "    <tr>\n",
       "      <th>4</th>\n",
       "      <td>Android 7.0</td>\n",
       "      <td>1</td>\n",
       "      <td>0</td>\n",
       "      <td>0</td>\n",
       "      <td>0</td>\n",
       "      <td>0</td>\n",
       "    </tr>\n",
       "    <tr>\n",
       "      <th>5</th>\n",
       "      <td>Other</td>\n",
       "      <td>0</td>\n",
       "      <td>0</td>\n",
       "      <td>0</td>\n",
       "      <td>0</td>\n",
       "      <td>0</td>\n",
       "    </tr>\n",
       "    <tr>\n",
       "      <th>6</th>\n",
       "      <td>Other</td>\n",
       "      <td>0</td>\n",
       "      <td>0</td>\n",
       "      <td>0</td>\n",
       "      <td>0</td>\n",
       "      <td>0</td>\n",
       "    </tr>\n",
       "    <tr>\n",
       "      <th>7</th>\n",
       "      <td>Other</td>\n",
       "      <td>0</td>\n",
       "      <td>0</td>\n",
       "      <td>0</td>\n",
       "      <td>0</td>\n",
       "      <td>0</td>\n",
       "    </tr>\n",
       "    <tr>\n",
       "      <th>8</th>\n",
       "      <td>iOS 11.1.2</td>\n",
       "      <td>0</td>\n",
       "      <td>1</td>\n",
       "      <td>0</td>\n",
       "      <td>0</td>\n",
       "      <td>0</td>\n",
       "    </tr>\n",
       "    <tr>\n",
       "      <th>9</th>\n",
       "      <td>Other</td>\n",
       "      <td>0</td>\n",
       "      <td>0</td>\n",
       "      <td>0</td>\n",
       "      <td>0</td>\n",
       "      <td>0</td>\n",
       "    </tr>\n",
       "    <tr>\n",
       "      <th>10</th>\n",
       "      <td>Other</td>\n",
       "      <td>0</td>\n",
       "      <td>0</td>\n",
       "      <td>0</td>\n",
       "      <td>0</td>\n",
       "      <td>0</td>\n",
       "    </tr>\n",
       "    <tr>\n",
       "      <th>11</th>\n",
       "      <td>Other</td>\n",
       "      <td>0</td>\n",
       "      <td>0</td>\n",
       "      <td>0</td>\n",
       "      <td>0</td>\n",
       "      <td>0</td>\n",
       "    </tr>\n",
       "    <tr>\n",
       "      <th>12</th>\n",
       "      <td>Other</td>\n",
       "      <td>0</td>\n",
       "      <td>0</td>\n",
       "      <td>0</td>\n",
       "      <td>0</td>\n",
       "      <td>0</td>\n",
       "    </tr>\n",
       "    <tr>\n",
       "      <th>13</th>\n",
       "      <td>Other</td>\n",
       "      <td>0</td>\n",
       "      <td>0</td>\n",
       "      <td>0</td>\n",
       "      <td>0</td>\n",
       "      <td>0</td>\n",
       "    </tr>\n",
       "    <tr>\n",
       "      <th>14</th>\n",
       "      <td>Other</td>\n",
       "      <td>0</td>\n",
       "      <td>0</td>\n",
       "      <td>0</td>\n",
       "      <td>0</td>\n",
       "      <td>0</td>\n",
       "    </tr>\n",
       "    <tr>\n",
       "      <th>15</th>\n",
       "      <td>Other</td>\n",
       "      <td>0</td>\n",
       "      <td>0</td>\n",
       "      <td>0</td>\n",
       "      <td>0</td>\n",
       "      <td>0</td>\n",
       "    </tr>\n",
       "    <tr>\n",
       "      <th>16</th>\n",
       "      <td>Mac OS X 10_11_6</td>\n",
       "      <td>0</td>\n",
       "      <td>0</td>\n",
       "      <td>1</td>\n",
       "      <td>0</td>\n",
       "      <td>0</td>\n",
       "    </tr>\n",
       "    <tr>\n",
       "      <th>17</th>\n",
       "      <td>Windows 10</td>\n",
       "      <td>0</td>\n",
       "      <td>0</td>\n",
       "      <td>0</td>\n",
       "      <td>1</td>\n",
       "      <td>0</td>\n",
       "    </tr>\n",
       "    <tr>\n",
       "      <th>18</th>\n",
       "      <td>Other</td>\n",
       "      <td>0</td>\n",
       "      <td>0</td>\n",
       "      <td>0</td>\n",
       "      <td>0</td>\n",
       "      <td>0</td>\n",
       "    </tr>\n",
       "    <tr>\n",
       "      <th>19</th>\n",
       "      <td>Other</td>\n",
       "      <td>0</td>\n",
       "      <td>0</td>\n",
       "      <td>0</td>\n",
       "      <td>0</td>\n",
       "      <td>0</td>\n",
       "    </tr>\n",
       "    <tr>\n",
       "      <th>20</th>\n",
       "      <td>Other</td>\n",
       "      <td>0</td>\n",
       "      <td>0</td>\n",
       "      <td>0</td>\n",
       "      <td>0</td>\n",
       "      <td>0</td>\n",
       "    </tr>\n",
       "  </tbody>\n",
       "</table>\n",
       "</div>"
      ],
      "text/plain": [
       "               id_30  android_so  ios_so  mac_so  windows_so  linux_so\n",
       "0              Other           0       0       0           0         0\n",
       "1              Other           0       0       0           0         0\n",
       "2              Other           0       0       0           0         0\n",
       "3              Other           0       0       0           0         0\n",
       "4        Android 7.0           1       0       0           0         0\n",
       "5              Other           0       0       0           0         0\n",
       "6              Other           0       0       0           0         0\n",
       "7              Other           0       0       0           0         0\n",
       "8         iOS 11.1.2           0       1       0           0         0\n",
       "9              Other           0       0       0           0         0\n",
       "10             Other           0       0       0           0         0\n",
       "11             Other           0       0       0           0         0\n",
       "12             Other           0       0       0           0         0\n",
       "13             Other           0       0       0           0         0\n",
       "14             Other           0       0       0           0         0\n",
       "15             Other           0       0       0           0         0\n",
       "16  Mac OS X 10_11_6           0       0       1           0         0\n",
       "17        Windows 10           0       0       0           1         0\n",
       "18             Other           0       0       0           0         0\n",
       "19             Other           0       0       0           0         0\n",
       "20             Other           0       0       0           0         0"
      ]
     },
     "execution_count": 9,
     "metadata": {},
     "output_type": "execute_result"
    }
   ],
   "source": [
    "merge.loc[0:20,[\"id_30\",\"android_so\",\"ios_so\", \"mac_so\",\"windows_so\",\"linux_so\"]]"
   ]
  },
  {
   "cell_type": "code",
   "execution_count": 10,
   "id": "055f03c8-e7f5-4f40-acc7-b38d0a8ed990",
   "metadata": {},
   "outputs": [],
   "source": [
    "merge = merge.drop(\"id_30\", axis= 1)"
   ]
  },
  {
   "cell_type": "markdown",
   "id": "935dc30e-aa00-4643-9a93-921014bdc87c",
   "metadata": {},
   "source": [
    "## Columnas categoricas"
   ]
  },
  {
   "cell_type": "code",
   "execution_count": 11,
   "id": "62eebbf3-6ba6-4041-b677-6fc12268fed6",
   "metadata": {},
   "outputs": [],
   "source": [
    "categorical_columns = ['ProductCD','card1', 'card2', 'card3', 'card4', 'card5', 'card6','addr1', 'addr2', 'P_emaildomain', 'R_emaildomain'\\\n",
    "                      ,'M1', 'M2', 'M3', 'M4', 'M5', 'M6', 'M7', 'M8', 'M9', 'id_12', 'id_13', 'id_14', 'id_15', 'id_16', 'id_17', 'id_18',\\\n",
    "                        'id_19', 'id_20', 'id_21', 'id_22', 'id_23', 'id_24', 'id_25', 'id_26', 'id_27', 'id_28', 'id_29', 'id_31',\\\n",
    "                        'id_32', 'id_33', 'id_34', 'id_35', 'id_36', 'id_37', 'id_38', 'DeviceType', 'DeviceInfo']"
   ]
  },
  {
   "cell_type": "code",
   "execution_count": 12,
   "id": "d8b4585b-d857-4b10-8d68-fa0660be7e68",
   "metadata": {
    "tags": []
   },
   "outputs": [],
   "source": [
    "columns_OHE = []\n",
    "columns_ME = []\n",
    "for column in categorical_columns:\n",
    "    if len(merge[column].value_counts()) > 10:\n",
    "        columns_ME.append(column)\n",
    "    else:\n",
    "        columns_OHE.append(column)"
   ]
  },
  {
   "cell_type": "code",
   "execution_count": 13,
   "id": "1d3684ee-0668-435f-bf08-066f3b7fe9a9",
   "metadata": {},
   "outputs": [],
   "source": [
    "for c in columns_ME:\n",
    "    merge[c] = merge[c].fillna(0)"
   ]
  },
  {
   "cell_type": "markdown",
   "id": "c801074b-d503-44bd-a746-a0a25ab0c592",
   "metadata": {},
   "source": [
    "## Split train-test"
   ]
  },
  {
   "cell_type": "code",
   "execution_count": 14,
   "id": "ab21ae01-389d-485e-9058-64bbc5c4290b",
   "metadata": {},
   "outputs": [],
   "source": [
    "train = merge.iloc[:350000,1:]\n",
    "test = merge.iloc[350000:,1:]\n",
    "merge = None"
   ]
  },
  {
   "cell_type": "markdown",
   "id": "43289a59-f377-40f3-ad03-c590c0377e77",
   "metadata": {},
   "source": [
    "## MeanEncoding"
   ]
  },
  {
   "cell_type": "code",
   "execution_count": 15,
   "id": "f26b4499-1a03-4690-9e95-544c733ef45a",
   "metadata": {
    "tags": []
   },
   "outputs": [],
   "source": [
    "list_dicts = []\n",
    "for column in columns_ME:\n",
    "    mean_encoded_col_train = train.groupby(column)['isFraud'].mean().to_dict()  \n",
    "    train[column] =  train[column].map(mean_encoded_col_train) \n",
    "    test[column] =  test[column].map(mean_encoded_col_train)    \n",
    "    list_dicts.append(mean_encoded_col_train)\n",
    "for c in columns_ME:\n",
    "    test[c] = test[c].fillna(train[c].mean())"
   ]
  },
  {
   "cell_type": "markdown",
   "id": "ec77975f-7819-4118-940c-3c5ed58a72b1",
   "metadata": {},
   "source": [
    "## OneHotEncoding"
   ]
  },
  {
   "cell_type": "code",
   "execution_count": 16,
   "id": "d0b77777-0e20-4f2b-b920-89de98a118c4",
   "metadata": {
    "tags": []
   },
   "outputs": [],
   "source": [
    "oneHotEncoder = OneHotEncoder(sparse = False, handle_unknown = \"ignore\")\n",
    "matrix = oneHotEncoder.fit_transform(train[columns_OHE])\n",
    "matrix_b = oneHotEncoder.transform(test[columns_OHE])\n",
    "train[list(oneHotEncoder.get_feature_names_out(columns_OHE))] = matrix\n",
    "test[list(oneHotEncoder.get_feature_names_out(columns_OHE))] = matrix_b\n",
    "train.drop(inplace = True, axis = 1, columns = columns_OHE)\n",
    "test.drop(inplace = True, axis = 1, columns = columns_OHE)"
   ]
  },
  {
   "cell_type": "code",
   "execution_count": 17,
   "id": "e99b3076-72bc-4204-a781-9d75365f6926",
   "metadata": {},
   "outputs": [],
   "source": [
    "matrix = None\n",
    "matrix_b = None"
   ]
  },
  {
   "cell_type": "markdown",
   "id": "665496eb-9a04-43a4-aa3e-2833d561fd9f",
   "metadata": {},
   "source": [
    "## RandomizedSearch para XGBClassifier"
   ]
  },
  {
   "cell_type": "code",
   "execution_count": 18,
   "id": "45c57fa2-981f-4c5c-aec8-cb7c987c7d1b",
   "metadata": {},
   "outputs": [],
   "source": [
    "selected_features = ['V200', 'V244', 'V258', 'V189', 'V243', 'V172', 'V187', 'ProductCD_C', 'V246', 'V156', 'V154', 'V32', 'V196', 'V294', 'M5_nan',\\\n",
    " 'card1', 'V103', 'V323', 'V15', 'C4', 'V268', 'V223', 'V295', 'V62', 'V207', 'V70', 'V58', 'V256', 'V44', 'id_25', 'C5', 'C14', 'V34', 'V283', 'V45',\\\n",
    " 'V317', 'C12', 'C7', 'V205', 'V266', 'C10', 'ProductCD_H', 'V72', 'V198', 'V73', 'V90', 'C8', 'V259', 'card2', 'V169', 'V298', 'id_19', 'id_17',\\\n",
    " 'V13', 'R_emaildomain', 'V22', 'C13', 'M4_nan', 'id_35_F', 'V158', 'V163', 'M5_T', 'V93', 'V281', 'C1', 'card6_credit', 'V296', 'id_32_24.0',\\\n",
    " 'V239', 'V152', 'V149', 'V87', 'V318', 'V54', 'V275', 'V67', 'V327', 'V146', 'V255', 'V53', 'card6_debit',\\\n",
    " \"id_31\", \"id_33\", \"DeviceInfo\", 'DeviceType_desktop', 'DeviceType_mobile', 'DeviceType_nan', \"android_so\",\"ios_so\", \"mac_so\",\"windows_so\",\"linux_so\"]\n",
    " #'V30', 'V74', 'V324', 'id_01', 'card3', 'V79', 'V201', 'D2', 'V199', 'C2', 'V308', 'V61', 'id_20', 'M4_M0', 'V220', 'V312', 'V192', 'V82', 'V133',\\ "
   ]
  },
  {
   "cell_type": "code",
   "execution_count": 19,
   "id": "11564a21-958e-4c20-a9d7-8ddf81189b39",
   "metadata": {},
   "outputs": [],
   "source": [
    "x_train = train.drop([\"isFraud\"], axis=1).loc[:,selected_features]\n",
    "y_train = train[\"isFraud\"]\n",
    "x_test = test.drop([\"isFraud\"], axis=1).loc[:,selected_features]\n",
    "y_test = test[\"isFraud\"]\n",
    "test = None\n",
    "train = None"
   ]
  },
  {
   "cell_type": "code",
   "execution_count": 20,
   "id": "a5226194-1ef8-48c1-8646-59254caa6633",
   "metadata": {},
   "outputs": [],
   "source": [
    "xgbclassifier = XGBClassifier()"
   ]
  },
  {
   "cell_type": "code",
   "execution_count": 21,
   "id": "0b3976d6-2bfc-4586-9d61-d98ccaac17d5",
   "metadata": {},
   "outputs": [],
   "source": [
    "params = {'learning_rate': [0, 0.2, 0.4, 0.5],#antes llegaba hasta 1\n",
    "             'max_depth': [1, 2, 3, 4, 5], \n",
    "             'n_estimators': [150, 175, 200, 225, 250, 300],             \n",
    "             'min_child_weight': [1, 2, 3],\n",
    "             'gamma': [0, 0.3, 0.5, 0.7, 1],\n",
    "             'colsample_bytree': [0, 0.2, 0.4, 0.5]} #aca probaba hasta 1\n",
    "#lograba 0.91 el mejor y 0.83 en validacion, tardaba 1 hora\n",
    "#con menos features 80 y con pocos parametros 0.93 y 0.81 en 10 min\n",
    "#con 100 features y varios parametros 93.8 80 en 20 minutos"
   ]
  },
  {
   "cell_type": "code",
   "execution_count": 22,
   "id": "ec4550e1-62fb-4ddf-b8fd-9f57415c3134",
   "metadata": {},
   "outputs": [],
   "source": [
    "clf = RandomizedSearchCV(estimator = xgbclassifier, param_distributions = params, cv = 3, \\\n",
    "                         scoring= \"roc_auc\", n_iter = 20, n_jobs = 1, random_state = 1, verbose = 100)"
   ]
  },
  {
   "cell_type": "code",
   "execution_count": 23,
   "id": "f873dfa3-8c01-4e2c-aea3-d9d0059e4221",
   "metadata": {
    "collapsed": true,
    "jupyter": {
     "outputs_hidden": true
    },
    "tags": []
   },
   "outputs": [
    {
     "name": "stdout",
     "output_type": "stream",
     "text": [
      "Fitting 3 folds for each of 20 candidates, totalling 60 fits\n",
      "[CV 1/3; 1/20] START colsample_bytree=0.4, gamma=1, learning_rate=0.2, max_depth=2, min_child_weight=2, n_estimators=225\n"
     ]
    },
    {
     "name": "stderr",
     "output_type": "stream",
     "text": [
      "/home/mauricio/.local/lib/python3.8/site-packages/xgboost/sklearn.py:1146: UserWarning: The use of label encoder in XGBClassifier is deprecated and will be removed in a future release. To remove this warning, do the following: 1) Pass option use_label_encoder=False when constructing XGBClassifier object; and 2) Encode your labels (y) as integers starting with 0, i.e. 0, 1, 2, ..., [num_class - 1].\n",
      "  warnings.warn(label_encoder_deprecation_msg, UserWarning)\n"
     ]
    },
    {
     "name": "stdout",
     "output_type": "stream",
     "text": [
      "[23:14:16] WARNING: ../src/learner.cc:1095: Starting in XGBoost 1.3.0, the default evaluation metric used with the objective 'binary:logistic' was changed from 'error' to 'logloss'. Explicitly set eval_metric if you'd like to restore the old behavior.\n",
      "[CV 1/3; 1/20] END colsample_bytree=0.4, gamma=1, learning_rate=0.2, max_depth=2, min_child_weight=2, n_estimators=225;, score=0.921 total time=   5.5s\n",
      "[CV 2/3; 1/20] START colsample_bytree=0.4, gamma=1, learning_rate=0.2, max_depth=2, min_child_weight=2, n_estimators=225\n"
     ]
    },
    {
     "name": "stderr",
     "output_type": "stream",
     "text": [
      "/home/mauricio/.local/lib/python3.8/site-packages/xgboost/sklearn.py:1146: UserWarning: The use of label encoder in XGBClassifier is deprecated and will be removed in a future release. To remove this warning, do the following: 1) Pass option use_label_encoder=False when constructing XGBClassifier object; and 2) Encode your labels (y) as integers starting with 0, i.e. 0, 1, 2, ..., [num_class - 1].\n",
      "  warnings.warn(label_encoder_deprecation_msg, UserWarning)\n"
     ]
    },
    {
     "name": "stdout",
     "output_type": "stream",
     "text": [
      "[23:14:21] WARNING: ../src/learner.cc:1095: Starting in XGBoost 1.3.0, the default evaluation metric used with the objective 'binary:logistic' was changed from 'error' to 'logloss'. Explicitly set eval_metric if you'd like to restore the old behavior.\n",
      "[CV 2/3; 1/20] END colsample_bytree=0.4, gamma=1, learning_rate=0.2, max_depth=2, min_child_weight=2, n_estimators=225;, score=0.935 total time=   5.6s\n",
      "[CV 3/3; 1/20] START colsample_bytree=0.4, gamma=1, learning_rate=0.2, max_depth=2, min_child_weight=2, n_estimators=225\n"
     ]
    },
    {
     "name": "stderr",
     "output_type": "stream",
     "text": [
      "/home/mauricio/.local/lib/python3.8/site-packages/xgboost/sklearn.py:1146: UserWarning: The use of label encoder in XGBClassifier is deprecated and will be removed in a future release. To remove this warning, do the following: 1) Pass option use_label_encoder=False when constructing XGBClassifier object; and 2) Encode your labels (y) as integers starting with 0, i.e. 0, 1, 2, ..., [num_class - 1].\n",
      "  warnings.warn(label_encoder_deprecation_msg, UserWarning)\n"
     ]
    },
    {
     "name": "stdout",
     "output_type": "stream",
     "text": [
      "[23:14:27] WARNING: ../src/learner.cc:1095: Starting in XGBoost 1.3.0, the default evaluation metric used with the objective 'binary:logistic' was changed from 'error' to 'logloss'. Explicitly set eval_metric if you'd like to restore the old behavior.\n",
      "[CV 3/3; 1/20] END colsample_bytree=0.4, gamma=1, learning_rate=0.2, max_depth=2, min_child_weight=2, n_estimators=225;, score=0.923 total time=   5.7s\n",
      "[CV 1/3; 2/20] START colsample_bytree=0, gamma=0, learning_rate=0.4, max_depth=4, min_child_weight=1, n_estimators=175\n"
     ]
    },
    {
     "name": "stderr",
     "output_type": "stream",
     "text": [
      "/home/mauricio/.local/lib/python3.8/site-packages/xgboost/sklearn.py:1146: UserWarning: The use of label encoder in XGBClassifier is deprecated and will be removed in a future release. To remove this warning, do the following: 1) Pass option use_label_encoder=False when constructing XGBClassifier object; and 2) Encode your labels (y) as integers starting with 0, i.e. 0, 1, 2, ..., [num_class - 1].\n",
      "  warnings.warn(label_encoder_deprecation_msg, UserWarning)\n"
     ]
    },
    {
     "name": "stdout",
     "output_type": "stream",
     "text": [
      "[23:14:32] WARNING: ../src/learner.cc:1095: Starting in XGBoost 1.3.0, the default evaluation metric used with the objective 'binary:logistic' was changed from 'error' to 'logloss'. Explicitly set eval_metric if you'd like to restore the old behavior.\n",
      "[CV 1/3; 2/20] END colsample_bytree=0, gamma=0, learning_rate=0.4, max_depth=4, min_child_weight=1, n_estimators=175;, score=0.889 total time=   2.8s\n",
      "[CV 2/3; 2/20] START colsample_bytree=0, gamma=0, learning_rate=0.4, max_depth=4, min_child_weight=1, n_estimators=175\n"
     ]
    },
    {
     "name": "stderr",
     "output_type": "stream",
     "text": [
      "/home/mauricio/.local/lib/python3.8/site-packages/xgboost/sklearn.py:1146: UserWarning: The use of label encoder in XGBClassifier is deprecated and will be removed in a future release. To remove this warning, do the following: 1) Pass option use_label_encoder=False when constructing XGBClassifier object; and 2) Encode your labels (y) as integers starting with 0, i.e. 0, 1, 2, ..., [num_class - 1].\n",
      "  warnings.warn(label_encoder_deprecation_msg, UserWarning)\n"
     ]
    },
    {
     "name": "stdout",
     "output_type": "stream",
     "text": [
      "[23:14:35] WARNING: ../src/learner.cc:1095: Starting in XGBoost 1.3.0, the default evaluation metric used with the objective 'binary:logistic' was changed from 'error' to 'logloss'. Explicitly set eval_metric if you'd like to restore the old behavior.\n",
      "[CV 2/3; 2/20] END colsample_bytree=0, gamma=0, learning_rate=0.4, max_depth=4, min_child_weight=1, n_estimators=175;, score=0.902 total time=   2.9s\n",
      "[CV 3/3; 2/20] START colsample_bytree=0, gamma=0, learning_rate=0.4, max_depth=4, min_child_weight=1, n_estimators=175\n"
     ]
    },
    {
     "name": "stderr",
     "output_type": "stream",
     "text": [
      "/home/mauricio/.local/lib/python3.8/site-packages/xgboost/sklearn.py:1146: UserWarning: The use of label encoder in XGBClassifier is deprecated and will be removed in a future release. To remove this warning, do the following: 1) Pass option use_label_encoder=False when constructing XGBClassifier object; and 2) Encode your labels (y) as integers starting with 0, i.e. 0, 1, 2, ..., [num_class - 1].\n",
      "  warnings.warn(label_encoder_deprecation_msg, UserWarning)\n"
     ]
    },
    {
     "name": "stdout",
     "output_type": "stream",
     "text": [
      "[23:14:38] WARNING: ../src/learner.cc:1095: Starting in XGBoost 1.3.0, the default evaluation metric used with the objective 'binary:logistic' was changed from 'error' to 'logloss'. Explicitly set eval_metric if you'd like to restore the old behavior.\n",
      "[CV 3/3; 2/20] END colsample_bytree=0, gamma=0, learning_rate=0.4, max_depth=4, min_child_weight=1, n_estimators=175;, score=0.884 total time=   2.9s\n",
      "[CV 1/3; 3/20] START colsample_bytree=0.4, gamma=0.3, learning_rate=0, max_depth=2, min_child_weight=1, n_estimators=200\n"
     ]
    },
    {
     "name": "stderr",
     "output_type": "stream",
     "text": [
      "/home/mauricio/.local/lib/python3.8/site-packages/xgboost/sklearn.py:1146: UserWarning: The use of label encoder in XGBClassifier is deprecated and will be removed in a future release. To remove this warning, do the following: 1) Pass option use_label_encoder=False when constructing XGBClassifier object; and 2) Encode your labels (y) as integers starting with 0, i.e. 0, 1, 2, ..., [num_class - 1].\n",
      "  warnings.warn(label_encoder_deprecation_msg, UserWarning)\n"
     ]
    },
    {
     "name": "stdout",
     "output_type": "stream",
     "text": [
      "[23:14:41] WARNING: ../src/learner.cc:1095: Starting in XGBoost 1.3.0, the default evaluation metric used with the objective 'binary:logistic' was changed from 'error' to 'logloss'. Explicitly set eval_metric if you'd like to restore the old behavior.\n",
      "[CV 1/3; 3/20] END colsample_bytree=0.4, gamma=0.3, learning_rate=0, max_depth=2, min_child_weight=1, n_estimators=200;, score=0.500 total time=   5.6s\n",
      "[CV 2/3; 3/20] START colsample_bytree=0.4, gamma=0.3, learning_rate=0, max_depth=2, min_child_weight=1, n_estimators=200\n"
     ]
    },
    {
     "name": "stderr",
     "output_type": "stream",
     "text": [
      "/home/mauricio/.local/lib/python3.8/site-packages/xgboost/sklearn.py:1146: UserWarning: The use of label encoder in XGBClassifier is deprecated and will be removed in a future release. To remove this warning, do the following: 1) Pass option use_label_encoder=False when constructing XGBClassifier object; and 2) Encode your labels (y) as integers starting with 0, i.e. 0, 1, 2, ..., [num_class - 1].\n",
      "  warnings.warn(label_encoder_deprecation_msg, UserWarning)\n"
     ]
    },
    {
     "name": "stdout",
     "output_type": "stream",
     "text": [
      "[23:14:47] WARNING: ../src/learner.cc:1095: Starting in XGBoost 1.3.0, the default evaluation metric used with the objective 'binary:logistic' was changed from 'error' to 'logloss'. Explicitly set eval_metric if you'd like to restore the old behavior.\n",
      "[CV 2/3; 3/20] END colsample_bytree=0.4, gamma=0.3, learning_rate=0, max_depth=2, min_child_weight=1, n_estimators=200;, score=0.500 total time=   5.6s\n",
      "[CV 3/3; 3/20] START colsample_bytree=0.4, gamma=0.3, learning_rate=0, max_depth=2, min_child_weight=1, n_estimators=200\n"
     ]
    },
    {
     "name": "stderr",
     "output_type": "stream",
     "text": [
      "/home/mauricio/.local/lib/python3.8/site-packages/xgboost/sklearn.py:1146: UserWarning: The use of label encoder in XGBClassifier is deprecated and will be removed in a future release. To remove this warning, do the following: 1) Pass option use_label_encoder=False when constructing XGBClassifier object; and 2) Encode your labels (y) as integers starting with 0, i.e. 0, 1, 2, ..., [num_class - 1].\n",
      "  warnings.warn(label_encoder_deprecation_msg, UserWarning)\n"
     ]
    },
    {
     "name": "stdout",
     "output_type": "stream",
     "text": [
      "[23:14:52] WARNING: ../src/learner.cc:1095: Starting in XGBoost 1.3.0, the default evaluation metric used with the objective 'binary:logistic' was changed from 'error' to 'logloss'. Explicitly set eval_metric if you'd like to restore the old behavior.\n",
      "[CV 3/3; 3/20] END colsample_bytree=0.4, gamma=0.3, learning_rate=0, max_depth=2, min_child_weight=1, n_estimators=200;, score=0.500 total time=   5.5s\n",
      "[CV 1/3; 4/20] START colsample_bytree=0.4, gamma=1, learning_rate=0.2, max_depth=4, min_child_weight=2, n_estimators=200\n"
     ]
    },
    {
     "name": "stderr",
     "output_type": "stream",
     "text": [
      "/home/mauricio/.local/lib/python3.8/site-packages/xgboost/sklearn.py:1146: UserWarning: The use of label encoder in XGBClassifier is deprecated and will be removed in a future release. To remove this warning, do the following: 1) Pass option use_label_encoder=False when constructing XGBClassifier object; and 2) Encode your labels (y) as integers starting with 0, i.e. 0, 1, 2, ..., [num_class - 1].\n",
      "  warnings.warn(label_encoder_deprecation_msg, UserWarning)\n"
     ]
    },
    {
     "name": "stdout",
     "output_type": "stream",
     "text": [
      "[23:14:58] WARNING: ../src/learner.cc:1095: Starting in XGBoost 1.3.0, the default evaluation metric used with the objective 'binary:logistic' was changed from 'error' to 'logloss'. Explicitly set eval_metric if you'd like to restore the old behavior.\n",
      "[CV 1/3; 4/20] END colsample_bytree=0.4, gamma=1, learning_rate=0.2, max_depth=4, min_child_weight=2, n_estimators=200;, score=0.929 total time=   8.0s\n",
      "[CV 2/3; 4/20] START colsample_bytree=0.4, gamma=1, learning_rate=0.2, max_depth=4, min_child_weight=2, n_estimators=200\n"
     ]
    },
    {
     "name": "stderr",
     "output_type": "stream",
     "text": [
      "/home/mauricio/.local/lib/python3.8/site-packages/xgboost/sklearn.py:1146: UserWarning: The use of label encoder in XGBClassifier is deprecated and will be removed in a future release. To remove this warning, do the following: 1) Pass option use_label_encoder=False when constructing XGBClassifier object; and 2) Encode your labels (y) as integers starting with 0, i.e. 0, 1, 2, ..., [num_class - 1].\n",
      "  warnings.warn(label_encoder_deprecation_msg, UserWarning)\n"
     ]
    },
    {
     "name": "stdout",
     "output_type": "stream",
     "text": [
      "[23:15:06] WARNING: ../src/learner.cc:1095: Starting in XGBoost 1.3.0, the default evaluation metric used with the objective 'binary:logistic' was changed from 'error' to 'logloss'. Explicitly set eval_metric if you'd like to restore the old behavior.\n",
      "[CV 2/3; 4/20] END colsample_bytree=0.4, gamma=1, learning_rate=0.2, max_depth=4, min_child_weight=2, n_estimators=200;, score=0.941 total time=   9.5s\n",
      "[CV 3/3; 4/20] START colsample_bytree=0.4, gamma=1, learning_rate=0.2, max_depth=4, min_child_weight=2, n_estimators=200\n"
     ]
    },
    {
     "name": "stderr",
     "output_type": "stream",
     "text": [
      "/home/mauricio/.local/lib/python3.8/site-packages/xgboost/sklearn.py:1146: UserWarning: The use of label encoder in XGBClassifier is deprecated and will be removed in a future release. To remove this warning, do the following: 1) Pass option use_label_encoder=False when constructing XGBClassifier object; and 2) Encode your labels (y) as integers starting with 0, i.e. 0, 1, 2, ..., [num_class - 1].\n",
      "  warnings.warn(label_encoder_deprecation_msg, UserWarning)\n"
     ]
    },
    {
     "name": "stdout",
     "output_type": "stream",
     "text": [
      "[23:15:15] WARNING: ../src/learner.cc:1095: Starting in XGBoost 1.3.0, the default evaluation metric used with the objective 'binary:logistic' was changed from 'error' to 'logloss'. Explicitly set eval_metric if you'd like to restore the old behavior.\n",
      "[CV 3/3; 4/20] END colsample_bytree=0.4, gamma=1, learning_rate=0.2, max_depth=4, min_child_weight=2, n_estimators=200;, score=0.926 total time=  14.8s\n",
      "[CV 1/3; 5/20] START colsample_bytree=0, gamma=0.5, learning_rate=0.4, max_depth=1, min_child_weight=1, n_estimators=300\n"
     ]
    },
    {
     "name": "stderr",
     "output_type": "stream",
     "text": [
      "/home/mauricio/.local/lib/python3.8/site-packages/xgboost/sklearn.py:1146: UserWarning: The use of label encoder in XGBClassifier is deprecated and will be removed in a future release. To remove this warning, do the following: 1) Pass option use_label_encoder=False when constructing XGBClassifier object; and 2) Encode your labels (y) as integers starting with 0, i.e. 0, 1, 2, ..., [num_class - 1].\n",
      "  warnings.warn(label_encoder_deprecation_msg, UserWarning)\n"
     ]
    },
    {
     "name": "stdout",
     "output_type": "stream",
     "text": [
      "[23:15:30] WARNING: ../src/learner.cc:1095: Starting in XGBoost 1.3.0, the default evaluation metric used with the objective 'binary:logistic' was changed from 'error' to 'logloss'. Explicitly set eval_metric if you'd like to restore the old behavior.\n",
      "[CV 1/3; 5/20] END colsample_bytree=0, gamma=0.5, learning_rate=0.4, max_depth=1, min_child_weight=1, n_estimators=300;, score=0.886 total time=   7.7s\n",
      "[CV 2/3; 5/20] START colsample_bytree=0, gamma=0.5, learning_rate=0.4, max_depth=1, min_child_weight=1, n_estimators=300\n"
     ]
    },
    {
     "name": "stderr",
     "output_type": "stream",
     "text": [
      "/home/mauricio/.local/lib/python3.8/site-packages/xgboost/sklearn.py:1146: UserWarning: The use of label encoder in XGBClassifier is deprecated and will be removed in a future release. To remove this warning, do the following: 1) Pass option use_label_encoder=False when constructing XGBClassifier object; and 2) Encode your labels (y) as integers starting with 0, i.e. 0, 1, 2, ..., [num_class - 1].\n",
      "  warnings.warn(label_encoder_deprecation_msg, UserWarning)\n"
     ]
    },
    {
     "name": "stdout",
     "output_type": "stream",
     "text": [
      "[23:15:38] WARNING: ../src/learner.cc:1095: Starting in XGBoost 1.3.0, the default evaluation metric used with the objective 'binary:logistic' was changed from 'error' to 'logloss'. Explicitly set eval_metric if you'd like to restore the old behavior.\n",
      "[CV 2/3; 5/20] END colsample_bytree=0, gamma=0.5, learning_rate=0.4, max_depth=1, min_child_weight=1, n_estimators=300;, score=0.903 total time=   8.3s\n",
      "[CV 3/3; 5/20] START colsample_bytree=0, gamma=0.5, learning_rate=0.4, max_depth=1, min_child_weight=1, n_estimators=300\n"
     ]
    },
    {
     "name": "stderr",
     "output_type": "stream",
     "text": [
      "/home/mauricio/.local/lib/python3.8/site-packages/xgboost/sklearn.py:1146: UserWarning: The use of label encoder in XGBClassifier is deprecated and will be removed in a future release. To remove this warning, do the following: 1) Pass option use_label_encoder=False when constructing XGBClassifier object; and 2) Encode your labels (y) as integers starting with 0, i.e. 0, 1, 2, ..., [num_class - 1].\n",
      "  warnings.warn(label_encoder_deprecation_msg, UserWarning)\n"
     ]
    },
    {
     "name": "stdout",
     "output_type": "stream",
     "text": [
      "[23:15:46] WARNING: ../src/learner.cc:1095: Starting in XGBoost 1.3.0, the default evaluation metric used with the objective 'binary:logistic' was changed from 'error' to 'logloss'. Explicitly set eval_metric if you'd like to restore the old behavior.\n",
      "[CV 3/3; 5/20] END colsample_bytree=0, gamma=0.5, learning_rate=0.4, max_depth=1, min_child_weight=1, n_estimators=300;, score=0.885 total time=   4.3s\n",
      "[CV 1/3; 6/20] START colsample_bytree=0.2, gamma=0.5, learning_rate=0.4, max_depth=4, min_child_weight=2, n_estimators=225\n"
     ]
    },
    {
     "name": "stderr",
     "output_type": "stream",
     "text": [
      "/home/mauricio/.local/lib/python3.8/site-packages/xgboost/sklearn.py:1146: UserWarning: The use of label encoder in XGBClassifier is deprecated and will be removed in a future release. To remove this warning, do the following: 1) Pass option use_label_encoder=False when constructing XGBClassifier object; and 2) Encode your labels (y) as integers starting with 0, i.e. 0, 1, 2, ..., [num_class - 1].\n",
      "  warnings.warn(label_encoder_deprecation_msg, UserWarning)\n"
     ]
    },
    {
     "name": "stdout",
     "output_type": "stream",
     "text": [
      "[23:15:51] WARNING: ../src/learner.cc:1095: Starting in XGBoost 1.3.0, the default evaluation metric used with the objective 'binary:logistic' was changed from 'error' to 'logloss'. Explicitly set eval_metric if you'd like to restore the old behavior.\n",
      "[CV 1/3; 6/20] END colsample_bytree=0.2, gamma=0.5, learning_rate=0.4, max_depth=4, min_child_weight=2, n_estimators=225;, score=0.930 total time=  13.8s\n",
      "[CV 2/3; 6/20] START colsample_bytree=0.2, gamma=0.5, learning_rate=0.4, max_depth=4, min_child_weight=2, n_estimators=225\n"
     ]
    },
    {
     "name": "stderr",
     "output_type": "stream",
     "text": [
      "/home/mauricio/.local/lib/python3.8/site-packages/xgboost/sklearn.py:1146: UserWarning: The use of label encoder in XGBClassifier is deprecated and will be removed in a future release. To remove this warning, do the following: 1) Pass option use_label_encoder=False when constructing XGBClassifier object; and 2) Encode your labels (y) as integers starting with 0, i.e. 0, 1, 2, ..., [num_class - 1].\n",
      "  warnings.warn(label_encoder_deprecation_msg, UserWarning)\n"
     ]
    },
    {
     "name": "stdout",
     "output_type": "stream",
     "text": [
      "[23:16:04] WARNING: ../src/learner.cc:1095: Starting in XGBoost 1.3.0, the default evaluation metric used with the objective 'binary:logistic' was changed from 'error' to 'logloss'. Explicitly set eval_metric if you'd like to restore the old behavior.\n",
      "[CV 2/3; 6/20] END colsample_bytree=0.2, gamma=0.5, learning_rate=0.4, max_depth=4, min_child_weight=2, n_estimators=225;, score=0.942 total time=  12.8s\n",
      "[CV 3/3; 6/20] START colsample_bytree=0.2, gamma=0.5, learning_rate=0.4, max_depth=4, min_child_weight=2, n_estimators=225\n"
     ]
    },
    {
     "name": "stderr",
     "output_type": "stream",
     "text": [
      "/home/mauricio/.local/lib/python3.8/site-packages/xgboost/sklearn.py:1146: UserWarning: The use of label encoder in XGBClassifier is deprecated and will be removed in a future release. To remove this warning, do the following: 1) Pass option use_label_encoder=False when constructing XGBClassifier object; and 2) Encode your labels (y) as integers starting with 0, i.e. 0, 1, 2, ..., [num_class - 1].\n",
      "  warnings.warn(label_encoder_deprecation_msg, UserWarning)\n"
     ]
    },
    {
     "name": "stdout",
     "output_type": "stream",
     "text": [
      "[23:16:17] WARNING: ../src/learner.cc:1095: Starting in XGBoost 1.3.0, the default evaluation metric used with the objective 'binary:logistic' was changed from 'error' to 'logloss'. Explicitly set eval_metric if you'd like to restore the old behavior.\n",
      "[CV 3/3; 6/20] END colsample_bytree=0.2, gamma=0.5, learning_rate=0.4, max_depth=4, min_child_weight=2, n_estimators=225;, score=0.922 total time=   7.4s\n",
      "[CV 1/3; 7/20] START colsample_bytree=0.2, gamma=0.7, learning_rate=0, max_depth=1, min_child_weight=3, n_estimators=225\n"
     ]
    },
    {
     "name": "stderr",
     "output_type": "stream",
     "text": [
      "/home/mauricio/.local/lib/python3.8/site-packages/xgboost/sklearn.py:1146: UserWarning: The use of label encoder in XGBClassifier is deprecated and will be removed in a future release. To remove this warning, do the following: 1) Pass option use_label_encoder=False when constructing XGBClassifier object; and 2) Encode your labels (y) as integers starting with 0, i.e. 0, 1, 2, ..., [num_class - 1].\n",
      "  warnings.warn(label_encoder_deprecation_msg, UserWarning)\n"
     ]
    },
    {
     "name": "stdout",
     "output_type": "stream",
     "text": [
      "[23:16:25] WARNING: ../src/learner.cc:1095: Starting in XGBoost 1.3.0, the default evaluation metric used with the objective 'binary:logistic' was changed from 'error' to 'logloss'. Explicitly set eval_metric if you'd like to restore the old behavior.\n",
      "[CV 1/3; 7/20] END colsample_bytree=0.2, gamma=0.7, learning_rate=0, max_depth=1, min_child_weight=3, n_estimators=225;, score=0.500 total time=   5.6s\n",
      "[CV 2/3; 7/20] START colsample_bytree=0.2, gamma=0.7, learning_rate=0, max_depth=1, min_child_weight=3, n_estimators=225\n"
     ]
    },
    {
     "name": "stderr",
     "output_type": "stream",
     "text": [
      "/home/mauricio/.local/lib/python3.8/site-packages/xgboost/sklearn.py:1146: UserWarning: The use of label encoder in XGBClassifier is deprecated and will be removed in a future release. To remove this warning, do the following: 1) Pass option use_label_encoder=False when constructing XGBClassifier object; and 2) Encode your labels (y) as integers starting with 0, i.e. 0, 1, 2, ..., [num_class - 1].\n",
      "  warnings.warn(label_encoder_deprecation_msg, UserWarning)\n"
     ]
    },
    {
     "name": "stdout",
     "output_type": "stream",
     "text": [
      "[23:16:30] WARNING: ../src/learner.cc:1095: Starting in XGBoost 1.3.0, the default evaluation metric used with the objective 'binary:logistic' was changed from 'error' to 'logloss'. Explicitly set eval_metric if you'd like to restore the old behavior.\n",
      "[CV 2/3; 7/20] END colsample_bytree=0.2, gamma=0.7, learning_rate=0, max_depth=1, min_child_weight=3, n_estimators=225;, score=0.500 total time=   8.0s\n",
      "[CV 3/3; 7/20] START colsample_bytree=0.2, gamma=0.7, learning_rate=0, max_depth=1, min_child_weight=3, n_estimators=225\n"
     ]
    },
    {
     "name": "stderr",
     "output_type": "stream",
     "text": [
      "/home/mauricio/.local/lib/python3.8/site-packages/xgboost/sklearn.py:1146: UserWarning: The use of label encoder in XGBClassifier is deprecated and will be removed in a future release. To remove this warning, do the following: 1) Pass option use_label_encoder=False when constructing XGBClassifier object; and 2) Encode your labels (y) as integers starting with 0, i.e. 0, 1, 2, ..., [num_class - 1].\n",
      "  warnings.warn(label_encoder_deprecation_msg, UserWarning)\n"
     ]
    },
    {
     "name": "stdout",
     "output_type": "stream",
     "text": [
      "[23:16:38] WARNING: ../src/learner.cc:1095: Starting in XGBoost 1.3.0, the default evaluation metric used with the objective 'binary:logistic' was changed from 'error' to 'logloss'. Explicitly set eval_metric if you'd like to restore the old behavior.\n",
      "[CV 3/3; 7/20] END colsample_bytree=0.2, gamma=0.7, learning_rate=0, max_depth=1, min_child_weight=3, n_estimators=225;, score=0.500 total time=   6.3s\n",
      "[CV 1/3; 8/20] START colsample_bytree=0.4, gamma=1, learning_rate=0, max_depth=1, min_child_weight=3, n_estimators=250\n"
     ]
    },
    {
     "name": "stderr",
     "output_type": "stream",
     "text": [
      "/home/mauricio/.local/lib/python3.8/site-packages/xgboost/sklearn.py:1146: UserWarning: The use of label encoder in XGBClassifier is deprecated and will be removed in a future release. To remove this warning, do the following: 1) Pass option use_label_encoder=False when constructing XGBClassifier object; and 2) Encode your labels (y) as integers starting with 0, i.e. 0, 1, 2, ..., [num_class - 1].\n",
      "  warnings.warn(label_encoder_deprecation_msg, UserWarning)\n"
     ]
    },
    {
     "name": "stdout",
     "output_type": "stream",
     "text": [
      "[23:16:44] WARNING: ../src/learner.cc:1095: Starting in XGBoost 1.3.0, the default evaluation metric used with the objective 'binary:logistic' was changed from 'error' to 'logloss'. Explicitly set eval_metric if you'd like to restore the old behavior.\n",
      "[CV 1/3; 8/20] END colsample_bytree=0.4, gamma=1, learning_rate=0, max_depth=1, min_child_weight=3, n_estimators=250;, score=0.500 total time=   5.3s\n",
      "[CV 2/3; 8/20] START colsample_bytree=0.4, gamma=1, learning_rate=0, max_depth=1, min_child_weight=3, n_estimators=250\n"
     ]
    },
    {
     "name": "stderr",
     "output_type": "stream",
     "text": [
      "/home/mauricio/.local/lib/python3.8/site-packages/xgboost/sklearn.py:1146: UserWarning: The use of label encoder in XGBClassifier is deprecated and will be removed in a future release. To remove this warning, do the following: 1) Pass option use_label_encoder=False when constructing XGBClassifier object; and 2) Encode your labels (y) as integers starting with 0, i.e. 0, 1, 2, ..., [num_class - 1].\n",
      "  warnings.warn(label_encoder_deprecation_msg, UserWarning)\n"
     ]
    },
    {
     "name": "stdout",
     "output_type": "stream",
     "text": [
      "[23:16:50] WARNING: ../src/learner.cc:1095: Starting in XGBoost 1.3.0, the default evaluation metric used with the objective 'binary:logistic' was changed from 'error' to 'logloss'. Explicitly set eval_metric if you'd like to restore the old behavior.\n",
      "[CV 2/3; 8/20] END colsample_bytree=0.4, gamma=1, learning_rate=0, max_depth=1, min_child_weight=3, n_estimators=250;, score=0.500 total time=   4.3s\n",
      "[CV 3/3; 8/20] START colsample_bytree=0.4, gamma=1, learning_rate=0, max_depth=1, min_child_weight=3, n_estimators=250\n"
     ]
    },
    {
     "name": "stderr",
     "output_type": "stream",
     "text": [
      "/home/mauricio/.local/lib/python3.8/site-packages/xgboost/sklearn.py:1146: UserWarning: The use of label encoder in XGBClassifier is deprecated and will be removed in a future release. To remove this warning, do the following: 1) Pass option use_label_encoder=False when constructing XGBClassifier object; and 2) Encode your labels (y) as integers starting with 0, i.e. 0, 1, 2, ..., [num_class - 1].\n",
      "  warnings.warn(label_encoder_deprecation_msg, UserWarning)\n"
     ]
    },
    {
     "name": "stdout",
     "output_type": "stream",
     "text": [
      "[23:16:54] WARNING: ../src/learner.cc:1095: Starting in XGBoost 1.3.0, the default evaluation metric used with the objective 'binary:logistic' was changed from 'error' to 'logloss'. Explicitly set eval_metric if you'd like to restore the old behavior.\n",
      "[CV 3/3; 8/20] END colsample_bytree=0.4, gamma=1, learning_rate=0, max_depth=1, min_child_weight=3, n_estimators=250;, score=0.500 total time=   6.2s\n",
      "[CV 1/3; 9/20] START colsample_bytree=0, gamma=0, learning_rate=0.2, max_depth=4, min_child_weight=1, n_estimators=150\n"
     ]
    },
    {
     "name": "stderr",
     "output_type": "stream",
     "text": [
      "/home/mauricio/.local/lib/python3.8/site-packages/xgboost/sklearn.py:1146: UserWarning: The use of label encoder in XGBClassifier is deprecated and will be removed in a future release. To remove this warning, do the following: 1) Pass option use_label_encoder=False when constructing XGBClassifier object; and 2) Encode your labels (y) as integers starting with 0, i.e. 0, 1, 2, ..., [num_class - 1].\n",
      "  warnings.warn(label_encoder_deprecation_msg, UserWarning)\n"
     ]
    },
    {
     "name": "stdout",
     "output_type": "stream",
     "text": [
      "[23:17:00] WARNING: ../src/learner.cc:1095: Starting in XGBoost 1.3.0, the default evaluation metric used with the objective 'binary:logistic' was changed from 'error' to 'logloss'. Explicitly set eval_metric if you'd like to restore the old behavior.\n",
      "[CV 1/3; 9/20] END colsample_bytree=0, gamma=0, learning_rate=0.2, max_depth=4, min_child_weight=1, n_estimators=150;, score=0.865 total time=   5.8s\n",
      "[CV 2/3; 9/20] START colsample_bytree=0, gamma=0, learning_rate=0.2, max_depth=4, min_child_weight=1, n_estimators=150\n"
     ]
    },
    {
     "name": "stderr",
     "output_type": "stream",
     "text": [
      "/home/mauricio/.local/lib/python3.8/site-packages/xgboost/sklearn.py:1146: UserWarning: The use of label encoder in XGBClassifier is deprecated and will be removed in a future release. To remove this warning, do the following: 1) Pass option use_label_encoder=False when constructing XGBClassifier object; and 2) Encode your labels (y) as integers starting with 0, i.e. 0, 1, 2, ..., [num_class - 1].\n",
      "  warnings.warn(label_encoder_deprecation_msg, UserWarning)\n"
     ]
    },
    {
     "name": "stdout",
     "output_type": "stream",
     "text": [
      "[23:17:06] WARNING: ../src/learner.cc:1095: Starting in XGBoost 1.3.0, the default evaluation metric used with the objective 'binary:logistic' was changed from 'error' to 'logloss'. Explicitly set eval_metric if you'd like to restore the old behavior.\n",
      "[CV 2/3; 9/20] END colsample_bytree=0, gamma=0, learning_rate=0.2, max_depth=4, min_child_weight=1, n_estimators=150;, score=0.893 total time=   4.0s\n",
      "[CV 3/3; 9/20] START colsample_bytree=0, gamma=0, learning_rate=0.2, max_depth=4, min_child_weight=1, n_estimators=150\n"
     ]
    },
    {
     "name": "stderr",
     "output_type": "stream",
     "text": [
      "/home/mauricio/.local/lib/python3.8/site-packages/xgboost/sklearn.py:1146: UserWarning: The use of label encoder in XGBClassifier is deprecated and will be removed in a future release. To remove this warning, do the following: 1) Pass option use_label_encoder=False when constructing XGBClassifier object; and 2) Encode your labels (y) as integers starting with 0, i.e. 0, 1, 2, ..., [num_class - 1].\n",
      "  warnings.warn(label_encoder_deprecation_msg, UserWarning)\n"
     ]
    },
    {
     "name": "stdout",
     "output_type": "stream",
     "text": [
      "[23:17:10] WARNING: ../src/learner.cc:1095: Starting in XGBoost 1.3.0, the default evaluation metric used with the objective 'binary:logistic' was changed from 'error' to 'logloss'. Explicitly set eval_metric if you'd like to restore the old behavior.\n",
      "[CV 3/3; 9/20] END colsample_bytree=0, gamma=0, learning_rate=0.2, max_depth=4, min_child_weight=1, n_estimators=150;, score=0.876 total time=   8.0s\n",
      "[CV 1/3; 10/20] START colsample_bytree=0.4, gamma=0.3, learning_rate=0.4, max_depth=5, min_child_weight=3, n_estimators=175\n"
     ]
    },
    {
     "name": "stderr",
     "output_type": "stream",
     "text": [
      "/home/mauricio/.local/lib/python3.8/site-packages/xgboost/sklearn.py:1146: UserWarning: The use of label encoder in XGBClassifier is deprecated and will be removed in a future release. To remove this warning, do the following: 1) Pass option use_label_encoder=False when constructing XGBClassifier object; and 2) Encode your labels (y) as integers starting with 0, i.e. 0, 1, 2, ..., [num_class - 1].\n",
      "  warnings.warn(label_encoder_deprecation_msg, UserWarning)\n"
     ]
    },
    {
     "name": "stdout",
     "output_type": "stream",
     "text": [
      "[23:17:18] WARNING: ../src/learner.cc:1095: Starting in XGBoost 1.3.0, the default evaluation metric used with the objective 'binary:logistic' was changed from 'error' to 'logloss'. Explicitly set eval_metric if you'd like to restore the old behavior.\n",
      "[CV 1/3; 10/20] END colsample_bytree=0.4, gamma=0.3, learning_rate=0.4, max_depth=5, min_child_weight=3, n_estimators=175;, score=0.926 total time=  18.7s\n",
      "[CV 2/3; 10/20] START colsample_bytree=0.4, gamma=0.3, learning_rate=0.4, max_depth=5, min_child_weight=3, n_estimators=175\n"
     ]
    },
    {
     "name": "stderr",
     "output_type": "stream",
     "text": [
      "/home/mauricio/.local/lib/python3.8/site-packages/xgboost/sklearn.py:1146: UserWarning: The use of label encoder in XGBClassifier is deprecated and will be removed in a future release. To remove this warning, do the following: 1) Pass option use_label_encoder=False when constructing XGBClassifier object; and 2) Encode your labels (y) as integers starting with 0, i.e. 0, 1, 2, ..., [num_class - 1].\n",
      "  warnings.warn(label_encoder_deprecation_msg, UserWarning)\n"
     ]
    },
    {
     "name": "stdout",
     "output_type": "stream",
     "text": [
      "[23:17:37] WARNING: ../src/learner.cc:1095: Starting in XGBoost 1.3.0, the default evaluation metric used with the objective 'binary:logistic' was changed from 'error' to 'logloss'. Explicitly set eval_metric if you'd like to restore the old behavior.\n",
      "[CV 2/3; 10/20] END colsample_bytree=0.4, gamma=0.3, learning_rate=0.4, max_depth=5, min_child_weight=3, n_estimators=175;, score=0.945 total time=  18.2s\n",
      "[CV 3/3; 10/20] START colsample_bytree=0.4, gamma=0.3, learning_rate=0.4, max_depth=5, min_child_weight=3, n_estimators=175\n"
     ]
    },
    {
     "name": "stderr",
     "output_type": "stream",
     "text": [
      "/home/mauricio/.local/lib/python3.8/site-packages/xgboost/sklearn.py:1146: UserWarning: The use of label encoder in XGBClassifier is deprecated and will be removed in a future release. To remove this warning, do the following: 1) Pass option use_label_encoder=False when constructing XGBClassifier object; and 2) Encode your labels (y) as integers starting with 0, i.e. 0, 1, 2, ..., [num_class - 1].\n",
      "  warnings.warn(label_encoder_deprecation_msg, UserWarning)\n"
     ]
    },
    {
     "name": "stdout",
     "output_type": "stream",
     "text": [
      "[23:17:55] WARNING: ../src/learner.cc:1095: Starting in XGBoost 1.3.0, the default evaluation metric used with the objective 'binary:logistic' was changed from 'error' to 'logloss'. Explicitly set eval_metric if you'd like to restore the old behavior.\n",
      "[CV 3/3; 10/20] END colsample_bytree=0.4, gamma=0.3, learning_rate=0.4, max_depth=5, min_child_weight=3, n_estimators=175;, score=0.923 total time=  18.6s\n",
      "[CV 1/3; 11/20] START colsample_bytree=0.2, gamma=0.5, learning_rate=0.5, max_depth=1, min_child_weight=2, n_estimators=175\n"
     ]
    },
    {
     "name": "stderr",
     "output_type": "stream",
     "text": [
      "/home/mauricio/.local/lib/python3.8/site-packages/xgboost/sklearn.py:1146: UserWarning: The use of label encoder in XGBClassifier is deprecated and will be removed in a future release. To remove this warning, do the following: 1) Pass option use_label_encoder=False when constructing XGBClassifier object; and 2) Encode your labels (y) as integers starting with 0, i.e. 0, 1, 2, ..., [num_class - 1].\n",
      "  warnings.warn(label_encoder_deprecation_msg, UserWarning)\n"
     ]
    },
    {
     "name": "stdout",
     "output_type": "stream",
     "text": [
      "[23:18:14] WARNING: ../src/learner.cc:1095: Starting in XGBoost 1.3.0, the default evaluation metric used with the objective 'binary:logistic' was changed from 'error' to 'logloss'. Explicitly set eval_metric if you'd like to restore the old behavior.\n",
      "[CV 1/3; 11/20] END colsample_bytree=0.2, gamma=0.5, learning_rate=0.5, max_depth=1, min_child_weight=2, n_estimators=175;, score=0.916 total time=   5.2s\n",
      "[CV 2/3; 11/20] START colsample_bytree=0.2, gamma=0.5, learning_rate=0.5, max_depth=1, min_child_weight=2, n_estimators=175\n"
     ]
    },
    {
     "name": "stderr",
     "output_type": "stream",
     "text": [
      "/home/mauricio/.local/lib/python3.8/site-packages/xgboost/sklearn.py:1146: UserWarning: The use of label encoder in XGBClassifier is deprecated and will be removed in a future release. To remove this warning, do the following: 1) Pass option use_label_encoder=False when constructing XGBClassifier object; and 2) Encode your labels (y) as integers starting with 0, i.e. 0, 1, 2, ..., [num_class - 1].\n",
      "  warnings.warn(label_encoder_deprecation_msg, UserWarning)\n"
     ]
    },
    {
     "name": "stdout",
     "output_type": "stream",
     "text": [
      "[23:18:19] WARNING: ../src/learner.cc:1095: Starting in XGBoost 1.3.0, the default evaluation metric used with the objective 'binary:logistic' was changed from 'error' to 'logloss'. Explicitly set eval_metric if you'd like to restore the old behavior.\n",
      "[CV 2/3; 11/20] END colsample_bytree=0.2, gamma=0.5, learning_rate=0.5, max_depth=1, min_child_weight=2, n_estimators=175;, score=0.931 total time=   5.4s\n",
      "[CV 3/3; 11/20] START colsample_bytree=0.2, gamma=0.5, learning_rate=0.5, max_depth=1, min_child_weight=2, n_estimators=175\n"
     ]
    },
    {
     "name": "stderr",
     "output_type": "stream",
     "text": [
      "/home/mauricio/.local/lib/python3.8/site-packages/xgboost/sklearn.py:1146: UserWarning: The use of label encoder in XGBClassifier is deprecated and will be removed in a future release. To remove this warning, do the following: 1) Pass option use_label_encoder=False when constructing XGBClassifier object; and 2) Encode your labels (y) as integers starting with 0, i.e. 0, 1, 2, ..., [num_class - 1].\n",
      "  warnings.warn(label_encoder_deprecation_msg, UserWarning)\n"
     ]
    },
    {
     "name": "stdout",
     "output_type": "stream",
     "text": [
      "[23:18:24] WARNING: ../src/learner.cc:1095: Starting in XGBoost 1.3.0, the default evaluation metric used with the objective 'binary:logistic' was changed from 'error' to 'logloss'. Explicitly set eval_metric if you'd like to restore the old behavior.\n",
      "[CV 3/3; 11/20] END colsample_bytree=0.2, gamma=0.5, learning_rate=0.5, max_depth=1, min_child_weight=2, n_estimators=175;, score=0.917 total time=   5.6s\n",
      "[CV 1/3; 12/20] START colsample_bytree=0.5, gamma=0.7, learning_rate=0.2, max_depth=5, min_child_weight=2, n_estimators=250\n"
     ]
    },
    {
     "name": "stderr",
     "output_type": "stream",
     "text": [
      "/home/mauricio/.local/lib/python3.8/site-packages/xgboost/sklearn.py:1146: UserWarning: The use of label encoder in XGBClassifier is deprecated and will be removed in a future release. To remove this warning, do the following: 1) Pass option use_label_encoder=False when constructing XGBClassifier object; and 2) Encode your labels (y) as integers starting with 0, i.e. 0, 1, 2, ..., [num_class - 1].\n",
      "  warnings.warn(label_encoder_deprecation_msg, UserWarning)\n"
     ]
    },
    {
     "name": "stdout",
     "output_type": "stream",
     "text": [
      "[23:18:30] WARNING: ../src/learner.cc:1095: Starting in XGBoost 1.3.0, the default evaluation metric used with the objective 'binary:logistic' was changed from 'error' to 'logloss'. Explicitly set eval_metric if you'd like to restore the old behavior.\n",
      "[CV 1/3; 12/20] END colsample_bytree=0.5, gamma=0.7, learning_rate=0.2, max_depth=5, min_child_weight=2, n_estimators=250;, score=0.929 total time=  27.5s\n",
      "[CV 2/3; 12/20] START colsample_bytree=0.5, gamma=0.7, learning_rate=0.2, max_depth=5, min_child_weight=2, n_estimators=250\n"
     ]
    },
    {
     "name": "stderr",
     "output_type": "stream",
     "text": [
      "/home/mauricio/.local/lib/python3.8/site-packages/xgboost/sklearn.py:1146: UserWarning: The use of label encoder in XGBClassifier is deprecated and will be removed in a future release. To remove this warning, do the following: 1) Pass option use_label_encoder=False when constructing XGBClassifier object; and 2) Encode your labels (y) as integers starting with 0, i.e. 0, 1, 2, ..., [num_class - 1].\n",
      "  warnings.warn(label_encoder_deprecation_msg, UserWarning)\n"
     ]
    },
    {
     "name": "stdout",
     "output_type": "stream",
     "text": [
      "[23:18:57] WARNING: ../src/learner.cc:1095: Starting in XGBoost 1.3.0, the default evaluation metric used with the objective 'binary:logistic' was changed from 'error' to 'logloss'. Explicitly set eval_metric if you'd like to restore the old behavior.\n",
      "[CV 2/3; 12/20] END colsample_bytree=0.5, gamma=0.7, learning_rate=0.2, max_depth=5, min_child_weight=2, n_estimators=250;, score=0.945 total time=  28.8s\n",
      "[CV 3/3; 12/20] START colsample_bytree=0.5, gamma=0.7, learning_rate=0.2, max_depth=5, min_child_weight=2, n_estimators=250\n"
     ]
    },
    {
     "name": "stderr",
     "output_type": "stream",
     "text": [
      "/home/mauricio/.local/lib/python3.8/site-packages/xgboost/sklearn.py:1146: UserWarning: The use of label encoder in XGBClassifier is deprecated and will be removed in a future release. To remove this warning, do the following: 1) Pass option use_label_encoder=False when constructing XGBClassifier object; and 2) Encode your labels (y) as integers starting with 0, i.e. 0, 1, 2, ..., [num_class - 1].\n",
      "  warnings.warn(label_encoder_deprecation_msg, UserWarning)\n"
     ]
    },
    {
     "name": "stdout",
     "output_type": "stream",
     "text": [
      "[23:19:26] WARNING: ../src/learner.cc:1095: Starting in XGBoost 1.3.0, the default evaluation metric used with the objective 'binary:logistic' was changed from 'error' to 'logloss'. Explicitly set eval_metric if you'd like to restore the old behavior.\n",
      "[CV 3/3; 12/20] END colsample_bytree=0.5, gamma=0.7, learning_rate=0.2, max_depth=5, min_child_weight=2, n_estimators=250;, score=0.927 total time=  27.8s\n",
      "[CV 1/3; 13/20] START colsample_bytree=0.2, gamma=1, learning_rate=0.4, max_depth=3, min_child_weight=2, n_estimators=150\n"
     ]
    },
    {
     "name": "stderr",
     "output_type": "stream",
     "text": [
      "/home/mauricio/.local/lib/python3.8/site-packages/xgboost/sklearn.py:1146: UserWarning: The use of label encoder in XGBClassifier is deprecated and will be removed in a future release. To remove this warning, do the following: 1) Pass option use_label_encoder=False when constructing XGBClassifier object; and 2) Encode your labels (y) as integers starting with 0, i.e. 0, 1, 2, ..., [num_class - 1].\n",
      "  warnings.warn(label_encoder_deprecation_msg, UserWarning)\n"
     ]
    },
    {
     "name": "stdout",
     "output_type": "stream",
     "text": [
      "[23:19:54] WARNING: ../src/learner.cc:1095: Starting in XGBoost 1.3.0, the default evaluation metric used with the objective 'binary:logistic' was changed from 'error' to 'logloss'. Explicitly set eval_metric if you'd like to restore the old behavior.\n",
      "[CV 1/3; 13/20] END colsample_bytree=0.2, gamma=1, learning_rate=0.4, max_depth=3, min_child_weight=2, n_estimators=150;, score=0.926 total time=   7.2s\n",
      "[CV 2/3; 13/20] START colsample_bytree=0.2, gamma=1, learning_rate=0.4, max_depth=3, min_child_weight=2, n_estimators=150\n"
     ]
    },
    {
     "name": "stderr",
     "output_type": "stream",
     "text": [
      "/home/mauricio/.local/lib/python3.8/site-packages/xgboost/sklearn.py:1146: UserWarning: The use of label encoder in XGBClassifier is deprecated and will be removed in a future release. To remove this warning, do the following: 1) Pass option use_label_encoder=False when constructing XGBClassifier object; and 2) Encode your labels (y) as integers starting with 0, i.e. 0, 1, 2, ..., [num_class - 1].\n",
      "  warnings.warn(label_encoder_deprecation_msg, UserWarning)\n"
     ]
    },
    {
     "name": "stdout",
     "output_type": "stream",
     "text": [
      "[23:20:01] WARNING: ../src/learner.cc:1095: Starting in XGBoost 1.3.0, the default evaluation metric used with the objective 'binary:logistic' was changed from 'error' to 'logloss'. Explicitly set eval_metric if you'd like to restore the old behavior.\n",
      "[CV 2/3; 13/20] END colsample_bytree=0.2, gamma=1, learning_rate=0.4, max_depth=3, min_child_weight=2, n_estimators=150;, score=0.938 total time=   7.8s\n",
      "[CV 3/3; 13/20] START colsample_bytree=0.2, gamma=1, learning_rate=0.4, max_depth=3, min_child_weight=2, n_estimators=150\n"
     ]
    },
    {
     "name": "stderr",
     "output_type": "stream",
     "text": [
      "/home/mauricio/.local/lib/python3.8/site-packages/xgboost/sklearn.py:1146: UserWarning: The use of label encoder in XGBClassifier is deprecated and will be removed in a future release. To remove this warning, do the following: 1) Pass option use_label_encoder=False when constructing XGBClassifier object; and 2) Encode your labels (y) as integers starting with 0, i.e. 0, 1, 2, ..., [num_class - 1].\n",
      "  warnings.warn(label_encoder_deprecation_msg, UserWarning)\n"
     ]
    },
    {
     "name": "stdout",
     "output_type": "stream",
     "text": [
      "[23:20:09] WARNING: ../src/learner.cc:1095: Starting in XGBoost 1.3.0, the default evaluation metric used with the objective 'binary:logistic' was changed from 'error' to 'logloss'. Explicitly set eval_metric if you'd like to restore the old behavior.\n",
      "[CV 3/3; 13/20] END colsample_bytree=0.2, gamma=1, learning_rate=0.4, max_depth=3, min_child_weight=2, n_estimators=150;, score=0.923 total time=   8.0s\n",
      "[CV 1/3; 14/20] START colsample_bytree=0, gamma=0.7, learning_rate=0.2, max_depth=2, min_child_weight=3, n_estimators=200\n"
     ]
    },
    {
     "name": "stderr",
     "output_type": "stream",
     "text": [
      "/home/mauricio/.local/lib/python3.8/site-packages/xgboost/sklearn.py:1146: UserWarning: The use of label encoder in XGBClassifier is deprecated and will be removed in a future release. To remove this warning, do the following: 1) Pass option use_label_encoder=False when constructing XGBClassifier object; and 2) Encode your labels (y) as integers starting with 0, i.e. 0, 1, 2, ..., [num_class - 1].\n",
      "  warnings.warn(label_encoder_deprecation_msg, UserWarning)\n"
     ]
    },
    {
     "name": "stdout",
     "output_type": "stream",
     "text": [
      "[23:20:17] WARNING: ../src/learner.cc:1095: Starting in XGBoost 1.3.0, the default evaluation metric used with the objective 'binary:logistic' was changed from 'error' to 'logloss'. Explicitly set eval_metric if you'd like to restore the old behavior.\n",
      "[CV 1/3; 14/20] END colsample_bytree=0, gamma=0.7, learning_rate=0.2, max_depth=2, min_child_weight=3, n_estimators=200;, score=0.864 total time=   5.5s\n",
      "[CV 2/3; 14/20] START colsample_bytree=0, gamma=0.7, learning_rate=0.2, max_depth=2, min_child_weight=3, n_estimators=200\n"
     ]
    },
    {
     "name": "stderr",
     "output_type": "stream",
     "text": [
      "/home/mauricio/.local/lib/python3.8/site-packages/xgboost/sklearn.py:1146: UserWarning: The use of label encoder in XGBClassifier is deprecated and will be removed in a future release. To remove this warning, do the following: 1) Pass option use_label_encoder=False when constructing XGBClassifier object; and 2) Encode your labels (y) as integers starting with 0, i.e. 0, 1, 2, ..., [num_class - 1].\n",
      "  warnings.warn(label_encoder_deprecation_msg, UserWarning)\n"
     ]
    },
    {
     "name": "stdout",
     "output_type": "stream",
     "text": [
      "[23:20:22] WARNING: ../src/learner.cc:1095: Starting in XGBoost 1.3.0, the default evaluation metric used with the objective 'binary:logistic' was changed from 'error' to 'logloss'. Explicitly set eval_metric if you'd like to restore the old behavior.\n",
      "[CV 2/3; 14/20] END colsample_bytree=0, gamma=0.7, learning_rate=0.2, max_depth=2, min_child_weight=3, n_estimators=200;, score=0.891 total time=   5.8s\n",
      "[CV 3/3; 14/20] START colsample_bytree=0, gamma=0.7, learning_rate=0.2, max_depth=2, min_child_weight=3, n_estimators=200\n"
     ]
    },
    {
     "name": "stderr",
     "output_type": "stream",
     "text": [
      "/home/mauricio/.local/lib/python3.8/site-packages/xgboost/sklearn.py:1146: UserWarning: The use of label encoder in XGBClassifier is deprecated and will be removed in a future release. To remove this warning, do the following: 1) Pass option use_label_encoder=False when constructing XGBClassifier object; and 2) Encode your labels (y) as integers starting with 0, i.e. 0, 1, 2, ..., [num_class - 1].\n",
      "  warnings.warn(label_encoder_deprecation_msg, UserWarning)\n"
     ]
    },
    {
     "name": "stdout",
     "output_type": "stream",
     "text": [
      "[23:20:28] WARNING: ../src/learner.cc:1095: Starting in XGBoost 1.3.0, the default evaluation metric used with the objective 'binary:logistic' was changed from 'error' to 'logloss'. Explicitly set eval_metric if you'd like to restore the old behavior.\n",
      "[CV 3/3; 14/20] END colsample_bytree=0, gamma=0.7, learning_rate=0.2, max_depth=2, min_child_weight=3, n_estimators=200;, score=0.870 total time=   5.9s\n",
      "[CV 1/3; 15/20] START colsample_bytree=0.4, gamma=1, learning_rate=0.5, max_depth=5, min_child_weight=3, n_estimators=200\n"
     ]
    },
    {
     "name": "stderr",
     "output_type": "stream",
     "text": [
      "/home/mauricio/.local/lib/python3.8/site-packages/xgboost/sklearn.py:1146: UserWarning: The use of label encoder in XGBClassifier is deprecated and will be removed in a future release. To remove this warning, do the following: 1) Pass option use_label_encoder=False when constructing XGBClassifier object; and 2) Encode your labels (y) as integers starting with 0, i.e. 0, 1, 2, ..., [num_class - 1].\n",
      "  warnings.warn(label_encoder_deprecation_msg, UserWarning)\n"
     ]
    },
    {
     "name": "stdout",
     "output_type": "stream",
     "text": [
      "[23:20:34] WARNING: ../src/learner.cc:1095: Starting in XGBoost 1.3.0, the default evaluation metric used with the objective 'binary:logistic' was changed from 'error' to 'logloss'. Explicitly set eval_metric if you'd like to restore the old behavior.\n",
      "[CV 1/3; 15/20] END colsample_bytree=0.4, gamma=1, learning_rate=0.5, max_depth=5, min_child_weight=3, n_estimators=200;, score=0.922 total time=  15.6s\n",
      "[CV 2/3; 15/20] START colsample_bytree=0.4, gamma=1, learning_rate=0.5, max_depth=5, min_child_weight=3, n_estimators=200\n"
     ]
    },
    {
     "name": "stderr",
     "output_type": "stream",
     "text": [
      "/home/mauricio/.local/lib/python3.8/site-packages/xgboost/sklearn.py:1146: UserWarning: The use of label encoder in XGBClassifier is deprecated and will be removed in a future release. To remove this warning, do the following: 1) Pass option use_label_encoder=False when constructing XGBClassifier object; and 2) Encode your labels (y) as integers starting with 0, i.e. 0, 1, 2, ..., [num_class - 1].\n",
      "  warnings.warn(label_encoder_deprecation_msg, UserWarning)\n"
     ]
    },
    {
     "name": "stdout",
     "output_type": "stream",
     "text": [
      "[23:20:50] WARNING: ../src/learner.cc:1095: Starting in XGBoost 1.3.0, the default evaluation metric used with the objective 'binary:logistic' was changed from 'error' to 'logloss'. Explicitly set eval_metric if you'd like to restore the old behavior.\n",
      "[CV 2/3; 15/20] END colsample_bytree=0.4, gamma=1, learning_rate=0.5, max_depth=5, min_child_weight=3, n_estimators=200;, score=0.943 total time=  20.5s\n",
      "[CV 3/3; 15/20] START colsample_bytree=0.4, gamma=1, learning_rate=0.5, max_depth=5, min_child_weight=3, n_estimators=200\n"
     ]
    },
    {
     "name": "stderr",
     "output_type": "stream",
     "text": [
      "/home/mauricio/.local/lib/python3.8/site-packages/xgboost/sklearn.py:1146: UserWarning: The use of label encoder in XGBClassifier is deprecated and will be removed in a future release. To remove this warning, do the following: 1) Pass option use_label_encoder=False when constructing XGBClassifier object; and 2) Encode your labels (y) as integers starting with 0, i.e. 0, 1, 2, ..., [num_class - 1].\n",
      "  warnings.warn(label_encoder_deprecation_msg, UserWarning)\n"
     ]
    },
    {
     "name": "stdout",
     "output_type": "stream",
     "text": [
      "[23:21:10] WARNING: ../src/learner.cc:1095: Starting in XGBoost 1.3.0, the default evaluation metric used with the objective 'binary:logistic' was changed from 'error' to 'logloss'. Explicitly set eval_metric if you'd like to restore the old behavior.\n",
      "[CV 3/3; 15/20] END colsample_bytree=0.4, gamma=1, learning_rate=0.5, max_depth=5, min_child_weight=3, n_estimators=200;, score=0.919 total time=  24.5s\n",
      "[CV 1/3; 16/20] START colsample_bytree=0.4, gamma=1, learning_rate=0.5, max_depth=4, min_child_weight=2, n_estimators=250\n"
     ]
    },
    {
     "name": "stderr",
     "output_type": "stream",
     "text": [
      "/home/mauricio/.local/lib/python3.8/site-packages/xgboost/sklearn.py:1146: UserWarning: The use of label encoder in XGBClassifier is deprecated and will be removed in a future release. To remove this warning, do the following: 1) Pass option use_label_encoder=False when constructing XGBClassifier object; and 2) Encode your labels (y) as integers starting with 0, i.e. 0, 1, 2, ..., [num_class - 1].\n",
      "  warnings.warn(label_encoder_deprecation_msg, UserWarning)\n"
     ]
    },
    {
     "name": "stdout",
     "output_type": "stream",
     "text": [
      "[23:21:35] WARNING: ../src/learner.cc:1095: Starting in XGBoost 1.3.0, the default evaluation metric used with the objective 'binary:logistic' was changed from 'error' to 'logloss'. Explicitly set eval_metric if you'd like to restore the old behavior.\n",
      "[CV 1/3; 16/20] END colsample_bytree=0.4, gamma=1, learning_rate=0.5, max_depth=4, min_child_weight=2, n_estimators=250;, score=0.924 total time=  23.2s\n",
      "[CV 2/3; 16/20] START colsample_bytree=0.4, gamma=1, learning_rate=0.5, max_depth=4, min_child_weight=2, n_estimators=250\n"
     ]
    },
    {
     "name": "stderr",
     "output_type": "stream",
     "text": [
      "/home/mauricio/.local/lib/python3.8/site-packages/xgboost/sklearn.py:1146: UserWarning: The use of label encoder in XGBClassifier is deprecated and will be removed in a future release. To remove this warning, do the following: 1) Pass option use_label_encoder=False when constructing XGBClassifier object; and 2) Encode your labels (y) as integers starting with 0, i.e. 0, 1, 2, ..., [num_class - 1].\n",
      "  warnings.warn(label_encoder_deprecation_msg, UserWarning)\n"
     ]
    },
    {
     "name": "stdout",
     "output_type": "stream",
     "text": [
      "[23:21:58] WARNING: ../src/learner.cc:1095: Starting in XGBoost 1.3.0, the default evaluation metric used with the objective 'binary:logistic' was changed from 'error' to 'logloss'. Explicitly set eval_metric if you'd like to restore the old behavior.\n",
      "[CV 2/3; 16/20] END colsample_bytree=0.4, gamma=1, learning_rate=0.5, max_depth=4, min_child_weight=2, n_estimators=250;, score=0.942 total time=  24.7s\n",
      "[CV 3/3; 16/20] START colsample_bytree=0.4, gamma=1, learning_rate=0.5, max_depth=4, min_child_weight=2, n_estimators=250\n"
     ]
    },
    {
     "name": "stderr",
     "output_type": "stream",
     "text": [
      "/home/mauricio/.local/lib/python3.8/site-packages/xgboost/sklearn.py:1146: UserWarning: The use of label encoder in XGBClassifier is deprecated and will be removed in a future release. To remove this warning, do the following: 1) Pass option use_label_encoder=False when constructing XGBClassifier object; and 2) Encode your labels (y) as integers starting with 0, i.e. 0, 1, 2, ..., [num_class - 1].\n",
      "  warnings.warn(label_encoder_deprecation_msg, UserWarning)\n"
     ]
    },
    {
     "name": "stdout",
     "output_type": "stream",
     "text": [
      "[23:22:23] WARNING: ../src/learner.cc:1095: Starting in XGBoost 1.3.0, the default evaluation metric used with the objective 'binary:logistic' was changed from 'error' to 'logloss'. Explicitly set eval_metric if you'd like to restore the old behavior.\n",
      "[CV 3/3; 16/20] END colsample_bytree=0.4, gamma=1, learning_rate=0.5, max_depth=4, min_child_weight=2, n_estimators=250;, score=0.922 total time=  22.3s\n",
      "[CV 1/3; 17/20] START colsample_bytree=0.4, gamma=0.5, learning_rate=0.2, max_depth=3, min_child_weight=2, n_estimators=175\n"
     ]
    },
    {
     "name": "stderr",
     "output_type": "stream",
     "text": [
      "/home/mauricio/.local/lib/python3.8/site-packages/xgboost/sklearn.py:1146: UserWarning: The use of label encoder in XGBClassifier is deprecated and will be removed in a future release. To remove this warning, do the following: 1) Pass option use_label_encoder=False when constructing XGBClassifier object; and 2) Encode your labels (y) as integers starting with 0, i.e. 0, 1, 2, ..., [num_class - 1].\n",
      "  warnings.warn(label_encoder_deprecation_msg, UserWarning)\n"
     ]
    },
    {
     "name": "stdout",
     "output_type": "stream",
     "text": [
      "[23:22:45] WARNING: ../src/learner.cc:1095: Starting in XGBoost 1.3.0, the default evaluation metric used with the objective 'binary:logistic' was changed from 'error' to 'logloss'. Explicitly set eval_metric if you'd like to restore the old behavior.\n",
      "[CV 1/3; 17/20] END colsample_bytree=0.4, gamma=0.5, learning_rate=0.2, max_depth=3, min_child_weight=2, n_estimators=175;, score=0.925 total time=  11.8s\n",
      "[CV 2/3; 17/20] START colsample_bytree=0.4, gamma=0.5, learning_rate=0.2, max_depth=3, min_child_weight=2, n_estimators=175\n"
     ]
    },
    {
     "name": "stderr",
     "output_type": "stream",
     "text": [
      "/home/mauricio/.local/lib/python3.8/site-packages/xgboost/sklearn.py:1146: UserWarning: The use of label encoder in XGBClassifier is deprecated and will be removed in a future release. To remove this warning, do the following: 1) Pass option use_label_encoder=False when constructing XGBClassifier object; and 2) Encode your labels (y) as integers starting with 0, i.e. 0, 1, 2, ..., [num_class - 1].\n",
      "  warnings.warn(label_encoder_deprecation_msg, UserWarning)\n"
     ]
    },
    {
     "name": "stdout",
     "output_type": "stream",
     "text": [
      "[23:22:57] WARNING: ../src/learner.cc:1095: Starting in XGBoost 1.3.0, the default evaluation metric used with the objective 'binary:logistic' was changed from 'error' to 'logloss'. Explicitly set eval_metric if you'd like to restore the old behavior.\n",
      "[CV 2/3; 17/20] END colsample_bytree=0.4, gamma=0.5, learning_rate=0.2, max_depth=3, min_child_weight=2, n_estimators=175;, score=0.938 total time=  11.1s\n",
      "[CV 3/3; 17/20] START colsample_bytree=0.4, gamma=0.5, learning_rate=0.2, max_depth=3, min_child_weight=2, n_estimators=175\n"
     ]
    },
    {
     "name": "stderr",
     "output_type": "stream",
     "text": [
      "/home/mauricio/.local/lib/python3.8/site-packages/xgboost/sklearn.py:1146: UserWarning: The use of label encoder in XGBClassifier is deprecated and will be removed in a future release. To remove this warning, do the following: 1) Pass option use_label_encoder=False when constructing XGBClassifier object; and 2) Encode your labels (y) as integers starting with 0, i.e. 0, 1, 2, ..., [num_class - 1].\n",
      "  warnings.warn(label_encoder_deprecation_msg, UserWarning)\n"
     ]
    },
    {
     "name": "stdout",
     "output_type": "stream",
     "text": [
      "[23:23:08] WARNING: ../src/learner.cc:1095: Starting in XGBoost 1.3.0, the default evaluation metric used with the objective 'binary:logistic' was changed from 'error' to 'logloss'. Explicitly set eval_metric if you'd like to restore the old behavior.\n",
      "[CV 3/3; 17/20] END colsample_bytree=0.4, gamma=0.5, learning_rate=0.2, max_depth=3, min_child_weight=2, n_estimators=175;, score=0.925 total time=  13.5s\n",
      "[CV 1/3; 18/20] START colsample_bytree=0.2, gamma=0.7, learning_rate=0, max_depth=5, min_child_weight=2, n_estimators=250\n"
     ]
    },
    {
     "name": "stderr",
     "output_type": "stream",
     "text": [
      "/home/mauricio/.local/lib/python3.8/site-packages/xgboost/sklearn.py:1146: UserWarning: The use of label encoder in XGBClassifier is deprecated and will be removed in a future release. To remove this warning, do the following: 1) Pass option use_label_encoder=False when constructing XGBClassifier object; and 2) Encode your labels (y) as integers starting with 0, i.e. 0, 1, 2, ..., [num_class - 1].\n",
      "  warnings.warn(label_encoder_deprecation_msg, UserWarning)\n"
     ]
    },
    {
     "name": "stdout",
     "output_type": "stream",
     "text": [
      "[23:23:21] WARNING: ../src/learner.cc:1095: Starting in XGBoost 1.3.0, the default evaluation metric used with the objective 'binary:logistic' was changed from 'error' to 'logloss'. Explicitly set eval_metric if you'd like to restore the old behavior.\n",
      "[CV 1/3; 18/20] END colsample_bytree=0.2, gamma=0.7, learning_rate=0, max_depth=5, min_child_weight=2, n_estimators=250;, score=0.500 total time=  13.0s\n",
      "[CV 2/3; 18/20] START colsample_bytree=0.2, gamma=0.7, learning_rate=0, max_depth=5, min_child_weight=2, n_estimators=250\n"
     ]
    },
    {
     "name": "stderr",
     "output_type": "stream",
     "text": [
      "/home/mauricio/.local/lib/python3.8/site-packages/xgboost/sklearn.py:1146: UserWarning: The use of label encoder in XGBClassifier is deprecated and will be removed in a future release. To remove this warning, do the following: 1) Pass option use_label_encoder=False when constructing XGBClassifier object; and 2) Encode your labels (y) as integers starting with 0, i.e. 0, 1, 2, ..., [num_class - 1].\n",
      "  warnings.warn(label_encoder_deprecation_msg, UserWarning)\n"
     ]
    },
    {
     "name": "stdout",
     "output_type": "stream",
     "text": [
      "[23:23:34] WARNING: ../src/learner.cc:1095: Starting in XGBoost 1.3.0, the default evaluation metric used with the objective 'binary:logistic' was changed from 'error' to 'logloss'. Explicitly set eval_metric if you'd like to restore the old behavior.\n",
      "[CV 2/3; 18/20] END colsample_bytree=0.2, gamma=0.7, learning_rate=0, max_depth=5, min_child_weight=2, n_estimators=250;, score=0.500 total time=  15.0s\n",
      "[CV 3/3; 18/20] START colsample_bytree=0.2, gamma=0.7, learning_rate=0, max_depth=5, min_child_weight=2, n_estimators=250\n"
     ]
    },
    {
     "name": "stderr",
     "output_type": "stream",
     "text": [
      "/home/mauricio/.local/lib/python3.8/site-packages/xgboost/sklearn.py:1146: UserWarning: The use of label encoder in XGBClassifier is deprecated and will be removed in a future release. To remove this warning, do the following: 1) Pass option use_label_encoder=False when constructing XGBClassifier object; and 2) Encode your labels (y) as integers starting with 0, i.e. 0, 1, 2, ..., [num_class - 1].\n",
      "  warnings.warn(label_encoder_deprecation_msg, UserWarning)\n"
     ]
    },
    {
     "name": "stdout",
     "output_type": "stream",
     "text": [
      "[23:23:49] WARNING: ../src/learner.cc:1095: Starting in XGBoost 1.3.0, the default evaluation metric used with the objective 'binary:logistic' was changed from 'error' to 'logloss'. Explicitly set eval_metric if you'd like to restore the old behavior.\n",
      "[CV 3/3; 18/20] END colsample_bytree=0.2, gamma=0.7, learning_rate=0, max_depth=5, min_child_weight=2, n_estimators=250;, score=0.500 total time=  13.1s\n",
      "[CV 1/3; 19/20] START colsample_bytree=0.2, gamma=0.3, learning_rate=0.5, max_depth=5, min_child_weight=3, n_estimators=200\n"
     ]
    },
    {
     "name": "stderr",
     "output_type": "stream",
     "text": [
      "/home/mauricio/.local/lib/python3.8/site-packages/xgboost/sklearn.py:1146: UserWarning: The use of label encoder in XGBClassifier is deprecated and will be removed in a future release. To remove this warning, do the following: 1) Pass option use_label_encoder=False when constructing XGBClassifier object; and 2) Encode your labels (y) as integers starting with 0, i.e. 0, 1, 2, ..., [num_class - 1].\n",
      "  warnings.warn(label_encoder_deprecation_msg, UserWarning)\n"
     ]
    },
    {
     "name": "stdout",
     "output_type": "stream",
     "text": [
      "[23:24:02] WARNING: ../src/learner.cc:1095: Starting in XGBoost 1.3.0, the default evaluation metric used with the objective 'binary:logistic' was changed from 'error' to 'logloss'. Explicitly set eval_metric if you'd like to restore the old behavior.\n",
      "[CV 1/3; 19/20] END colsample_bytree=0.2, gamma=0.3, learning_rate=0.5, max_depth=5, min_child_weight=3, n_estimators=200;, score=0.927 total time=   8.0s\n",
      "[CV 2/3; 19/20] START colsample_bytree=0.2, gamma=0.3, learning_rate=0.5, max_depth=5, min_child_weight=3, n_estimators=200\n"
     ]
    },
    {
     "name": "stderr",
     "output_type": "stream",
     "text": [
      "/home/mauricio/.local/lib/python3.8/site-packages/xgboost/sklearn.py:1146: UserWarning: The use of label encoder in XGBClassifier is deprecated and will be removed in a future release. To remove this warning, do the following: 1) Pass option use_label_encoder=False when constructing XGBClassifier object; and 2) Encode your labels (y) as integers starting with 0, i.e. 0, 1, 2, ..., [num_class - 1].\n",
      "  warnings.warn(label_encoder_deprecation_msg, UserWarning)\n"
     ]
    },
    {
     "name": "stdout",
     "output_type": "stream",
     "text": [
      "[23:24:10] WARNING: ../src/learner.cc:1095: Starting in XGBoost 1.3.0, the default evaluation metric used with the objective 'binary:logistic' was changed from 'error' to 'logloss'. Explicitly set eval_metric if you'd like to restore the old behavior.\n",
      "[CV 2/3; 19/20] END colsample_bytree=0.2, gamma=0.3, learning_rate=0.5, max_depth=5, min_child_weight=3, n_estimators=200;, score=0.943 total time=   9.4s\n",
      "[CV 3/3; 19/20] START colsample_bytree=0.2, gamma=0.3, learning_rate=0.5, max_depth=5, min_child_weight=3, n_estimators=200\n"
     ]
    },
    {
     "name": "stderr",
     "output_type": "stream",
     "text": [
      "/home/mauricio/.local/lib/python3.8/site-packages/xgboost/sklearn.py:1146: UserWarning: The use of label encoder in XGBClassifier is deprecated and will be removed in a future release. To remove this warning, do the following: 1) Pass option use_label_encoder=False when constructing XGBClassifier object; and 2) Encode your labels (y) as integers starting with 0, i.e. 0, 1, 2, ..., [num_class - 1].\n",
      "  warnings.warn(label_encoder_deprecation_msg, UserWarning)\n"
     ]
    },
    {
     "name": "stdout",
     "output_type": "stream",
     "text": [
      "[23:24:20] WARNING: ../src/learner.cc:1095: Starting in XGBoost 1.3.0, the default evaluation metric used with the objective 'binary:logistic' was changed from 'error' to 'logloss'. Explicitly set eval_metric if you'd like to restore the old behavior.\n",
      "[CV 3/3; 19/20] END colsample_bytree=0.2, gamma=0.3, learning_rate=0.5, max_depth=5, min_child_weight=3, n_estimators=200;, score=0.921 total time=   9.5s\n",
      "[CV 1/3; 20/20] START colsample_bytree=0.5, gamma=1, learning_rate=0.4, max_depth=2, min_child_weight=3, n_estimators=175\n"
     ]
    },
    {
     "name": "stderr",
     "output_type": "stream",
     "text": [
      "/home/mauricio/.local/lib/python3.8/site-packages/xgboost/sklearn.py:1146: UserWarning: The use of label encoder in XGBClassifier is deprecated and will be removed in a future release. To remove this warning, do the following: 1) Pass option use_label_encoder=False when constructing XGBClassifier object; and 2) Encode your labels (y) as integers starting with 0, i.e. 0, 1, 2, ..., [num_class - 1].\n",
      "  warnings.warn(label_encoder_deprecation_msg, UserWarning)\n"
     ]
    },
    {
     "name": "stdout",
     "output_type": "stream",
     "text": [
      "[23:24:29] WARNING: ../src/learner.cc:1095: Starting in XGBoost 1.3.0, the default evaluation metric used with the objective 'binary:logistic' was changed from 'error' to 'logloss'. Explicitly set eval_metric if you'd like to restore the old behavior.\n",
      "[CV 1/3; 20/20] END colsample_bytree=0.5, gamma=1, learning_rate=0.4, max_depth=2, min_child_weight=3, n_estimators=175;, score=0.923 total time=   5.2s\n",
      "[CV 2/3; 20/20] START colsample_bytree=0.5, gamma=1, learning_rate=0.4, max_depth=2, min_child_weight=3, n_estimators=175\n"
     ]
    },
    {
     "name": "stderr",
     "output_type": "stream",
     "text": [
      "/home/mauricio/.local/lib/python3.8/site-packages/xgboost/sklearn.py:1146: UserWarning: The use of label encoder in XGBClassifier is deprecated and will be removed in a future release. To remove this warning, do the following: 1) Pass option use_label_encoder=False when constructing XGBClassifier object; and 2) Encode your labels (y) as integers starting with 0, i.e. 0, 1, 2, ..., [num_class - 1].\n",
      "  warnings.warn(label_encoder_deprecation_msg, UserWarning)\n"
     ]
    },
    {
     "name": "stdout",
     "output_type": "stream",
     "text": [
      "[23:24:34] WARNING: ../src/learner.cc:1095: Starting in XGBoost 1.3.0, the default evaluation metric used with the objective 'binary:logistic' was changed from 'error' to 'logloss'. Explicitly set eval_metric if you'd like to restore the old behavior.\n",
      "[CV 2/3; 20/20] END colsample_bytree=0.5, gamma=1, learning_rate=0.4, max_depth=2, min_child_weight=3, n_estimators=175;, score=0.936 total time=   6.9s\n",
      "[CV 3/3; 20/20] START colsample_bytree=0.5, gamma=1, learning_rate=0.4, max_depth=2, min_child_weight=3, n_estimators=175\n"
     ]
    },
    {
     "name": "stderr",
     "output_type": "stream",
     "text": [
      "/home/mauricio/.local/lib/python3.8/site-packages/xgboost/sklearn.py:1146: UserWarning: The use of label encoder in XGBClassifier is deprecated and will be removed in a future release. To remove this warning, do the following: 1) Pass option use_label_encoder=False when constructing XGBClassifier object; and 2) Encode your labels (y) as integers starting with 0, i.e. 0, 1, 2, ..., [num_class - 1].\n",
      "  warnings.warn(label_encoder_deprecation_msg, UserWarning)\n"
     ]
    },
    {
     "name": "stdout",
     "output_type": "stream",
     "text": [
      "[23:24:41] WARNING: ../src/learner.cc:1095: Starting in XGBoost 1.3.0, the default evaluation metric used with the objective 'binary:logistic' was changed from 'error' to 'logloss'. Explicitly set eval_metric if you'd like to restore the old behavior.\n",
      "[CV 3/3; 20/20] END colsample_bytree=0.5, gamma=1, learning_rate=0.4, max_depth=2, min_child_weight=3, n_estimators=175;, score=0.923 total time=   6.0s\n"
     ]
    },
    {
     "name": "stderr",
     "output_type": "stream",
     "text": [
      "/home/mauricio/.local/lib/python3.8/site-packages/xgboost/sklearn.py:1146: UserWarning: The use of label encoder in XGBClassifier is deprecated and will be removed in a future release. To remove this warning, do the following: 1) Pass option use_label_encoder=False when constructing XGBClassifier object; and 2) Encode your labels (y) as integers starting with 0, i.e. 0, 1, 2, ..., [num_class - 1].\n",
      "  warnings.warn(label_encoder_deprecation_msg, UserWarning)\n"
     ]
    },
    {
     "name": "stdout",
     "output_type": "stream",
     "text": [
      "[23:24:48] WARNING: ../src/learner.cc:1095: Starting in XGBoost 1.3.0, the default evaluation metric used with the objective 'binary:logistic' was changed from 'error' to 'logloss'. Explicitly set eval_metric if you'd like to restore the old behavior.\n"
     ]
    }
   ],
   "source": [
    "best_model = clf.fit(x_train.values, y_train.values)"
   ]
  },
  {
   "cell_type": "code",
   "execution_count": 24,
   "id": "1185af11-02d6-4fe5-aaf5-6b00c23422f2",
   "metadata": {},
   "outputs": [
    {
     "data": {
      "text/plain": [
       "0.9340325769065821"
      ]
     },
     "execution_count": 24,
     "metadata": {},
     "output_type": "execute_result"
    }
   ],
   "source": [
    "best_model.best_score_"
   ]
  },
  {
   "cell_type": "code",
   "execution_count": 25,
   "id": "aa865204-d71d-4bd6-91fb-b1ebba156148",
   "metadata": {},
   "outputs": [
    {
     "data": {
      "text/plain": [
       "{'n_estimators': 250,\n",
       " 'min_child_weight': 2,\n",
       " 'max_depth': 5,\n",
       " 'learning_rate': 0.2,\n",
       " 'gamma': 0.7,\n",
       " 'colsample_bytree': 0.5}"
      ]
     },
     "execution_count": 25,
     "metadata": {},
     "output_type": "execute_result"
    }
   ],
   "source": [
    "best_model.best_params_"
   ]
  },
  {
   "cell_type": "markdown",
   "id": "dc1ec663-e3a6-4dac-9ca2-d2deb7e8bb19",
   "metadata": {},
   "source": [
    "## Prediccion"
   ]
  },
  {
   "cell_type": "code",
   "execution_count": 26,
   "id": "c93b6c33-047e-4c03-bd52-438163f23893",
   "metadata": {},
   "outputs": [],
   "source": [
    "pred = best_model.predict_proba(x_test.values)"
   ]
  },
  {
   "cell_type": "code",
   "execution_count": 27,
   "id": "51ac1ee7-4a4d-47f7-a80f-3ed1d2bdce88",
   "metadata": {},
   "outputs": [
    {
     "data": {
      "text/plain": [
       "0.8117380538247155"
      ]
     },
     "execution_count": 27,
     "metadata": {},
     "output_type": "execute_result"
    }
   ],
   "source": [
    "score = roc_auc_score(y_test, pred[:, 1])\n",
    "score"
   ]
  },
  {
   "cell_type": "code",
   "execution_count": 28,
   "id": "7781dc0d-806d-492c-921c-f108b1398e4a",
   "metadata": {
    "tags": []
   },
   "outputs": [
    {
     "data": {
      "text/plain": [
       "array([0.03782318, 0.02444159, 0.00661112, 0.08411793, 0.02746297,\n",
       "       0.0262827 , 0.00284054, 0.        , 0.04132858, 0.03359295,\n",
       "       0.00920839, 0.00557097, 0.00138659, 0.01607534, 0.02109884,\n",
       "       0.03612246, 0.0279269 , 0.00440102, 0.01758355, 0.01453747,\n",
       "       0.00342374, 0.00797717, 0.00292844, 0.00834748, 0.00264142,\n",
       "       0.01446243, 0.01169377, 0.00237987, 0.00709523, 0.00483035,\n",
       "       0.00594692, 0.01306702, 0.00371458, 0.0102802 , 0.01028129,\n",
       "       0.0089781 , 0.00582778, 0.00409933, 0.00921014, 0.00291451,\n",
       "       0.00586916, 0.00717879, 0.00852472, 0.02031792, 0.00634628,\n",
       "       0.0223514 , 0.0096232 , 0.00414471, 0.0056055 , 0.00451604,\n",
       "       0.00605622, 0.00659406, 0.00165775, 0.0098799 , 0.0092474 ,\n",
       "       0.00132877, 0.01089192, 0.02108604, 0.        , 0.00246105,\n",
       "       0.00573437, 0.01422872, 0.0050949 , 0.01126924, 0.0204084 ,\n",
       "       0.00437584, 0.00843055, 0.00194466, 0.00493183, 0.00747637,\n",
       "       0.031768  , 0.00824047, 0.00564648, 0.01213313, 0.0076001 ,\n",
       "       0.0055621 , 0.00289761, 0.00242077, 0.01043018, 0.00509367,\n",
       "       0.0033493 , 0.00482126, 0.00524453, 0.02041641, 0.00442439,\n",
       "       0.00604063, 0.02595557, 0.00064533, 0.00175501, 0.00334002,\n",
       "       0.00421265, 0.00191393], dtype=float32)"
      ]
     },
     "execution_count": 28,
     "metadata": {},
     "output_type": "execute_result"
    }
   ],
   "source": [
    "best_model.best_estimator_.feature_importances_"
   ]
  },
  {
   "cell_type": "code",
   "execution_count": 29,
   "id": "820eda3e-be96-4c4a-8ed6-6cb554d5b40c",
   "metadata": {
    "tags": []
   },
   "outputs": [
    {
     "data": {
      "text/html": [
       "<div>\n",
       "<style scoped>\n",
       "    .dataframe tbody tr th:only-of-type {\n",
       "        vertical-align: middle;\n",
       "    }\n",
       "\n",
       "    .dataframe tbody tr th {\n",
       "        vertical-align: top;\n",
       "    }\n",
       "\n",
       "    .dataframe thead th {\n",
       "        text-align: right;\n",
       "    }\n",
       "</style>\n",
       "<table border=\"1\" class=\"dataframe\">\n",
       "  <thead>\n",
       "    <tr style=\"text-align: right;\">\n",
       "      <th></th>\n",
       "      <th>column</th>\n",
       "      <th>importance</th>\n",
       "    </tr>\n",
       "  </thead>\n",
       "  <tbody>\n",
       "    <tr>\n",
       "      <th>0</th>\n",
       "      <td>V200</td>\n",
       "      <td>0.037823</td>\n",
       "    </tr>\n",
       "    <tr>\n",
       "      <th>1</th>\n",
       "      <td>V244</td>\n",
       "      <td>0.024442</td>\n",
       "    </tr>\n",
       "    <tr>\n",
       "      <th>2</th>\n",
       "      <td>V258</td>\n",
       "      <td>0.006611</td>\n",
       "    </tr>\n",
       "    <tr>\n",
       "      <th>3</th>\n",
       "      <td>V189</td>\n",
       "      <td>0.084118</td>\n",
       "    </tr>\n",
       "    <tr>\n",
       "      <th>4</th>\n",
       "      <td>V243</td>\n",
       "      <td>0.027463</td>\n",
       "    </tr>\n",
       "    <tr>\n",
       "      <th>...</th>\n",
       "      <td>...</td>\n",
       "      <td>...</td>\n",
       "    </tr>\n",
       "    <tr>\n",
       "      <th>87</th>\n",
       "      <td>android_so</td>\n",
       "      <td>0.000645</td>\n",
       "    </tr>\n",
       "    <tr>\n",
       "      <th>88</th>\n",
       "      <td>ios_so</td>\n",
       "      <td>0.001755</td>\n",
       "    </tr>\n",
       "    <tr>\n",
       "      <th>89</th>\n",
       "      <td>mac_so</td>\n",
       "      <td>0.003340</td>\n",
       "    </tr>\n",
       "    <tr>\n",
       "      <th>90</th>\n",
       "      <td>windows_so</td>\n",
       "      <td>0.004213</td>\n",
       "    </tr>\n",
       "    <tr>\n",
       "      <th>91</th>\n",
       "      <td>linux_so</td>\n",
       "      <td>0.001914</td>\n",
       "    </tr>\n",
       "  </tbody>\n",
       "</table>\n",
       "<p>92 rows × 2 columns</p>\n",
       "</div>"
      ],
      "text/plain": [
       "        column  importance\n",
       "0         V200    0.037823\n",
       "1         V244    0.024442\n",
       "2         V258    0.006611\n",
       "3         V189    0.084118\n",
       "4         V243    0.027463\n",
       "..         ...         ...\n",
       "87  android_so    0.000645\n",
       "88      ios_so    0.001755\n",
       "89      mac_so    0.003340\n",
       "90  windows_so    0.004213\n",
       "91    linux_so    0.001914\n",
       "\n",
       "[92 rows x 2 columns]"
      ]
     },
     "execution_count": 29,
     "metadata": {},
     "output_type": "execute_result"
    }
   ],
   "source": [
    "data = {\"column\": x_train.columns,\n",
    "    \"importance\": best_model.best_estimator_.feature_importances_}\n",
    "\n",
    "df = pd.DataFrame(data)\n",
    "df.importance = abs(df.importance)\n",
    "#df = df.loc[(df.column != \"id_33\") & (df.column != \"DeviceInfo\") & (df.column != \"id_31\")\\\n",
    " #           & (df.column != 'DeviceType_desktop') & (df.column != 'DeviceType_mobile') & (df.column != 'DeviceType_nan'),] \n",
    "#df = df.nlargest(100, \"importance\")\n",
    "df"
   ]
  },
  {
   "cell_type": "markdown",
   "id": "96729d13-8706-41d8-8629-00aecb70b1aa",
   "metadata": {},
   "source": [
    "## Submission"
   ]
  },
  {
   "cell_type": "code",
   "execution_count": 30,
   "id": "01cc121c-704f-4cf7-9a6c-0544efd22448",
   "metadata": {},
   "outputs": [],
   "source": [
    "test_transaction = pd.read_csv(\"ieee-fraud-detection/test_transaction.csv\")\n",
    "test_identity = pd.read_csv(\"ieee-fraud-detection/test_identity.csv\")"
   ]
  },
  {
   "cell_type": "code",
   "execution_count": 31,
   "id": "56c86293-3241-426e-a5f1-f5f1d062e482",
   "metadata": {},
   "outputs": [],
   "source": [
    "test = test_transaction.merge(test_identity, on = \"TransactionID\", how = \"left\")\n",
    "test_transaction = None\n",
    "test_identity = None"
   ]
  },
  {
   "cell_type": "code",
   "execution_count": 32,
   "id": "05cc4a49-0447-4139-9900-ef44dd912ef0",
   "metadata": {},
   "outputs": [],
   "source": [
    "test_ids = test.TransactionID"
   ]
  },
  {
   "cell_type": "code",
   "execution_count": 33,
   "id": "b95e4cf1-444f-4874-bb7b-68e7d77fd652",
   "metadata": {},
   "outputs": [
    {
     "data": {
      "text/html": [
       "<div>\n",
       "<style scoped>\n",
       "    .dataframe tbody tr th:only-of-type {\n",
       "        vertical-align: middle;\n",
       "    }\n",
       "\n",
       "    .dataframe tbody tr th {\n",
       "        vertical-align: top;\n",
       "    }\n",
       "\n",
       "    .dataframe thead th {\n",
       "        text-align: right;\n",
       "    }\n",
       "</style>\n",
       "<table border=\"1\" class=\"dataframe\">\n",
       "  <thead>\n",
       "    <tr style=\"text-align: right;\">\n",
       "      <th></th>\n",
       "      <th>TransactionDT</th>\n",
       "      <th>TransactionAmt</th>\n",
       "      <th>ProductCD</th>\n",
       "      <th>card1</th>\n",
       "      <th>card2</th>\n",
       "      <th>card3</th>\n",
       "      <th>card4</th>\n",
       "      <th>card5</th>\n",
       "      <th>card6</th>\n",
       "      <th>addr1</th>\n",
       "      <th>...</th>\n",
       "      <th>id_31</th>\n",
       "      <th>id_32</th>\n",
       "      <th>id_33</th>\n",
       "      <th>id_34</th>\n",
       "      <th>id_35</th>\n",
       "      <th>id_36</th>\n",
       "      <th>id_37</th>\n",
       "      <th>id_38</th>\n",
       "      <th>DeviceType</th>\n",
       "      <th>DeviceInfo</th>\n",
       "    </tr>\n",
       "  </thead>\n",
       "  <tbody>\n",
       "    <tr>\n",
       "      <th>0</th>\n",
       "      <td>18403224</td>\n",
       "      <td>31.950</td>\n",
       "      <td>W</td>\n",
       "      <td>10409</td>\n",
       "      <td>111.0</td>\n",
       "      <td>150.0</td>\n",
       "      <td>visa</td>\n",
       "      <td>226.0</td>\n",
       "      <td>debit</td>\n",
       "      <td>170.0</td>\n",
       "      <td>...</td>\n",
       "      <td>NaN</td>\n",
       "      <td>NaN</td>\n",
       "      <td>NaN</td>\n",
       "      <td>NaN</td>\n",
       "      <td>NaN</td>\n",
       "      <td>NaN</td>\n",
       "      <td>NaN</td>\n",
       "      <td>NaN</td>\n",
       "      <td>NaN</td>\n",
       "      <td>NaN</td>\n",
       "    </tr>\n",
       "    <tr>\n",
       "      <th>1</th>\n",
       "      <td>18403263</td>\n",
       "      <td>49.000</td>\n",
       "      <td>W</td>\n",
       "      <td>4272</td>\n",
       "      <td>111.0</td>\n",
       "      <td>150.0</td>\n",
       "      <td>visa</td>\n",
       "      <td>226.0</td>\n",
       "      <td>debit</td>\n",
       "      <td>299.0</td>\n",
       "      <td>...</td>\n",
       "      <td>NaN</td>\n",
       "      <td>NaN</td>\n",
       "      <td>NaN</td>\n",
       "      <td>NaN</td>\n",
       "      <td>NaN</td>\n",
       "      <td>NaN</td>\n",
       "      <td>NaN</td>\n",
       "      <td>NaN</td>\n",
       "      <td>NaN</td>\n",
       "      <td>NaN</td>\n",
       "    </tr>\n",
       "    <tr>\n",
       "      <th>2</th>\n",
       "      <td>18403310</td>\n",
       "      <td>171.000</td>\n",
       "      <td>W</td>\n",
       "      <td>4476</td>\n",
       "      <td>574.0</td>\n",
       "      <td>150.0</td>\n",
       "      <td>visa</td>\n",
       "      <td>226.0</td>\n",
       "      <td>debit</td>\n",
       "      <td>472.0</td>\n",
       "      <td>...</td>\n",
       "      <td>NaN</td>\n",
       "      <td>NaN</td>\n",
       "      <td>NaN</td>\n",
       "      <td>NaN</td>\n",
       "      <td>NaN</td>\n",
       "      <td>NaN</td>\n",
       "      <td>NaN</td>\n",
       "      <td>NaN</td>\n",
       "      <td>NaN</td>\n",
       "      <td>NaN</td>\n",
       "    </tr>\n",
       "    <tr>\n",
       "      <th>3</th>\n",
       "      <td>18403310</td>\n",
       "      <td>284.950</td>\n",
       "      <td>W</td>\n",
       "      <td>10989</td>\n",
       "      <td>360.0</td>\n",
       "      <td>150.0</td>\n",
       "      <td>visa</td>\n",
       "      <td>166.0</td>\n",
       "      <td>debit</td>\n",
       "      <td>205.0</td>\n",
       "      <td>...</td>\n",
       "      <td>NaN</td>\n",
       "      <td>NaN</td>\n",
       "      <td>NaN</td>\n",
       "      <td>NaN</td>\n",
       "      <td>NaN</td>\n",
       "      <td>NaN</td>\n",
       "      <td>NaN</td>\n",
       "      <td>NaN</td>\n",
       "      <td>NaN</td>\n",
       "      <td>NaN</td>\n",
       "    </tr>\n",
       "    <tr>\n",
       "      <th>4</th>\n",
       "      <td>18403317</td>\n",
       "      <td>67.950</td>\n",
       "      <td>W</td>\n",
       "      <td>18018</td>\n",
       "      <td>452.0</td>\n",
       "      <td>150.0</td>\n",
       "      <td>mastercard</td>\n",
       "      <td>117.0</td>\n",
       "      <td>debit</td>\n",
       "      <td>264.0</td>\n",
       "      <td>...</td>\n",
       "      <td>NaN</td>\n",
       "      <td>NaN</td>\n",
       "      <td>NaN</td>\n",
       "      <td>NaN</td>\n",
       "      <td>NaN</td>\n",
       "      <td>NaN</td>\n",
       "      <td>NaN</td>\n",
       "      <td>NaN</td>\n",
       "      <td>NaN</td>\n",
       "      <td>NaN</td>\n",
       "    </tr>\n",
       "    <tr>\n",
       "      <th>...</th>\n",
       "      <td>...</td>\n",
       "      <td>...</td>\n",
       "      <td>...</td>\n",
       "      <td>...</td>\n",
       "      <td>...</td>\n",
       "      <td>...</td>\n",
       "      <td>...</td>\n",
       "      <td>...</td>\n",
       "      <td>...</td>\n",
       "      <td>...</td>\n",
       "      <td>...</td>\n",
       "      <td>...</td>\n",
       "      <td>...</td>\n",
       "      <td>...</td>\n",
       "      <td>...</td>\n",
       "      <td>...</td>\n",
       "      <td>...</td>\n",
       "      <td>...</td>\n",
       "      <td>...</td>\n",
       "      <td>...</td>\n",
       "      <td>...</td>\n",
       "    </tr>\n",
       "    <tr>\n",
       "      <th>506686</th>\n",
       "      <td>34214279</td>\n",
       "      <td>94.679</td>\n",
       "      <td>C</td>\n",
       "      <td>13832</td>\n",
       "      <td>375.0</td>\n",
       "      <td>185.0</td>\n",
       "      <td>mastercard</td>\n",
       "      <td>224.0</td>\n",
       "      <td>debit</td>\n",
       "      <td>284.0</td>\n",
       "      <td>...</td>\n",
       "      <td>NaN</td>\n",
       "      <td>NaN</td>\n",
       "      <td>NaN</td>\n",
       "      <td>NaN</td>\n",
       "      <td>NaN</td>\n",
       "      <td>NaN</td>\n",
       "      <td>NaN</td>\n",
       "      <td>NaN</td>\n",
       "      <td>NaN</td>\n",
       "      <td>NaN</td>\n",
       "    </tr>\n",
       "    <tr>\n",
       "      <th>506687</th>\n",
       "      <td>34214287</td>\n",
       "      <td>12.173</td>\n",
       "      <td>C</td>\n",
       "      <td>3154</td>\n",
       "      <td>408.0</td>\n",
       "      <td>185.0</td>\n",
       "      <td>mastercard</td>\n",
       "      <td>224.0</td>\n",
       "      <td>debit</td>\n",
       "      <td>NaN</td>\n",
       "      <td>...</td>\n",
       "      <td>chrome 43.0 for android</td>\n",
       "      <td>NaN</td>\n",
       "      <td>NaN</td>\n",
       "      <td>NaN</td>\n",
       "      <td>F</td>\n",
       "      <td>F</td>\n",
       "      <td>T</td>\n",
       "      <td>F</td>\n",
       "      <td>mobile</td>\n",
       "      <td>ALE-L23 Build/HuaweiALE-L23</td>\n",
       "    </tr>\n",
       "    <tr>\n",
       "      <th>506688</th>\n",
       "      <td>34214326</td>\n",
       "      <td>49.000</td>\n",
       "      <td>W</td>\n",
       "      <td>16661</td>\n",
       "      <td>490.0</td>\n",
       "      <td>150.0</td>\n",
       "      <td>visa</td>\n",
       "      <td>226.0</td>\n",
       "      <td>debit</td>\n",
       "      <td>327.0</td>\n",
       "      <td>...</td>\n",
       "      <td>NaN</td>\n",
       "      <td>NaN</td>\n",
       "      <td>NaN</td>\n",
       "      <td>NaN</td>\n",
       "      <td>NaN</td>\n",
       "      <td>NaN</td>\n",
       "      <td>NaN</td>\n",
       "      <td>NaN</td>\n",
       "      <td>NaN</td>\n",
       "      <td>NaN</td>\n",
       "    </tr>\n",
       "    <tr>\n",
       "      <th>506689</th>\n",
       "      <td>34214337</td>\n",
       "      <td>202.000</td>\n",
       "      <td>W</td>\n",
       "      <td>16621</td>\n",
       "      <td>516.0</td>\n",
       "      <td>150.0</td>\n",
       "      <td>mastercard</td>\n",
       "      <td>224.0</td>\n",
       "      <td>debit</td>\n",
       "      <td>177.0</td>\n",
       "      <td>...</td>\n",
       "      <td>NaN</td>\n",
       "      <td>NaN</td>\n",
       "      <td>NaN</td>\n",
       "      <td>NaN</td>\n",
       "      <td>NaN</td>\n",
       "      <td>NaN</td>\n",
       "      <td>NaN</td>\n",
       "      <td>NaN</td>\n",
       "      <td>NaN</td>\n",
       "      <td>NaN</td>\n",
       "    </tr>\n",
       "    <tr>\n",
       "      <th>506690</th>\n",
       "      <td>34214345</td>\n",
       "      <td>24.346</td>\n",
       "      <td>C</td>\n",
       "      <td>5713</td>\n",
       "      <td>168.0</td>\n",
       "      <td>144.0</td>\n",
       "      <td>visa</td>\n",
       "      <td>147.0</td>\n",
       "      <td>credit</td>\n",
       "      <td>NaN</td>\n",
       "      <td>...</td>\n",
       "      <td>samsung browser 8.2</td>\n",
       "      <td>NaN</td>\n",
       "      <td>NaN</td>\n",
       "      <td>NaN</td>\n",
       "      <td>F</td>\n",
       "      <td>F</td>\n",
       "      <td>T</td>\n",
       "      <td>F</td>\n",
       "      <td>mobile</td>\n",
       "      <td>SAMSUNG</td>\n",
       "    </tr>\n",
       "  </tbody>\n",
       "</table>\n",
       "<p>506691 rows × 432 columns</p>\n",
       "</div>"
      ],
      "text/plain": [
       "        TransactionDT  TransactionAmt ProductCD  card1  card2  card3  \\\n",
       "0            18403224          31.950         W  10409  111.0  150.0   \n",
       "1            18403263          49.000         W   4272  111.0  150.0   \n",
       "2            18403310         171.000         W   4476  574.0  150.0   \n",
       "3            18403310         284.950         W  10989  360.0  150.0   \n",
       "4            18403317          67.950         W  18018  452.0  150.0   \n",
       "...               ...             ...       ...    ...    ...    ...   \n",
       "506686       34214279          94.679         C  13832  375.0  185.0   \n",
       "506687       34214287          12.173         C   3154  408.0  185.0   \n",
       "506688       34214326          49.000         W  16661  490.0  150.0   \n",
       "506689       34214337         202.000         W  16621  516.0  150.0   \n",
       "506690       34214345          24.346         C   5713  168.0  144.0   \n",
       "\n",
       "             card4  card5   card6  addr1  ...                    id_31  id_32  \\\n",
       "0             visa  226.0   debit  170.0  ...                      NaN    NaN   \n",
       "1             visa  226.0   debit  299.0  ...                      NaN    NaN   \n",
       "2             visa  226.0   debit  472.0  ...                      NaN    NaN   \n",
       "3             visa  166.0   debit  205.0  ...                      NaN    NaN   \n",
       "4       mastercard  117.0   debit  264.0  ...                      NaN    NaN   \n",
       "...            ...    ...     ...    ...  ...                      ...    ...   \n",
       "506686  mastercard  224.0   debit  284.0  ...                      NaN    NaN   \n",
       "506687  mastercard  224.0   debit    NaN  ...  chrome 43.0 for android    NaN   \n",
       "506688        visa  226.0   debit  327.0  ...                      NaN    NaN   \n",
       "506689  mastercard  224.0   debit  177.0  ...                      NaN    NaN   \n",
       "506690        visa  147.0  credit    NaN  ...      samsung browser 8.2    NaN   \n",
       "\n",
       "        id_33 id_34 id_35  id_36  id_37  id_38  DeviceType  \\\n",
       "0         NaN   NaN   NaN    NaN    NaN    NaN         NaN   \n",
       "1         NaN   NaN   NaN    NaN    NaN    NaN         NaN   \n",
       "2         NaN   NaN   NaN    NaN    NaN    NaN         NaN   \n",
       "3         NaN   NaN   NaN    NaN    NaN    NaN         NaN   \n",
       "4         NaN   NaN   NaN    NaN    NaN    NaN         NaN   \n",
       "...       ...   ...   ...    ...    ...    ...         ...   \n",
       "506686    NaN   NaN   NaN    NaN    NaN    NaN         NaN   \n",
       "506687    NaN   NaN     F      F      T      F      mobile   \n",
       "506688    NaN   NaN   NaN    NaN    NaN    NaN         NaN   \n",
       "506689    NaN   NaN   NaN    NaN    NaN    NaN         NaN   \n",
       "506690    NaN   NaN     F      F      T      F      mobile   \n",
       "\n",
       "                         DeviceInfo  \n",
       "0                               NaN  \n",
       "1                               NaN  \n",
       "2                               NaN  \n",
       "3                               NaN  \n",
       "4                               NaN  \n",
       "...                             ...  \n",
       "506686                          NaN  \n",
       "506687  ALE-L23 Build/HuaweiALE-L23  \n",
       "506688                          NaN  \n",
       "506689                          NaN  \n",
       "506690                      SAMSUNG  \n",
       "\n",
       "[506691 rows x 432 columns]"
      ]
     },
     "execution_count": 33,
     "metadata": {},
     "output_type": "execute_result"
    }
   ],
   "source": [
    "test.columns = test.columns.str.replace('id-','id_')\n",
    "test = test.iloc[:,1:]\n",
    "test"
   ]
  },
  {
   "cell_type": "code",
   "execution_count": 34,
   "id": "62c20ddf-6093-4d7b-b08e-ee87a77f2193",
   "metadata": {},
   "outputs": [],
   "source": [
    "test.id_30 = test.id_30.fillna(\"Other\")"
   ]
  },
  {
   "cell_type": "code",
   "execution_count": 35,
   "id": "0fecf4eb-b170-47ca-bc0f-84f4a872b7bf",
   "metadata": {},
   "outputs": [],
   "source": [
    "vectorizer = CountVectorizer(max_features=15)"
   ]
  },
  {
   "cell_type": "code",
   "execution_count": 36,
   "id": "c1a170ba-3e19-41ee-89a0-d6b3612e6428",
   "metadata": {},
   "outputs": [],
   "source": [
    "matrix = vectorizer.fit_transform(list(test.id_30))"
   ]
  },
  {
   "cell_type": "code",
   "execution_count": 37,
   "id": "17278a8d-1b2d-4f67-babd-c5964a3211e5",
   "metadata": {},
   "outputs": [
    {
     "data": {
      "text/plain": [
       "{'other': 13,\n",
       " 'android': 8,\n",
       " 'ios': 9,\n",
       " '11': 6,\n",
       " 'windows': 14,\n",
       " '10': 0,\n",
       " 'mac': 11,\n",
       " 'os': 12,\n",
       " 'linux': 10,\n",
       " '10_12_6': 3,\n",
       " '10_11_6': 2,\n",
       " '10_10_5': 1,\n",
       " '12': 7,\n",
       " '10_13_6': 4,\n",
       " '10_14_1': 5}"
      ]
     },
     "execution_count": 37,
     "metadata": {},
     "output_type": "execute_result"
    }
   ],
   "source": [
    "vectorizer.vocabulary_"
   ]
  },
  {
   "cell_type": "code",
   "execution_count": 38,
   "id": "dd93e269-ecb1-4259-9382-47fd00b1130a",
   "metadata": {},
   "outputs": [],
   "source": [
    "test[\"android_so\"] = list(np.asarray(matrix.todense())[:,8])\n",
    "test[\"ios_so\"] = list(np.asarray(matrix.todense())[:,9])\n",
    "test[\"mac_so\"] = list(np.asarray(matrix.todense())[:,11])\n",
    "test[\"windows_so\"] = list(np.asarray(matrix.todense())[:,14])\n",
    "test[\"linux_so\"] = list(np.asarray(matrix.todense())[:,10])"
   ]
  },
  {
   "cell_type": "code",
   "execution_count": 39,
   "id": "d920891a-10a7-41b3-b0b1-9f845ff0d92b",
   "metadata": {},
   "outputs": [],
   "source": [
    "test = test.drop(\"id_30\", axis= 1)"
   ]
  },
  {
   "cell_type": "code",
   "execution_count": 40,
   "id": "a67061ba-95f1-4dac-8816-84dbb38eafb9",
   "metadata": {},
   "outputs": [],
   "source": [
    "matrix_test = oneHotEncoder.transform(test[columns_OHE])\n",
    "test[list(oneHotEncoder.get_feature_names_out(columns_OHE))] = matrix_test\n",
    "test.drop(inplace = True, axis = 1, columns = columns_OHE)\n",
    "matrix_test = None"
   ]
  },
  {
   "cell_type": "code",
   "execution_count": 41,
   "id": "020a002a-befa-4f71-888f-e98c613437ae",
   "metadata": {},
   "outputs": [],
   "source": [
    "for c in columns_ME:\n",
    "    test[c] = test[c].fillna(0)"
   ]
  },
  {
   "cell_type": "code",
   "execution_count": 42,
   "id": "ec2aa8d7-98c8-476a-8026-5cee87e2edaf",
   "metadata": {
    "tags": []
   },
   "outputs": [],
   "source": [
    "for i in range(len(list_dicts)): \n",
    "    test[columns_ME[i]] =  test[columns_ME[i]].map(list_dicts[i])"
   ]
  },
  {
   "cell_type": "code",
   "execution_count": 43,
   "id": "9b9e24ac-ae4c-40e4-86d1-611813592001",
   "metadata": {},
   "outputs": [],
   "source": [
    "test = test.loc[:,selected_features]"
   ]
  },
  {
   "cell_type": "code",
   "execution_count": 54,
   "id": "dbf30cad-97be-4312-a6e7-5d77df967cb3",
   "metadata": {},
   "outputs": [],
   "source": [
    "for c in selected_features:\n",
    "    test[c] = test[c].fillna(x_train[selected_features].mean())"
   ]
  },
  {
   "cell_type": "code",
   "execution_count": 55,
   "id": "3517cb2f-eca9-45b6-a339-83dd36e2ac20",
   "metadata": {},
   "outputs": [
    {
     "data": {
      "text/html": [
       "<div>\n",
       "<style scoped>\n",
       "    .dataframe tbody tr th:only-of-type {\n",
       "        vertical-align: middle;\n",
       "    }\n",
       "\n",
       "    .dataframe tbody tr th {\n",
       "        vertical-align: top;\n",
       "    }\n",
       "\n",
       "    .dataframe thead th {\n",
       "        text-align: right;\n",
       "    }\n",
       "</style>\n",
       "<table border=\"1\" class=\"dataframe\">\n",
       "  <thead>\n",
       "    <tr style=\"text-align: right;\">\n",
       "      <th></th>\n",
       "      <th>V200</th>\n",
       "      <th>V244</th>\n",
       "      <th>V258</th>\n",
       "      <th>V189</th>\n",
       "      <th>V243</th>\n",
       "      <th>V172</th>\n",
       "      <th>V187</th>\n",
       "      <th>ProductCD_C</th>\n",
       "      <th>V246</th>\n",
       "      <th>V156</th>\n",
       "      <th>...</th>\n",
       "      <th>id_33</th>\n",
       "      <th>DeviceInfo</th>\n",
       "      <th>DeviceType_desktop</th>\n",
       "      <th>DeviceType_mobile</th>\n",
       "      <th>DeviceType_nan</th>\n",
       "      <th>android_so</th>\n",
       "      <th>ios_so</th>\n",
       "      <th>mac_so</th>\n",
       "      <th>windows_so</th>\n",
       "      <th>linux_so</th>\n",
       "    </tr>\n",
       "  </thead>\n",
       "  <tbody>\n",
       "    <tr>\n",
       "      <th>0</th>\n",
       "      <td>NaN</td>\n",
       "      <td>NaN</td>\n",
       "      <td>NaN</td>\n",
       "      <td>NaN</td>\n",
       "      <td>NaN</td>\n",
       "      <td>NaN</td>\n",
       "      <td>NaN</td>\n",
       "      <td>0.0</td>\n",
       "      <td>NaN</td>\n",
       "      <td>NaN</td>\n",
       "      <td>...</td>\n",
       "      <td>0.032531</td>\n",
       "      <td>0.025390</td>\n",
       "      <td>0.0</td>\n",
       "      <td>0.0</td>\n",
       "      <td>1.0</td>\n",
       "      <td>0</td>\n",
       "      <td>0</td>\n",
       "      <td>0</td>\n",
       "      <td>0</td>\n",
       "      <td>0</td>\n",
       "    </tr>\n",
       "    <tr>\n",
       "      <th>1</th>\n",
       "      <td>NaN</td>\n",
       "      <td>NaN</td>\n",
       "      <td>NaN</td>\n",
       "      <td>NaN</td>\n",
       "      <td>NaN</td>\n",
       "      <td>NaN</td>\n",
       "      <td>NaN</td>\n",
       "      <td>0.0</td>\n",
       "      <td>NaN</td>\n",
       "      <td>NaN</td>\n",
       "      <td>...</td>\n",
       "      <td>0.032531</td>\n",
       "      <td>0.025390</td>\n",
       "      <td>0.0</td>\n",
       "      <td>0.0</td>\n",
       "      <td>1.0</td>\n",
       "      <td>0</td>\n",
       "      <td>0</td>\n",
       "      <td>0</td>\n",
       "      <td>0</td>\n",
       "      <td>0</td>\n",
       "    </tr>\n",
       "    <tr>\n",
       "      <th>2</th>\n",
       "      <td>NaN</td>\n",
       "      <td>NaN</td>\n",
       "      <td>NaN</td>\n",
       "      <td>NaN</td>\n",
       "      <td>NaN</td>\n",
       "      <td>NaN</td>\n",
       "      <td>NaN</td>\n",
       "      <td>0.0</td>\n",
       "      <td>NaN</td>\n",
       "      <td>NaN</td>\n",
       "      <td>...</td>\n",
       "      <td>0.032531</td>\n",
       "      <td>0.025390</td>\n",
       "      <td>0.0</td>\n",
       "      <td>0.0</td>\n",
       "      <td>1.0</td>\n",
       "      <td>0</td>\n",
       "      <td>0</td>\n",
       "      <td>0</td>\n",
       "      <td>0</td>\n",
       "      <td>0</td>\n",
       "    </tr>\n",
       "    <tr>\n",
       "      <th>3</th>\n",
       "      <td>NaN</td>\n",
       "      <td>NaN</td>\n",
       "      <td>NaN</td>\n",
       "      <td>NaN</td>\n",
       "      <td>NaN</td>\n",
       "      <td>NaN</td>\n",
       "      <td>NaN</td>\n",
       "      <td>0.0</td>\n",
       "      <td>NaN</td>\n",
       "      <td>NaN</td>\n",
       "      <td>...</td>\n",
       "      <td>0.032531</td>\n",
       "      <td>0.025390</td>\n",
       "      <td>0.0</td>\n",
       "      <td>0.0</td>\n",
       "      <td>1.0</td>\n",
       "      <td>0</td>\n",
       "      <td>0</td>\n",
       "      <td>0</td>\n",
       "      <td>0</td>\n",
       "      <td>0</td>\n",
       "    </tr>\n",
       "    <tr>\n",
       "      <th>4</th>\n",
       "      <td>NaN</td>\n",
       "      <td>NaN</td>\n",
       "      <td>NaN</td>\n",
       "      <td>NaN</td>\n",
       "      <td>NaN</td>\n",
       "      <td>NaN</td>\n",
       "      <td>NaN</td>\n",
       "      <td>0.0</td>\n",
       "      <td>NaN</td>\n",
       "      <td>NaN</td>\n",
       "      <td>...</td>\n",
       "      <td>0.032531</td>\n",
       "      <td>0.025390</td>\n",
       "      <td>0.0</td>\n",
       "      <td>0.0</td>\n",
       "      <td>1.0</td>\n",
       "      <td>0</td>\n",
       "      <td>0</td>\n",
       "      <td>0</td>\n",
       "      <td>0</td>\n",
       "      <td>0</td>\n",
       "    </tr>\n",
       "    <tr>\n",
       "      <th>...</th>\n",
       "      <td>...</td>\n",
       "      <td>...</td>\n",
       "      <td>...</td>\n",
       "      <td>...</td>\n",
       "      <td>...</td>\n",
       "      <td>...</td>\n",
       "      <td>...</td>\n",
       "      <td>...</td>\n",
       "      <td>...</td>\n",
       "      <td>...</td>\n",
       "      <td>...</td>\n",
       "      <td>...</td>\n",
       "      <td>...</td>\n",
       "      <td>...</td>\n",
       "      <td>...</td>\n",
       "      <td>...</td>\n",
       "      <td>...</td>\n",
       "      <td>...</td>\n",
       "      <td>...</td>\n",
       "      <td>...</td>\n",
       "      <td>...</td>\n",
       "    </tr>\n",
       "    <tr>\n",
       "      <th>506686</th>\n",
       "      <td>NaN</td>\n",
       "      <td>NaN</td>\n",
       "      <td>NaN</td>\n",
       "      <td>NaN</td>\n",
       "      <td>NaN</td>\n",
       "      <td>NaN</td>\n",
       "      <td>NaN</td>\n",
       "      <td>1.0</td>\n",
       "      <td>NaN</td>\n",
       "      <td>NaN</td>\n",
       "      <td>...</td>\n",
       "      <td>0.032531</td>\n",
       "      <td>0.025390</td>\n",
       "      <td>0.0</td>\n",
       "      <td>0.0</td>\n",
       "      <td>1.0</td>\n",
       "      <td>0</td>\n",
       "      <td>0</td>\n",
       "      <td>0</td>\n",
       "      <td>0</td>\n",
       "      <td>0</td>\n",
       "    </tr>\n",
       "    <tr>\n",
       "      <th>506687</th>\n",
       "      <td>1.0</td>\n",
       "      <td>1.0</td>\n",
       "      <td>1.0</td>\n",
       "      <td>1.0</td>\n",
       "      <td>1.0</td>\n",
       "      <td>0.0</td>\n",
       "      <td>1.0</td>\n",
       "      <td>1.0</td>\n",
       "      <td>1.0</td>\n",
       "      <td>NaN</td>\n",
       "      <td>...</td>\n",
       "      <td>0.032531</td>\n",
       "      <td>0.093264</td>\n",
       "      <td>0.0</td>\n",
       "      <td>1.0</td>\n",
       "      <td>0.0</td>\n",
       "      <td>0</td>\n",
       "      <td>0</td>\n",
       "      <td>0</td>\n",
       "      <td>0</td>\n",
       "      <td>0</td>\n",
       "    </tr>\n",
       "    <tr>\n",
       "      <th>506688</th>\n",
       "      <td>NaN</td>\n",
       "      <td>NaN</td>\n",
       "      <td>NaN</td>\n",
       "      <td>NaN</td>\n",
       "      <td>NaN</td>\n",
       "      <td>NaN</td>\n",
       "      <td>NaN</td>\n",
       "      <td>0.0</td>\n",
       "      <td>NaN</td>\n",
       "      <td>NaN</td>\n",
       "      <td>...</td>\n",
       "      <td>0.032531</td>\n",
       "      <td>0.025390</td>\n",
       "      <td>0.0</td>\n",
       "      <td>0.0</td>\n",
       "      <td>1.0</td>\n",
       "      <td>0</td>\n",
       "      <td>0</td>\n",
       "      <td>0</td>\n",
       "      <td>0</td>\n",
       "      <td>0</td>\n",
       "    </tr>\n",
       "    <tr>\n",
       "      <th>506689</th>\n",
       "      <td>NaN</td>\n",
       "      <td>NaN</td>\n",
       "      <td>NaN</td>\n",
       "      <td>NaN</td>\n",
       "      <td>NaN</td>\n",
       "      <td>NaN</td>\n",
       "      <td>NaN</td>\n",
       "      <td>0.0</td>\n",
       "      <td>NaN</td>\n",
       "      <td>NaN</td>\n",
       "      <td>...</td>\n",
       "      <td>0.032531</td>\n",
       "      <td>0.025390</td>\n",
       "      <td>0.0</td>\n",
       "      <td>0.0</td>\n",
       "      <td>1.0</td>\n",
       "      <td>0</td>\n",
       "      <td>0</td>\n",
       "      <td>0</td>\n",
       "      <td>0</td>\n",
       "      <td>0</td>\n",
       "    </tr>\n",
       "    <tr>\n",
       "      <th>506690</th>\n",
       "      <td>1.0</td>\n",
       "      <td>1.0</td>\n",
       "      <td>1.0</td>\n",
       "      <td>1.0</td>\n",
       "      <td>1.0</td>\n",
       "      <td>0.0</td>\n",
       "      <td>1.0</td>\n",
       "      <td>1.0</td>\n",
       "      <td>1.0</td>\n",
       "      <td>NaN</td>\n",
       "      <td>...</td>\n",
       "      <td>0.032531</td>\n",
       "      <td>0.011628</td>\n",
       "      <td>0.0</td>\n",
       "      <td>1.0</td>\n",
       "      <td>0.0</td>\n",
       "      <td>0</td>\n",
       "      <td>0</td>\n",
       "      <td>0</td>\n",
       "      <td>0</td>\n",
       "      <td>0</td>\n",
       "    </tr>\n",
       "  </tbody>\n",
       "</table>\n",
       "<p>506691 rows × 92 columns</p>\n",
       "</div>"
      ],
      "text/plain": [
       "        V200  V244  V258  V189  V243  V172  V187  ProductCD_C  V246  V156  \\\n",
       "0        NaN   NaN   NaN   NaN   NaN   NaN   NaN          0.0   NaN   NaN   \n",
       "1        NaN   NaN   NaN   NaN   NaN   NaN   NaN          0.0   NaN   NaN   \n",
       "2        NaN   NaN   NaN   NaN   NaN   NaN   NaN          0.0   NaN   NaN   \n",
       "3        NaN   NaN   NaN   NaN   NaN   NaN   NaN          0.0   NaN   NaN   \n",
       "4        NaN   NaN   NaN   NaN   NaN   NaN   NaN          0.0   NaN   NaN   \n",
       "...      ...   ...   ...   ...   ...   ...   ...          ...   ...   ...   \n",
       "506686   NaN   NaN   NaN   NaN   NaN   NaN   NaN          1.0   NaN   NaN   \n",
       "506687   1.0   1.0   1.0   1.0   1.0   0.0   1.0          1.0   1.0   NaN   \n",
       "506688   NaN   NaN   NaN   NaN   NaN   NaN   NaN          0.0   NaN   NaN   \n",
       "506689   NaN   NaN   NaN   NaN   NaN   NaN   NaN          0.0   NaN   NaN   \n",
       "506690   1.0   1.0   1.0   1.0   1.0   0.0   1.0          1.0   1.0   NaN   \n",
       "\n",
       "        ...     id_33  DeviceInfo  DeviceType_desktop  DeviceType_mobile  \\\n",
       "0       ...  0.032531    0.025390                 0.0                0.0   \n",
       "1       ...  0.032531    0.025390                 0.0                0.0   \n",
       "2       ...  0.032531    0.025390                 0.0                0.0   \n",
       "3       ...  0.032531    0.025390                 0.0                0.0   \n",
       "4       ...  0.032531    0.025390                 0.0                0.0   \n",
       "...     ...       ...         ...                 ...                ...   \n",
       "506686  ...  0.032531    0.025390                 0.0                0.0   \n",
       "506687  ...  0.032531    0.093264                 0.0                1.0   \n",
       "506688  ...  0.032531    0.025390                 0.0                0.0   \n",
       "506689  ...  0.032531    0.025390                 0.0                0.0   \n",
       "506690  ...  0.032531    0.011628                 0.0                1.0   \n",
       "\n",
       "        DeviceType_nan  android_so  ios_so  mac_so  windows_so  linux_so  \n",
       "0                  1.0           0       0       0           0         0  \n",
       "1                  1.0           0       0       0           0         0  \n",
       "2                  1.0           0       0       0           0         0  \n",
       "3                  1.0           0       0       0           0         0  \n",
       "4                  1.0           0       0       0           0         0  \n",
       "...                ...         ...     ...     ...         ...       ...  \n",
       "506686             1.0           0       0       0           0         0  \n",
       "506687             0.0           0       0       0           0         0  \n",
       "506688             1.0           0       0       0           0         0  \n",
       "506689             1.0           0       0       0           0         0  \n",
       "506690             0.0           0       0       0           0         0  \n",
       "\n",
       "[506691 rows x 92 columns]"
      ]
     },
     "execution_count": 55,
     "metadata": {},
     "output_type": "execute_result"
    }
   ],
   "source": [
    "test"
   ]
  },
  {
   "cell_type": "code",
   "execution_count": 56,
   "id": "a3ab7777-99c5-4c3f-a47a-1b1c5737e7da",
   "metadata": {},
   "outputs": [],
   "source": [
    "pred = best_model.predict_proba(test.values)"
   ]
  },
  {
   "cell_type": "code",
   "execution_count": 57,
   "id": "891d18af-0846-4e27-bd7b-0ace3664b6bc",
   "metadata": {},
   "outputs": [
    {
     "data": {
      "text/html": [
       "<div>\n",
       "<style scoped>\n",
       "    .dataframe tbody tr th:only-of-type {\n",
       "        vertical-align: middle;\n",
       "    }\n",
       "\n",
       "    .dataframe tbody tr th {\n",
       "        vertical-align: top;\n",
       "    }\n",
       "\n",
       "    .dataframe thead th {\n",
       "        text-align: right;\n",
       "    }\n",
       "</style>\n",
       "<table border=\"1\" class=\"dataframe\">\n",
       "  <thead>\n",
       "    <tr style=\"text-align: right;\">\n",
       "      <th></th>\n",
       "      <th>TransactionID</th>\n",
       "      <th>isFraud</th>\n",
       "    </tr>\n",
       "  </thead>\n",
       "  <tbody>\n",
       "    <tr>\n",
       "      <th>0</th>\n",
       "      <td>3663549</td>\n",
       "      <td>0.000001</td>\n",
       "    </tr>\n",
       "    <tr>\n",
       "      <th>1</th>\n",
       "      <td>3663550</td>\n",
       "      <td>0.008713</td>\n",
       "    </tr>\n",
       "    <tr>\n",
       "      <th>2</th>\n",
       "      <td>3663551</td>\n",
       "      <td>0.000011</td>\n",
       "    </tr>\n",
       "    <tr>\n",
       "      <th>3</th>\n",
       "      <td>3663552</td>\n",
       "      <td>0.003197</td>\n",
       "    </tr>\n",
       "    <tr>\n",
       "      <th>4</th>\n",
       "      <td>3663553</td>\n",
       "      <td>0.002220</td>\n",
       "    </tr>\n",
       "    <tr>\n",
       "      <th>...</th>\n",
       "      <td>...</td>\n",
       "      <td>...</td>\n",
       "    </tr>\n",
       "    <tr>\n",
       "      <th>506686</th>\n",
       "      <td>4170235</td>\n",
       "      <td>0.023842</td>\n",
       "    </tr>\n",
       "    <tr>\n",
       "      <th>506687</th>\n",
       "      <td>4170236</td>\n",
       "      <td>0.012982</td>\n",
       "    </tr>\n",
       "    <tr>\n",
       "      <th>506688</th>\n",
       "      <td>4170237</td>\n",
       "      <td>0.006866</td>\n",
       "    </tr>\n",
       "    <tr>\n",
       "      <th>506689</th>\n",
       "      <td>4170238</td>\n",
       "      <td>0.000017</td>\n",
       "    </tr>\n",
       "    <tr>\n",
       "      <th>506690</th>\n",
       "      <td>4170239</td>\n",
       "      <td>0.000003</td>\n",
       "    </tr>\n",
       "  </tbody>\n",
       "</table>\n",
       "<p>506691 rows × 2 columns</p>\n",
       "</div>"
      ],
      "text/plain": [
       "        TransactionID   isFraud\n",
       "0             3663549  0.000001\n",
       "1             3663550  0.008713\n",
       "2             3663551  0.000011\n",
       "3             3663552  0.003197\n",
       "4             3663553  0.002220\n",
       "...               ...       ...\n",
       "506686        4170235  0.023842\n",
       "506687        4170236  0.012982\n",
       "506688        4170237  0.006866\n",
       "506689        4170238  0.000017\n",
       "506690        4170239  0.000003\n",
       "\n",
       "[506691 rows x 2 columns]"
      ]
     },
     "execution_count": 57,
     "metadata": {},
     "output_type": "execute_result"
    }
   ],
   "source": [
    "data = {\"TransactionID\": test_ids,\n",
    "    \"isFraud\": pred[:, 1]}\n",
    "\n",
    "submission = pd.DataFrame(data)\n",
    "submission"
   ]
  },
  {
   "cell_type": "code",
   "execution_count": 58,
   "id": "373f3dba-43ff-4bfb-bb27-6989886f100c",
   "metadata": {},
   "outputs": [],
   "source": [
    "#submission.to_csv(\"xgboost_submission.csv\", index = False)\n",
    "#score en competencia da 0.747660"
   ]
  },
  {
   "cell_type": "code",
   "execution_count": null,
   "id": "729296e1-f947-4fcd-821e-0ed1a075ed4c",
   "metadata": {},
   "outputs": [],
   "source": []
  }
 ],
 "metadata": {
  "kernelspec": {
   "display_name": "Python 3",
   "language": "python",
   "name": "python3"
  },
  "language_info": {
   "codemirror_mode": {
    "name": "ipython",
    "version": 3
   },
   "file_extension": ".py",
   "mimetype": "text/x-python",
   "name": "python",
   "nbconvert_exporter": "python",
   "pygments_lexer": "ipython3",
   "version": "3.8.10"
  }
 },
 "nbformat": 4,
 "nbformat_minor": 5
}
